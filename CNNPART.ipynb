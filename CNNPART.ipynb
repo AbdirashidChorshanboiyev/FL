{
  "cells": [
    {
      "cell_type": "code",
      "execution_count": 6,
      "metadata": {
        "id": "bDVlzPbGysFo"
      },
      "outputs": [],
      "source": [
        "import torch\n",
        "from torch import nn\n",
        "from torch.utils.data import DataLoader, random_split, Subset\n",
        "from torchvision import datasets\n",
        "from torchvision.transforms import ToTensor, Lambda, Compose\n",
        "import matplotlib.pyplot as plt\n",
        "import torch.optim as optim\n",
        "import torch.nn.functional as F\n",
        "\n"
      ]
    },
    {
      "cell_type": "code",
      "execution_count": 3,
      "metadata": {},
      "outputs": [
        {
          "ename": "SyntaxError",
          "evalue": "invalid syntax (2075596213.py, line 1)",
          "output_type": "error",
          "traceback": [
            "\u001b[0;36m  Cell \u001b[0;32mIn[3], line 1\u001b[0;36m\u001b[0m\n\u001b[0;31m    git clone https://github.com/RCH98/FL.git\u001b[0m\n\u001b[0m        ^\u001b[0m\n\u001b[0;31mSyntaxError\u001b[0m\u001b[0;31m:\u001b[0m invalid syntax\n"
          ]
        }
      ],
      "source": [
        "git clone https://github.com/RCH98/FL.git"
      ]
    },
    {
      "cell_type": "code",
      "execution_count": 4,
      "metadata": {},
      "outputs": [
        {
          "name": "stderr",
          "output_type": "stream",
          "text": [
            "8862.28s - pydevd: Sending message related to process being replaced timed-out after 5 seconds\n"
          ]
        },
        {
          "name": "stdout",
          "output_type": "stream",
          "text": [
            "Defaulting to user installation because normal site-packages is not writeable\n",
            "Requirement already satisfied: colabcode in /Users/abdirashidchorshanbiyev/Library/Python/3.9/lib/python/site-packages (0.3.0)\n",
            "Requirement already satisfied: uvicorn==0.13.1 in /Users/abdirashidchorshanbiyev/Library/Python/3.9/lib/python/site-packages (from colabcode) (0.13.1)\n",
            "Requirement already satisfied: jupyterlab==3.0.7 in /Users/abdirashidchorshanbiyev/Library/Python/3.9/lib/python/site-packages (from colabcode) (3.0.7)\n",
            "Requirement already satisfied: pyngrok>=5.0.0 in /Users/abdirashidchorshanbiyev/Library/Python/3.9/lib/python/site-packages (from colabcode) (7.2.1)\n",
            "Requirement already satisfied: nest-asyncio==1.4.3 in /Users/abdirashidchorshanbiyev/Library/Python/3.9/lib/python/site-packages (from colabcode) (1.4.3)\n",
            "Requirement already satisfied: jupyter-server~=1.2 in /Users/abdirashidchorshanbiyev/Library/Python/3.9/lib/python/site-packages (from jupyterlab==3.0.7->colabcode) (1.24.0)\n",
            "Requirement already satisfied: jupyter-core in /Users/abdirashidchorshanbiyev/Library/Python/3.9/lib/python/site-packages (from jupyterlab==3.0.7->colabcode) (5.7.2)\n",
            "Requirement already satisfied: ipython in /Users/abdirashidchorshanbiyev/Library/Python/3.9/lib/python/site-packages (from jupyterlab==3.0.7->colabcode) (8.18.1)\n",
            "Requirement already satisfied: nbclassic~=0.2 in /Users/abdirashidchorshanbiyev/Library/Python/3.9/lib/python/site-packages (from jupyterlab==3.0.7->colabcode) (0.3.7)\n",
            "Requirement already satisfied: packaging in /Users/abdirashidchorshanbiyev/Library/Python/3.9/lib/python/site-packages (from jupyterlab==3.0.7->colabcode) (24.1)\n",
            "Requirement already satisfied: jinja2>=2.10 in /Users/abdirashidchorshanbiyev/Library/Python/3.9/lib/python/site-packages (from jupyterlab==3.0.7->colabcode) (3.1.4)\n",
            "Requirement already satisfied: tornado>=6.1.0 in /Users/abdirashidchorshanbiyev/Library/Python/3.9/lib/python/site-packages (from jupyterlab==3.0.7->colabcode) (6.4.1)\n",
            "Requirement already satisfied: jupyterlab-server~=2.0 in /Users/abdirashidchorshanbiyev/Library/Python/3.9/lib/python/site-packages (from jupyterlab==3.0.7->colabcode) (2.27.3)\n",
            "Requirement already satisfied: h11>=0.8 in /Users/abdirashidchorshanbiyev/Library/Python/3.9/lib/python/site-packages (from uvicorn==0.13.1->colabcode) (0.14.0)\n",
            "Requirement already satisfied: click==7.* in /Users/abdirashidchorshanbiyev/Library/Python/3.9/lib/python/site-packages (from uvicorn==0.13.1->colabcode) (7.1.2)\n",
            "Requirement already satisfied: MarkupSafe>=2.0 in /Users/abdirashidchorshanbiyev/Library/Python/3.9/lib/python/site-packages (from jinja2>=2.10->jupyterlab==3.0.7->colabcode) (3.0.2)\n",
            "Requirement already satisfied: argon2-cffi in /Users/abdirashidchorshanbiyev/Library/Python/3.9/lib/python/site-packages (from jupyter-server~=1.2->jupyterlab==3.0.7->colabcode) (23.1.0)\n",
            "Requirement already satisfied: nbformat>=5.2.0 in /Users/abdirashidchorshanbiyev/Library/Python/3.9/lib/python/site-packages (from jupyter-server~=1.2->jupyterlab==3.0.7->colabcode) (5.10.4)\n",
            "Requirement already satisfied: traitlets>=5.1 in /Users/abdirashidchorshanbiyev/Library/Python/3.9/lib/python/site-packages (from jupyter-server~=1.2->jupyterlab==3.0.7->colabcode) (5.14.3)\n",
            "Requirement already satisfied: jupyter-client>=6.1.12 in /Users/abdirashidchorshanbiyev/Library/Python/3.9/lib/python/site-packages (from jupyter-server~=1.2->jupyterlab==3.0.7->colabcode) (8.6.3)\n",
            "Requirement already satisfied: pyzmq>=17 in /Users/abdirashidchorshanbiyev/Library/Python/3.9/lib/python/site-packages (from jupyter-server~=1.2->jupyterlab==3.0.7->colabcode) (26.2.0)\n",
            "Requirement already satisfied: anyio<4,>=3.1.0 in /Users/abdirashidchorshanbiyev/Library/Python/3.9/lib/python/site-packages (from jupyter-server~=1.2->jupyterlab==3.0.7->colabcode) (3.7.1)\n",
            "Requirement already satisfied: nbconvert>=6.4.4 in /Users/abdirashidchorshanbiyev/Library/Python/3.9/lib/python/site-packages (from jupyter-server~=1.2->jupyterlab==3.0.7->colabcode) (7.16.4)\n",
            "Requirement already satisfied: Send2Trash in /Users/abdirashidchorshanbiyev/Library/Python/3.9/lib/python/site-packages (from jupyter-server~=1.2->jupyterlab==3.0.7->colabcode) (1.8.3)\n",
            "Requirement already satisfied: prometheus-client in /Users/abdirashidchorshanbiyev/Library/Python/3.9/lib/python/site-packages (from jupyter-server~=1.2->jupyterlab==3.0.7->colabcode) (0.21.0)\n",
            "Requirement already satisfied: websocket-client in /Users/abdirashidchorshanbiyev/Library/Python/3.9/lib/python/site-packages (from jupyter-server~=1.2->jupyterlab==3.0.7->colabcode) (1.8.0)\n",
            "Requirement already satisfied: terminado>=0.8.3 in /Users/abdirashidchorshanbiyev/Library/Python/3.9/lib/python/site-packages (from jupyter-server~=1.2->jupyterlab==3.0.7->colabcode) (0.18.1)\n",
            "Requirement already satisfied: sniffio>=1.1 in /Users/abdirashidchorshanbiyev/Library/Python/3.9/lib/python/site-packages (from anyio<4,>=3.1.0->jupyter-server~=1.2->jupyterlab==3.0.7->colabcode) (1.3.1)\n",
            "Requirement already satisfied: idna>=2.8 in /Users/abdirashidchorshanbiyev/Library/Python/3.9/lib/python/site-packages (from anyio<4,>=3.1.0->jupyter-server~=1.2->jupyterlab==3.0.7->colabcode) (3.10)\n",
            "Requirement already satisfied: exceptiongroup in /Users/abdirashidchorshanbiyev/Library/Python/3.9/lib/python/site-packages (from anyio<4,>=3.1.0->jupyter-server~=1.2->jupyterlab==3.0.7->colabcode) (1.2.2)\n",
            "Requirement already satisfied: python-dateutil>=2.8.2 in /Users/abdirashidchorshanbiyev/Library/Python/3.9/lib/python/site-packages (from jupyter-client>=6.1.12->jupyter-server~=1.2->jupyterlab==3.0.7->colabcode) (2.9.0.post0)\n",
            "Requirement already satisfied: importlib-metadata>=4.8.3 in /Users/abdirashidchorshanbiyev/Library/Python/3.9/lib/python/site-packages (from jupyter-client>=6.1.12->jupyter-server~=1.2->jupyterlab==3.0.7->colabcode) (8.5.0)\n",
            "Requirement already satisfied: zipp>=3.20 in /Users/abdirashidchorshanbiyev/Library/Python/3.9/lib/python/site-packages (from importlib-metadata>=4.8.3->jupyter-client>=6.1.12->jupyter-server~=1.2->jupyterlab==3.0.7->colabcode) (3.20.2)\n",
            "Requirement already satisfied: platformdirs>=2.5 in /Users/abdirashidchorshanbiyev/Library/Python/3.9/lib/python/site-packages (from jupyter-core->jupyterlab==3.0.7->colabcode) (4.3.6)\n",
            "Requirement already satisfied: requests>=2.31 in /Users/abdirashidchorshanbiyev/Library/Python/3.9/lib/python/site-packages (from jupyterlab-server~=2.0->jupyterlab==3.0.7->colabcode) (2.32.3)\n",
            "Requirement already satisfied: json5>=0.9.0 in /Users/abdirashidchorshanbiyev/Library/Python/3.9/lib/python/site-packages (from jupyterlab-server~=2.0->jupyterlab==3.0.7->colabcode) (0.9.28)\n",
            "Requirement already satisfied: jsonschema>=4.18.0 in /Users/abdirashidchorshanbiyev/Library/Python/3.9/lib/python/site-packages (from jupyterlab-server~=2.0->jupyterlab==3.0.7->colabcode) (4.23.0)\n",
            "Requirement already satisfied: babel>=2.10 in /Users/abdirashidchorshanbiyev/Library/Python/3.9/lib/python/site-packages (from jupyterlab-server~=2.0->jupyterlab==3.0.7->colabcode) (2.16.0)\n",
            "Requirement already satisfied: referencing>=0.28.4 in /Users/abdirashidchorshanbiyev/Library/Python/3.9/lib/python/site-packages (from jsonschema>=4.18.0->jupyterlab-server~=2.0->jupyterlab==3.0.7->colabcode) (0.35.1)\n",
            "Requirement already satisfied: attrs>=22.2.0 in /Users/abdirashidchorshanbiyev/Library/Python/3.9/lib/python/site-packages (from jsonschema>=4.18.0->jupyterlab-server~=2.0->jupyterlab==3.0.7->colabcode) (24.2.0)\n",
            "Requirement already satisfied: jsonschema-specifications>=2023.03.6 in /Users/abdirashidchorshanbiyev/Library/Python/3.9/lib/python/site-packages (from jsonschema>=4.18.0->jupyterlab-server~=2.0->jupyterlab==3.0.7->colabcode) (2024.10.1)\n",
            "Requirement already satisfied: rpds-py>=0.7.1 in /Users/abdirashidchorshanbiyev/Library/Python/3.9/lib/python/site-packages (from jsonschema>=4.18.0->jupyterlab-server~=2.0->jupyterlab==3.0.7->colabcode) (0.21.0)\n",
            "Requirement already satisfied: notebook<7 in /Users/abdirashidchorshanbiyev/Library/Python/3.9/lib/python/site-packages (from nbclassic~=0.2->jupyterlab==3.0.7->colabcode) (6.4.5)\n",
            "Requirement already satisfied: notebook-shim>=0.1.0 in /Users/abdirashidchorshanbiyev/Library/Python/3.9/lib/python/site-packages (from nbclassic~=0.2->jupyterlab==3.0.7->colabcode) (0.2.4)\n",
            "Requirement already satisfied: jupyterlab-pygments in /Users/abdirashidchorshanbiyev/Library/Python/3.9/lib/python/site-packages (from nbconvert>=6.4.4->jupyter-server~=1.2->jupyterlab==3.0.7->colabcode) (0.3.0)\n",
            "Requirement already satisfied: mistune<4,>=2.0.3 in /Users/abdirashidchorshanbiyev/Library/Python/3.9/lib/python/site-packages (from nbconvert>=6.4.4->jupyter-server~=1.2->jupyterlab==3.0.7->colabcode) (3.0.2)\n",
            "Requirement already satisfied: nbclient>=0.5.0 in /Users/abdirashidchorshanbiyev/Library/Python/3.9/lib/python/site-packages (from nbconvert>=6.4.4->jupyter-server~=1.2->jupyterlab==3.0.7->colabcode) (0.10.0)\n",
            "Requirement already satisfied: pandocfilters>=1.4.1 in /Users/abdirashidchorshanbiyev/Library/Python/3.9/lib/python/site-packages (from nbconvert>=6.4.4->jupyter-server~=1.2->jupyterlab==3.0.7->colabcode) (1.5.1)\n",
            "Requirement already satisfied: pygments>=2.4.1 in /Users/abdirashidchorshanbiyev/Library/Python/3.9/lib/python/site-packages (from nbconvert>=6.4.4->jupyter-server~=1.2->jupyterlab==3.0.7->colabcode) (2.18.0)\n",
            "Requirement already satisfied: beautifulsoup4 in /Users/abdirashidchorshanbiyev/Library/Python/3.9/lib/python/site-packages (from nbconvert>=6.4.4->jupyter-server~=1.2->jupyterlab==3.0.7->colabcode) (4.12.3)\n",
            "Requirement already satisfied: tinycss2 in /Users/abdirashidchorshanbiyev/Library/Python/3.9/lib/python/site-packages (from nbconvert>=6.4.4->jupyter-server~=1.2->jupyterlab==3.0.7->colabcode) (1.4.0)\n",
            "Requirement already satisfied: defusedxml in /Users/abdirashidchorshanbiyev/Library/Python/3.9/lib/python/site-packages (from nbconvert>=6.4.4->jupyter-server~=1.2->jupyterlab==3.0.7->colabcode) (0.7.1)\n",
            "Requirement already satisfied: bleach!=5.0.0 in /Users/abdirashidchorshanbiyev/Library/Python/3.9/lib/python/site-packages (from nbconvert>=6.4.4->jupyter-server~=1.2->jupyterlab==3.0.7->colabcode) (6.2.0)\n",
            "Requirement already satisfied: webencodings in /Users/abdirashidchorshanbiyev/Library/Python/3.9/lib/python/site-packages (from bleach!=5.0.0->nbconvert>=6.4.4->jupyter-server~=1.2->jupyterlab==3.0.7->colabcode) (0.5.1)\n",
            "Requirement already satisfied: fastjsonschema>=2.15 in /Users/abdirashidchorshanbiyev/Library/Python/3.9/lib/python/site-packages (from nbformat>=5.2.0->jupyter-server~=1.2->jupyterlab==3.0.7->colabcode) (2.20.0)\n",
            "Requirement already satisfied: ipykernel in /Users/abdirashidchorshanbiyev/Library/Python/3.9/lib/python/site-packages (from notebook<7->nbclassic~=0.2->jupyterlab==3.0.7->colabcode) (6.29.5)\n",
            "Requirement already satisfied: ipython-genutils in /Users/abdirashidchorshanbiyev/Library/Python/3.9/lib/python/site-packages (from notebook<7->nbclassic~=0.2->jupyterlab==3.0.7->colabcode) (0.2.0)\n",
            "Requirement already satisfied: PyYAML>=5.1 in /Users/abdirashidchorshanbiyev/Library/Python/3.9/lib/python/site-packages (from pyngrok>=5.0.0->colabcode) (6.0.2)\n",
            "Requirement already satisfied: six>=1.5 in /Library/Developer/CommandLineTools/Library/Frameworks/Python3.framework/Versions/3.9/lib/python3.9/site-packages (from python-dateutil>=2.8.2->jupyter-client>=6.1.12->jupyter-server~=1.2->jupyterlab==3.0.7->colabcode) (1.15.0)\n",
            "Requirement already satisfied: urllib3<3,>=1.21.1 in /Users/abdirashidchorshanbiyev/Library/Python/3.9/lib/python/site-packages (from requests>=2.31->jupyterlab-server~=2.0->jupyterlab==3.0.7->colabcode) (2.2.3)\n",
            "Requirement already satisfied: charset-normalizer<4,>=2 in /Users/abdirashidchorshanbiyev/Library/Python/3.9/lib/python/site-packages (from requests>=2.31->jupyterlab-server~=2.0->jupyterlab==3.0.7->colabcode) (3.4.0)\n",
            "Requirement already satisfied: certifi>=2017.4.17 in /Users/abdirashidchorshanbiyev/Library/Python/3.9/lib/python/site-packages (from requests>=2.31->jupyterlab-server~=2.0->jupyterlab==3.0.7->colabcode) (2024.8.30)\n",
            "Requirement already satisfied: ptyprocess in /Users/abdirashidchorshanbiyev/Library/Python/3.9/lib/python/site-packages (from terminado>=0.8.3->jupyter-server~=1.2->jupyterlab==3.0.7->colabcode) (0.7.0)\n",
            "Requirement already satisfied: argon2-cffi-bindings in /Users/abdirashidchorshanbiyev/Library/Python/3.9/lib/python/site-packages (from argon2-cffi->jupyter-server~=1.2->jupyterlab==3.0.7->colabcode) (21.2.0)\n",
            "Requirement already satisfied: cffi>=1.0.1 in /Users/abdirashidchorshanbiyev/Library/Python/3.9/lib/python/site-packages (from argon2-cffi-bindings->argon2-cffi->jupyter-server~=1.2->jupyterlab==3.0.7->colabcode) (1.17.1)\n",
            "Requirement already satisfied: pycparser in /Users/abdirashidchorshanbiyev/Library/Python/3.9/lib/python/site-packages (from cffi>=1.0.1->argon2-cffi-bindings->argon2-cffi->jupyter-server~=1.2->jupyterlab==3.0.7->colabcode) (2.22)\n",
            "Requirement already satisfied: soupsieve>1.2 in /Users/abdirashidchorshanbiyev/Library/Python/3.9/lib/python/site-packages (from beautifulsoup4->nbconvert>=6.4.4->jupyter-server~=1.2->jupyterlab==3.0.7->colabcode) (2.6)\n",
            "Requirement already satisfied: debugpy>=1.6.5 in /Users/abdirashidchorshanbiyev/Library/Python/3.9/lib/python/site-packages (from ipykernel->notebook<7->nbclassic~=0.2->jupyterlab==3.0.7->colabcode) (1.8.6)\n",
            "Requirement already satisfied: matplotlib-inline>=0.1 in /Users/abdirashidchorshanbiyev/Library/Python/3.9/lib/python/site-packages (from ipykernel->notebook<7->nbclassic~=0.2->jupyterlab==3.0.7->colabcode) (0.1.7)\n",
            "Requirement already satisfied: psutil in /Users/abdirashidchorshanbiyev/Library/Python/3.9/lib/python/site-packages (from ipykernel->notebook<7->nbclassic~=0.2->jupyterlab==3.0.7->colabcode) (6.0.0)\n",
            "Requirement already satisfied: comm>=0.1.1 in /Users/abdirashidchorshanbiyev/Library/Python/3.9/lib/python/site-packages (from ipykernel->notebook<7->nbclassic~=0.2->jupyterlab==3.0.7->colabcode) (0.2.2)\n",
            "Requirement already satisfied: appnope in /Users/abdirashidchorshanbiyev/Library/Python/3.9/lib/python/site-packages (from ipykernel->notebook<7->nbclassic~=0.2->jupyterlab==3.0.7->colabcode) (0.1.4)\n",
            "Requirement already satisfied: stack-data in /Users/abdirashidchorshanbiyev/Library/Python/3.9/lib/python/site-packages (from ipython->jupyterlab==3.0.7->colabcode) (0.6.3)\n",
            "Requirement already satisfied: jedi>=0.16 in /Users/abdirashidchorshanbiyev/Library/Python/3.9/lib/python/site-packages (from ipython->jupyterlab==3.0.7->colabcode) (0.19.1)\n",
            "Requirement already satisfied: decorator in /Users/abdirashidchorshanbiyev/Library/Python/3.9/lib/python/site-packages (from ipython->jupyterlab==3.0.7->colabcode) (5.1.1)\n",
            "Requirement already satisfied: prompt-toolkit<3.1.0,>=3.0.41 in /Users/abdirashidchorshanbiyev/Library/Python/3.9/lib/python/site-packages (from ipython->jupyterlab==3.0.7->colabcode) (3.0.48)\n",
            "Requirement already satisfied: typing-extensions in /Users/abdirashidchorshanbiyev/Library/Python/3.9/lib/python/site-packages (from ipython->jupyterlab==3.0.7->colabcode) (4.12.2)\n",
            "Requirement already satisfied: pexpect>4.3 in /Users/abdirashidchorshanbiyev/Library/Python/3.9/lib/python/site-packages (from ipython->jupyterlab==3.0.7->colabcode) (4.9.0)\n",
            "Requirement already satisfied: parso<0.9.0,>=0.8.3 in /Users/abdirashidchorshanbiyev/Library/Python/3.9/lib/python/site-packages (from jedi>=0.16->ipython->jupyterlab==3.0.7->colabcode) (0.8.4)\n",
            "Requirement already satisfied: wcwidth in /Users/abdirashidchorshanbiyev/Library/Python/3.9/lib/python/site-packages (from prompt-toolkit<3.1.0,>=3.0.41->ipython->jupyterlab==3.0.7->colabcode) (0.2.13)\n",
            "Requirement already satisfied: asttokens>=2.1.0 in /Users/abdirashidchorshanbiyev/Library/Python/3.9/lib/python/site-packages (from stack-data->ipython->jupyterlab==3.0.7->colabcode) (2.4.1)\n",
            "Requirement already satisfied: pure-eval in /Users/abdirashidchorshanbiyev/Library/Python/3.9/lib/python/site-packages (from stack-data->ipython->jupyterlab==3.0.7->colabcode) (0.2.3)\n",
            "Requirement already satisfied: executing>=1.2.0 in /Users/abdirashidchorshanbiyev/Library/Python/3.9/lib/python/site-packages (from stack-data->ipython->jupyterlab==3.0.7->colabcode) (2.1.0)\n",
            "\u001b[33mWARNING: You are using pip version 21.2.4; however, version 24.3.1 is available.\n",
            "You should consider upgrading via the '/Library/Developer/CommandLineTools/usr/bin/python3 -m pip install --upgrade pip' command.\u001b[0m\n"
          ]
        }
      ],
      "source": [
        "!pip3 install colabcode"
      ]
    },
    {
      "cell_type": "code",
      "execution_count": 9,
      "metadata": {},
      "outputs": [],
      "source": [
        "from colabcode import ColabCode"
      ]
    },
    {
      "cell_type": "code",
      "execution_count": 10,
      "metadata": {},
      "outputs": [
        {
          "name": "stdout",
          "output_type": "stream",
          "text": [
            "Name: colabcode\n",
            "Version: 0.3.0\n",
            "Summary: ColabCode - Run codeserver on Colab!\n",
            "Home-page: https://github.com/abhishekkrthakur/colabcode\n",
            "Author: Abhishek Thakur\n",
            "Author-email: abhishek4@gmail.com\n",
            "License: MIT License\n",
            "Location: /Users/abdirashidchorshanbiyev/Library/Python/3.9/lib/python/site-packages\n",
            "Requires: jupyterlab, nest-asyncio, pyngrok, uvicorn\n",
            "Required-by: \n"
          ]
        }
      ],
      "source": [
        "! pip3 show colabcode"
      ]
    },
    {
      "cell_type": "code",
      "execution_count": 12,
      "metadata": {},
      "outputs": [
        {
          "ename": "FileNotFoundError",
          "evalue": "[Errno 2] No such file or directory: 'wget'",
          "output_type": "error",
          "traceback": [
            "\u001b[0;31m---------------------------------------------------------------------------\u001b[0m",
            "\u001b[0;31mFileNotFoundError\u001b[0m                         Traceback (most recent call last)",
            "Cell \u001b[0;32mIn[12], line 1\u001b[0m\n\u001b[0;32m----> 1\u001b[0m \u001b[43mColabCode\u001b[49m\u001b[43m(\u001b[49m\u001b[43mport\u001b[49m\u001b[38;5;241;43m=\u001b[39;49m\u001b[38;5;241;43m10000\u001b[39;49m\u001b[43m)\u001b[49m\n",
            "File \u001b[0;32m~/Library/Python/3.9/lib/python/site-packages/colabcode/code.py:42\u001b[0m, in \u001b[0;36mColabCode.__init__\u001b[0;34m(self, port, password, authtoken, mount_drive, code, lab)\u001b[0m\n\u001b[1;32m     40\u001b[0m     \u001b[38;5;28mself\u001b[39m\u001b[38;5;241m.\u001b[39m_run_lab()\n\u001b[1;32m     41\u001b[0m \u001b[38;5;28;01mif\u001b[39;00m \u001b[38;5;28mself\u001b[39m\u001b[38;5;241m.\u001b[39m_code:\n\u001b[0;32m---> 42\u001b[0m     \u001b[38;5;28;43mself\u001b[39;49m\u001b[38;5;241;43m.\u001b[39;49m\u001b[43m_install_code\u001b[49m\u001b[43m(\u001b[49m\u001b[43m)\u001b[49m\n\u001b[1;32m     43\u001b[0m     \u001b[38;5;28mself\u001b[39m\u001b[38;5;241m.\u001b[39m_install_extensions()\n\u001b[1;32m     44\u001b[0m     \u001b[38;5;28mself\u001b[39m\u001b[38;5;241m.\u001b[39m_start_server()\n",
            "File \u001b[0;32m~/Library/Python/3.9/lib/python/site-packages/colabcode/code.py:49\u001b[0m, in \u001b[0;36mColabCode._install_code\u001b[0;34m()\u001b[0m\n\u001b[1;32m     47\u001b[0m \u001b[38;5;129m@staticmethod\u001b[39m\n\u001b[1;32m     48\u001b[0m \u001b[38;5;28;01mdef\u001b[39;00m \u001b[38;5;21m_install_code\u001b[39m():\n\u001b[0;32m---> 49\u001b[0m     \u001b[43msubprocess\u001b[49m\u001b[38;5;241;43m.\u001b[39;49m\u001b[43mrun\u001b[49m\u001b[43m(\u001b[49m\u001b[43m[\u001b[49m\u001b[38;5;124;43m\"\u001b[39;49m\u001b[38;5;124;43mwget\u001b[39;49m\u001b[38;5;124;43m\"\u001b[39;49m\u001b[43m,\u001b[49m\u001b[43m \u001b[49m\u001b[38;5;124;43m\"\u001b[39;49m\u001b[38;5;124;43mhttps://code-server.dev/install.sh\u001b[39;49m\u001b[38;5;124;43m\"\u001b[39;49m\u001b[43m]\u001b[49m\u001b[43m,\u001b[49m\u001b[43m \u001b[49m\u001b[43mstdout\u001b[49m\u001b[38;5;241;43m=\u001b[39;49m\u001b[43msubprocess\u001b[49m\u001b[38;5;241;43m.\u001b[39;49m\u001b[43mPIPE\u001b[49m\u001b[43m)\u001b[49m\n\u001b[1;32m     50\u001b[0m     subprocess\u001b[38;5;241m.\u001b[39mrun(\n\u001b[1;32m     51\u001b[0m         [\u001b[38;5;124m\"\u001b[39m\u001b[38;5;124msh\u001b[39m\u001b[38;5;124m\"\u001b[39m, \u001b[38;5;124m\"\u001b[39m\u001b[38;5;124minstall.sh\u001b[39m\u001b[38;5;124m\"\u001b[39m, \u001b[38;5;124m\"\u001b[39m\u001b[38;5;124m--version\u001b[39m\u001b[38;5;124m\"\u001b[39m, \u001b[38;5;124mf\u001b[39m\u001b[38;5;124m\"\u001b[39m\u001b[38;5;132;01m{\u001b[39;00mCODESERVER_VERSION\u001b[38;5;132;01m}\u001b[39;00m\u001b[38;5;124m\"\u001b[39m],\n\u001b[1;32m     52\u001b[0m         stdout\u001b[38;5;241m=\u001b[39msubprocess\u001b[38;5;241m.\u001b[39mPIPE,\n\u001b[1;32m     53\u001b[0m     )\n",
            "File \u001b[0;32m/Library/Developer/CommandLineTools/Library/Frameworks/Python3.framework/Versions/3.9/lib/python3.9/subprocess.py:505\u001b[0m, in \u001b[0;36mrun\u001b[0;34m(input, capture_output, timeout, check, *popenargs, **kwargs)\u001b[0m\n\u001b[1;32m    502\u001b[0m     kwargs[\u001b[38;5;124m'\u001b[39m\u001b[38;5;124mstdout\u001b[39m\u001b[38;5;124m'\u001b[39m] \u001b[38;5;241m=\u001b[39m PIPE\n\u001b[1;32m    503\u001b[0m     kwargs[\u001b[38;5;124m'\u001b[39m\u001b[38;5;124mstderr\u001b[39m\u001b[38;5;124m'\u001b[39m] \u001b[38;5;241m=\u001b[39m PIPE\n\u001b[0;32m--> 505\u001b[0m \u001b[38;5;28;01mwith\u001b[39;00m \u001b[43mPopen\u001b[49m\u001b[43m(\u001b[49m\u001b[38;5;241;43m*\u001b[39;49m\u001b[43mpopenargs\u001b[49m\u001b[43m,\u001b[49m\u001b[43m \u001b[49m\u001b[38;5;241;43m*\u001b[39;49m\u001b[38;5;241;43m*\u001b[39;49m\u001b[43mkwargs\u001b[49m\u001b[43m)\u001b[49m \u001b[38;5;28;01mas\u001b[39;00m process:\n\u001b[1;32m    506\u001b[0m     \u001b[38;5;28;01mtry\u001b[39;00m:\n\u001b[1;32m    507\u001b[0m         stdout, stderr \u001b[38;5;241m=\u001b[39m process\u001b[38;5;241m.\u001b[39mcommunicate(\u001b[38;5;28minput\u001b[39m, timeout\u001b[38;5;241m=\u001b[39mtimeout)\n",
            "File \u001b[0;32m/Library/Developer/CommandLineTools/Library/Frameworks/Python3.framework/Versions/3.9/lib/python3.9/subprocess.py:951\u001b[0m, in \u001b[0;36mPopen.__init__\u001b[0;34m(self, args, bufsize, executable, stdin, stdout, stderr, preexec_fn, close_fds, shell, cwd, env, universal_newlines, startupinfo, creationflags, restore_signals, start_new_session, pass_fds, user, group, extra_groups, encoding, errors, text, umask)\u001b[0m\n\u001b[1;32m    947\u001b[0m         \u001b[38;5;28;01mif\u001b[39;00m \u001b[38;5;28mself\u001b[39m\u001b[38;5;241m.\u001b[39mtext_mode:\n\u001b[1;32m    948\u001b[0m             \u001b[38;5;28mself\u001b[39m\u001b[38;5;241m.\u001b[39mstderr \u001b[38;5;241m=\u001b[39m io\u001b[38;5;241m.\u001b[39mTextIOWrapper(\u001b[38;5;28mself\u001b[39m\u001b[38;5;241m.\u001b[39mstderr,\n\u001b[1;32m    949\u001b[0m                     encoding\u001b[38;5;241m=\u001b[39mencoding, errors\u001b[38;5;241m=\u001b[39merrors)\n\u001b[0;32m--> 951\u001b[0m     \u001b[38;5;28;43mself\u001b[39;49m\u001b[38;5;241;43m.\u001b[39;49m\u001b[43m_execute_child\u001b[49m\u001b[43m(\u001b[49m\u001b[43margs\u001b[49m\u001b[43m,\u001b[49m\u001b[43m \u001b[49m\u001b[43mexecutable\u001b[49m\u001b[43m,\u001b[49m\u001b[43m \u001b[49m\u001b[43mpreexec_fn\u001b[49m\u001b[43m,\u001b[49m\u001b[43m \u001b[49m\u001b[43mclose_fds\u001b[49m\u001b[43m,\u001b[49m\n\u001b[1;32m    952\u001b[0m \u001b[43m                        \u001b[49m\u001b[43mpass_fds\u001b[49m\u001b[43m,\u001b[49m\u001b[43m \u001b[49m\u001b[43mcwd\u001b[49m\u001b[43m,\u001b[49m\u001b[43m \u001b[49m\u001b[43menv\u001b[49m\u001b[43m,\u001b[49m\n\u001b[1;32m    953\u001b[0m \u001b[43m                        \u001b[49m\u001b[43mstartupinfo\u001b[49m\u001b[43m,\u001b[49m\u001b[43m \u001b[49m\u001b[43mcreationflags\u001b[49m\u001b[43m,\u001b[49m\u001b[43m \u001b[49m\u001b[43mshell\u001b[49m\u001b[43m,\u001b[49m\n\u001b[1;32m    954\u001b[0m \u001b[43m                        \u001b[49m\u001b[43mp2cread\u001b[49m\u001b[43m,\u001b[49m\u001b[43m \u001b[49m\u001b[43mp2cwrite\u001b[49m\u001b[43m,\u001b[49m\n\u001b[1;32m    955\u001b[0m \u001b[43m                        \u001b[49m\u001b[43mc2pread\u001b[49m\u001b[43m,\u001b[49m\u001b[43m \u001b[49m\u001b[43mc2pwrite\u001b[49m\u001b[43m,\u001b[49m\n\u001b[1;32m    956\u001b[0m \u001b[43m                        \u001b[49m\u001b[43merrread\u001b[49m\u001b[43m,\u001b[49m\u001b[43m \u001b[49m\u001b[43merrwrite\u001b[49m\u001b[43m,\u001b[49m\n\u001b[1;32m    957\u001b[0m \u001b[43m                        \u001b[49m\u001b[43mrestore_signals\u001b[49m\u001b[43m,\u001b[49m\n\u001b[1;32m    958\u001b[0m \u001b[43m                        \u001b[49m\u001b[43mgid\u001b[49m\u001b[43m,\u001b[49m\u001b[43m \u001b[49m\u001b[43mgids\u001b[49m\u001b[43m,\u001b[49m\u001b[43m \u001b[49m\u001b[43muid\u001b[49m\u001b[43m,\u001b[49m\u001b[43m \u001b[49m\u001b[43mumask\u001b[49m\u001b[43m,\u001b[49m\n\u001b[1;32m    959\u001b[0m \u001b[43m                        \u001b[49m\u001b[43mstart_new_session\u001b[49m\u001b[43m)\u001b[49m\n\u001b[1;32m    960\u001b[0m \u001b[38;5;28;01mexcept\u001b[39;00m:\n\u001b[1;32m    961\u001b[0m     \u001b[38;5;66;03m# Cleanup if the child failed starting.\u001b[39;00m\n\u001b[1;32m    962\u001b[0m     \u001b[38;5;28;01mfor\u001b[39;00m f \u001b[38;5;129;01min\u001b[39;00m \u001b[38;5;28mfilter\u001b[39m(\u001b[38;5;28;01mNone\u001b[39;00m, (\u001b[38;5;28mself\u001b[39m\u001b[38;5;241m.\u001b[39mstdin, \u001b[38;5;28mself\u001b[39m\u001b[38;5;241m.\u001b[39mstdout, \u001b[38;5;28mself\u001b[39m\u001b[38;5;241m.\u001b[39mstderr)):\n",
            "File \u001b[0;32m/Library/Developer/CommandLineTools/Library/Frameworks/Python3.framework/Versions/3.9/lib/python3.9/subprocess.py:1821\u001b[0m, in \u001b[0;36mPopen._execute_child\u001b[0;34m(self, args, executable, preexec_fn, close_fds, pass_fds, cwd, env, startupinfo, creationflags, shell, p2cread, p2cwrite, c2pread, c2pwrite, errread, errwrite, restore_signals, gid, gids, uid, umask, start_new_session)\u001b[0m\n\u001b[1;32m   1819\u001b[0m     \u001b[38;5;28;01mif\u001b[39;00m errno_num \u001b[38;5;241m!=\u001b[39m \u001b[38;5;241m0\u001b[39m:\n\u001b[1;32m   1820\u001b[0m         err_msg \u001b[38;5;241m=\u001b[39m os\u001b[38;5;241m.\u001b[39mstrerror(errno_num)\n\u001b[0;32m-> 1821\u001b[0m     \u001b[38;5;28;01mraise\u001b[39;00m child_exception_type(errno_num, err_msg, err_filename)\n\u001b[1;32m   1822\u001b[0m \u001b[38;5;28;01mraise\u001b[39;00m child_exception_type(err_msg)\n",
            "\u001b[0;31mFileNotFoundError\u001b[0m: [Errno 2] No such file or directory: 'wget'"
          ]
        }
      ],
      "source": [
        "ColabCode(port=10000)"
      ]
    },
    {
      "cell_type": "code",
      "execution_count": 5,
      "metadata": {
        "id": "G00IXCFXz_1f"
      },
      "outputs": [
        {
          "ename": "NameError",
          "evalue": "name 'nn' is not defined",
          "output_type": "error",
          "traceback": [
            "\u001b[0;31m---------------------------------------------------------------------------\u001b[0m",
            "\u001b[0;31mNameError\u001b[0m                                 Traceback (most recent call last)",
            "Cell \u001b[0;32mIn[5], line 2\u001b[0m\n\u001b[1;32m      1\u001b[0m \u001b[38;5;66;03m# Define specified CNN  architecture for CIFAR-100\u001b[39;00m\n\u001b[0;32m----> 2\u001b[0m \u001b[38;5;28;01mclass\u001b[39;00m \u001b[38;5;21;01mCNNCifar\u001b[39;00m(\u001b[43mnn\u001b[49m\u001b[38;5;241m.\u001b[39mModule):\n\u001b[1;32m      3\u001b[0m   \u001b[38;5;28;01mdef\u001b[39;00m \u001b[38;5;21m__init__\u001b[39m(\u001b[38;5;28mself\u001b[39m, num_classes \u001b[38;5;241m=\u001b[39m \u001b[38;5;241m100\u001b[39m):\n\u001b[1;32m      4\u001b[0m     \u001b[38;5;28msuper\u001b[39m(CNNCifar, \u001b[38;5;28mself\u001b[39m)\u001b[38;5;241m.\u001b[39m\u001b[38;5;21m__init__\u001b[39m()\n",
            "\u001b[0;31mNameError\u001b[0m: name 'nn' is not defined"
          ]
        }
      ],
      "source": [
        "# Define specified CNN  architecture for CIFAR-100\n",
        "class CNNCifar(nn.Module):\n",
        "  def __init__(self, num_classes = 100):\n",
        "    super(CNNCifar, self).__init__()\n",
        "    self.conv1 = nn.Conv2d(3,64,kernel_size=5, padding=2)\n",
        "    self.pool1 = nn.MaxPool2d(2,2)\n",
        "    self.conv2 = nn.Conv2d(64,64, kernel_size= 5, padding=2)\n",
        "    self.pool2 = nn.MaxPool2d(2,2)\n",
        "    self.fc1 = nn.Linear(64 * 8 * 8, 384)\n",
        "    self.fc2 = nn.Linear(384, 192)\n",
        "    self.classifier = nn.Linear(192, num_classes)\n",
        "\n",
        "  def forward(self, x):\n",
        "    x = self.conv1(x)\n",
        "    x = self.pool1(x)\n",
        "    x = self.conv2(x)\n",
        "    x = self.pool2(x)\n",
        "    x = x.view(-1, 64 * 8 * 8)\n",
        "    x = self.fc1(x)\n",
        "    x = self.fc2(x)\n",
        "    x = self.classifier(x)\n",
        "    return x # the predicted class scores for the input image batch\n",
        "\n"
      ]
    },
    {
      "cell_type": "code",
      "execution_count": 3,
      "metadata": {
        "id": "-UTQiYXGBY2d"
      },
      "outputs": [],
      "source": [
        "from torchvision import transforms\n",
        "\n",
        "transform_train= transforms.Compose([\n",
        "    transforms.RandomCrop(32, padding=4),\n",
        "    transforms.RandomHorizontalFlip(),\n",
        "    transforms.ToTensor(),\n",
        "    transforms.Normalize((0.5071, 0.4865, 0.4409), (0.2673, 0.2564, 0.2761))\n",
        "])\n",
        "\n",
        "transform_test = transforms.Compose([\n",
        "    transforms.ToTensor(),\n",
        "    transforms.Normalize((0.5071, 0.4865, 0.4409), (0.2673, 0.2564, 0.2761))\n",
        "])\n"
      ]
    },
    {
      "cell_type": "code",
      "execution_count": 4,
      "metadata": {
        "colab": {
          "base_uri": "https://localhost:8080/"
        },
        "id": "JLYMBEyrnC1q",
        "outputId": "370801a3-bac8-4be0-d845-503984964bbc"
      },
      "outputs": [
        {
          "name": "stdout",
          "output_type": "stream",
          "text": [
            "Downloading https://www.cs.toronto.edu/~kriz/cifar-100-python.tar.gz to ./data/cifar-100-python.tar.gz\n"
          ]
        },
        {
          "name": "stderr",
          "output_type": "stream",
          "text": [
            "100%|██████████| 169M/169M [00:05<00:00, 30.1MB/s]\n"
          ]
        },
        {
          "name": "stdout",
          "output_type": "stream",
          "text": [
            "Extracting ./data/cifar-100-python.tar.gz to ./data\n",
            "Files already downloaded and verified\n"
          ]
        }
      ],
      "source": [
        "trainset = datasets.CIFAR100(root='./data', train=True, download=True, transform=transform_train)\n",
        "testset = datasets.CIFAR100(root='./data', train=False, download=True, transform=transform_test)\n"
      ]
    },
    {
      "cell_type": "code",
      "execution_count": 5,
      "metadata": {
        "id": "16JXTgclA6om"
      },
      "outputs": [],
      "source": [
        "# how to split test dataset?\n",
        "# Split training data for validation\n",
        "# Split training set into train and validation\n",
        "train_size = int(0.8 * len(trainset))\n",
        "val_size = len(trainset) - train_size\n",
        "trainset, valset = random_split(trainset, [train_size, val_size])\n"
      ]
    },
    {
      "cell_type": "code",
      "execution_count": 6,
      "metadata": {
        "id": "DkLMG9TIA__v"
      },
      "outputs": [],
      "source": [
        "# Create data loaders\n",
        "batch_size = 32\n",
        "\n",
        "trainloader = DataLoader(trainset, batch_size=batch_size, shuffle=True, num_workers=2)\n",
        "valloader = DataLoader(valset, batch_size=batch_size, shuffle=False, num_workers=2)\n",
        "testloader = DataLoader(testset, batch_size=batch_size, shuffle=False, num_workers=2)\n"
      ]
    },
    {
      "cell_type": "code",
      "execution_count": 7,
      "metadata": {
        "id": "hZXOgutgWPpl"
      },
      "outputs": [],
      "source": [
        "# Initialize the model, loss function, and optimizer\n",
        "device = torch.device(\"cuda\" if torch.cuda.is_available() else \"cpu\")\n",
        "model = CNNCifar().to(device)\n",
        "criterion = nn.CrossEntropyLoss()\n",
        "optimizer = optim.SGD(model.parameters(), lr=0.001, momentum=0.9, weight_decay=0.0004)\n",
        "\n",
        "# Learning rate scheduler\n",
        "scheduler = optim.lr_scheduler.CosineAnnealingLR(optimizer, T_max=200)\n"
      ]
    },
    {
      "cell_type": "code",
      "execution_count": 8,
      "metadata": {
        "id": "Y4TUkA1zXU06"
      },
      "outputs": [],
      "source": [
        "# Training function\n",
        "def train(model, loader, optimizer, criterion, device):\n",
        "    model.train()\n",
        "    running_loss = 0.0\n",
        "    correct = 0\n",
        "    total = 0\n",
        "    for inputs, labels in loader:\n",
        "        inputs, labels = inputs.to(device), labels.to(device)\n",
        "        optimizer.zero_grad()\n",
        "        outputs = model(inputs)\n",
        "        loss = criterion(outputs, labels)\n",
        "        loss.backward()\n",
        "        optimizer.step()\n",
        "        running_loss += loss.item()\n",
        "        _, predicted = outputs.max(1)\n",
        "        total += labels.size(0)\n",
        "        correct += predicted.eq(labels).sum().item()\n",
        "    return running_loss / len(loader), 100. * correct / total\n"
      ]
    },
    {
      "cell_type": "code",
      "execution_count": 9,
      "metadata": {
        "id": "gFiXbf77Xb8C"
      },
      "outputs": [],
      "source": [
        "# Evaluation function\n",
        "def evaluate(model, loader, criterion, device):\n",
        "    model.eval()\n",
        "    running_loss = 0.0\n",
        "    correct = 0\n",
        "    total = 0\n",
        "    with torch.no_grad():\n",
        "        for inputs, labels in loader:\n",
        "            inputs, labels = inputs.to(device), labels.to(device)\n",
        "            outputs = model(inputs)\n",
        "            loss = criterion(outputs, labels)\n",
        "            running_loss += loss.item()\n",
        "            _, predicted = outputs.max(1)\n",
        "            total += labels.size(0)\n",
        "            correct += predicted.eq(labels).sum().item()\n",
        "    return running_loss / len(loader), 100. * correct / total\n"
      ]
    },
    {
      "cell_type": "code",
      "execution_count": 10,
      "metadata": {
        "id": "jtJy7ANvjeUR"
      },
      "outputs": [],
      "source": [
        "# Training loop\n",
        "epochs = 150\n",
        "train_losses, train_accs = [], []\n",
        "val_losses, val_accs = [], []\n",
        "test_losses, test_accs = [], []"
      ]
    },
    {
      "cell_type": "code",
      "execution_count": null,
      "metadata": {
        "colab": {
          "base_uri": "https://localhost:8080/"
        },
        "id": "OdTwCF3Djj4I",
        "outputId": "b47a38d9-1e83-4cca-df83-c9164cf45479"
      },
      "outputs": [
        {
          "name": "stdout",
          "output_type": "stream",
          "text": [
            "Epoch 1/150\n",
            "Train Loss: 4.1178, Train Acc: 8.14%\n",
            "Val Loss: 3.8531, Val Acc: 11.39%\n",
            "Test Loss: 3.8015, Test Acc: 13.35%\n",
            "\n",
            "Epoch 2/150\n",
            "Train Loss: 3.7305, Train Acc: 14.21%\n",
            "Val Loss: 3.6253, Val Acc: 16.08%\n",
            "Test Loss: 3.5410, Test Acc: 17.42%\n",
            "\n",
            "Epoch 3/150\n",
            "Train Loss: 3.5247, Train Acc: 17.44%\n",
            "Val Loss: 3.4105, Val Acc: 19.10%\n",
            "Test Loss: 3.3136, Test Acc: 21.55%\n",
            "\n",
            "Epoch 4/150\n",
            "Train Loss: 3.3629, Train Acc: 20.25%\n",
            "Val Loss: 3.3041, Val Acc: 21.32%\n",
            "Test Loss: 3.1500, Test Acc: 25.46%\n",
            "\n",
            "Epoch 5/150\n",
            "Train Loss: 3.2454, Train Acc: 22.66%\n",
            "Val Loss: 3.2512, Val Acc: 22.80%\n",
            "Test Loss: 3.1149, Test Acc: 25.48%\n",
            "\n",
            "Epoch 6/150\n",
            "Train Loss: 3.1208, Train Acc: 24.76%\n",
            "Val Loss: 3.0779, Val Acc: 25.57%\n",
            "Test Loss: 2.8817, Test Acc: 29.65%\n",
            "\n",
            "Epoch 7/150\n",
            "Train Loss: 3.0214, Train Acc: 26.92%\n",
            "Val Loss: 3.0438, Val Acc: 26.84%\n",
            "Test Loss: 2.8221, Test Acc: 31.07%\n",
            "\n",
            "Epoch 8/150\n",
            "Train Loss: 2.9549, Train Acc: 28.36%\n",
            "Val Loss: 2.9701, Val Acc: 28.19%\n",
            "Test Loss: 2.7609, Test Acc: 32.19%\n",
            "\n",
            "Epoch 9/150\n",
            "Train Loss: 2.9011, Train Acc: 29.11%\n",
            "Val Loss: 2.9566, Val Acc: 28.95%\n",
            "Test Loss: 2.7578, Test Acc: 32.57%\n",
            "\n",
            "Epoch 10/150\n",
            "Train Loss: 2.8612, Train Acc: 30.29%\n",
            "Val Loss: 2.8928, Val Acc: 30.35%\n",
            "Test Loss: 2.6677, Test Acc: 34.56%\n",
            "\n",
            "Epoch 11/150\n",
            "Train Loss: 2.8241, Train Acc: 31.33%\n",
            "Val Loss: 2.8164, Val Acc: 31.52%\n",
            "Test Loss: 2.6147, Test Acc: 35.67%\n",
            "\n",
            "Epoch 12/150\n",
            "Train Loss: 2.7794, Train Acc: 32.06%\n",
            "Val Loss: 2.8670, Val Acc: 30.23%\n",
            "Test Loss: 2.6451, Test Acc: 34.72%\n",
            "\n",
            "Epoch 13/150\n",
            "Train Loss: 2.7532, Train Acc: 32.53%\n",
            "Val Loss: 2.8100, Val Acc: 31.37%\n",
            "Test Loss: 2.5813, Test Acc: 36.29%\n",
            "\n",
            "Epoch 14/150\n",
            "Train Loss: 2.7136, Train Acc: 33.13%\n",
            "Val Loss: 2.7738, Val Acc: 32.33%\n",
            "Test Loss: 2.5325, Test Acc: 37.34%\n",
            "\n",
            "Epoch 15/150\n",
            "Train Loss: 2.6988, Train Acc: 33.50%\n",
            "Val Loss: 2.7820, Val Acc: 32.99%\n",
            "Test Loss: 2.5646, Test Acc: 36.34%\n",
            "\n",
            "Epoch 16/150\n",
            "Train Loss: 2.6700, Train Acc: 34.27%\n",
            "Val Loss: 2.7160, Val Acc: 33.87%\n",
            "Test Loss: 2.4891, Test Acc: 37.84%\n",
            "\n",
            "Epoch 17/150\n",
            "Train Loss: 2.6489, Train Acc: 34.66%\n",
            "Val Loss: 2.7189, Val Acc: 34.01%\n",
            "Test Loss: 2.4822, Test Acc: 37.93%\n",
            "\n",
            "Epoch 18/150\n",
            "Train Loss: 2.6236, Train Acc: 35.07%\n",
            "Val Loss: 2.6699, Val Acc: 34.34%\n",
            "Test Loss: 2.4450, Test Acc: 38.66%\n",
            "\n",
            "Epoch 19/150\n",
            "Train Loss: 2.5954, Train Acc: 35.58%\n",
            "Val Loss: 2.6829, Val Acc: 33.87%\n",
            "Test Loss: 2.4699, Test Acc: 38.06%\n",
            "\n",
            "Epoch 20/150\n",
            "Train Loss: 2.5772, Train Acc: 35.99%\n",
            "Val Loss: 2.6808, Val Acc: 34.31%\n",
            "Test Loss: 2.4281, Test Acc: 38.99%\n",
            "\n",
            "Epoch 21/150\n",
            "Train Loss: 2.5615, Train Acc: 36.59%\n",
            "Val Loss: 2.7100, Val Acc: 33.61%\n",
            "Test Loss: 2.4426, Test Acc: 38.91%\n",
            "\n",
            "Epoch 22/150\n",
            "Train Loss: 2.5357, Train Acc: 36.95%\n",
            "Val Loss: 2.6262, Val Acc: 35.74%\n",
            "Test Loss: 2.3744, Test Acc: 39.82%\n",
            "\n",
            "Epoch 23/150\n",
            "Train Loss: 2.5262, Train Acc: 37.00%\n",
            "Val Loss: 2.6086, Val Acc: 35.73%\n",
            "Test Loss: 2.3855, Test Acc: 39.78%\n",
            "\n",
            "Epoch 24/150\n",
            "Train Loss: 2.5030, Train Acc: 37.58%\n",
            "Val Loss: 2.6152, Val Acc: 35.91%\n",
            "Test Loss: 2.3538, Test Acc: 41.40%\n",
            "\n",
            "Epoch 25/150\n",
            "Train Loss: 2.4909, Train Acc: 37.74%\n",
            "Val Loss: 2.5907, Val Acc: 36.06%\n",
            "Test Loss: 2.3401, Test Acc: 41.49%\n",
            "\n",
            "Epoch 26/150\n",
            "Train Loss: 2.4692, Train Acc: 38.09%\n",
            "Val Loss: 2.5736, Val Acc: 36.84%\n",
            "Test Loss: 2.3448, Test Acc: 41.02%\n",
            "\n",
            "Epoch 27/150\n",
            "Train Loss: 2.4600, Train Acc: 38.45%\n",
            "Val Loss: 2.5644, Val Acc: 36.92%\n",
            "Test Loss: 2.3193, Test Acc: 41.85%\n",
            "\n",
            "Epoch 28/150\n",
            "Train Loss: 2.4437, Train Acc: 38.97%\n",
            "Val Loss: 2.5636, Val Acc: 36.36%\n",
            "Test Loss: 2.3018, Test Acc: 41.62%\n",
            "\n",
            "Epoch 29/150\n",
            "Train Loss: 2.4345, Train Acc: 39.34%\n",
            "Val Loss: 2.5883, Val Acc: 36.42%\n",
            "Test Loss: 2.3371, Test Acc: 41.28%\n",
            "\n",
            "Epoch 30/150\n",
            "Train Loss: 2.4134, Train Acc: 39.52%\n",
            "Val Loss: 2.5643, Val Acc: 37.11%\n",
            "Test Loss: 2.3118, Test Acc: 41.85%\n",
            "\n",
            "Epoch 31/150\n",
            "Train Loss: 2.4025, Train Acc: 39.68%\n",
            "Val Loss: 2.5012, Val Acc: 38.38%\n",
            "Test Loss: 2.2782, Test Acc: 42.54%\n",
            "\n",
            "Epoch 32/150\n",
            "Train Loss: 2.3915, Train Acc: 40.02%\n",
            "Val Loss: 2.5030, Val Acc: 37.89%\n",
            "Test Loss: 2.2833, Test Acc: 42.01%\n",
            "\n",
            "Epoch 33/150\n",
            "Train Loss: 2.3775, Train Acc: 40.08%\n",
            "Val Loss: 2.5373, Val Acc: 37.72%\n",
            "Test Loss: 2.2827, Test Acc: 42.78%\n",
            "\n",
            "Epoch 34/150\n",
            "Train Loss: 2.3638, Train Acc: 40.64%\n",
            "Val Loss: 2.5202, Val Acc: 38.02%\n",
            "Test Loss: 2.2745, Test Acc: 42.84%\n",
            "\n",
            "Epoch 35/150\n",
            "Train Loss: 2.3560, Train Acc: 40.61%\n",
            "Val Loss: 2.5028, Val Acc: 37.85%\n",
            "Test Loss: 2.2386, Test Acc: 43.57%\n",
            "\n",
            "Epoch 36/150\n",
            "Train Loss: 2.3400, Train Acc: 40.90%\n",
            "Val Loss: 2.5101, Val Acc: 38.66%\n",
            "Test Loss: 2.2304, Test Acc: 44.08%\n",
            "\n",
            "Epoch 37/150\n",
            "Train Loss: 2.3298, Train Acc: 41.58%\n",
            "Val Loss: 2.4900, Val Acc: 38.88%\n",
            "Test Loss: 2.2302, Test Acc: 43.89%\n",
            "\n",
            "Epoch 38/150\n",
            "Train Loss: 2.3234, Train Acc: 41.38%\n",
            "Val Loss: 2.4883, Val Acc: 38.99%\n",
            "Test Loss: 2.2442, Test Acc: 43.53%\n",
            "\n",
            "Epoch 39/150\n",
            "Train Loss: 2.3175, Train Acc: 41.47%\n",
            "Val Loss: 2.4771, Val Acc: 38.76%\n",
            "Test Loss: 2.2302, Test Acc: 43.60%\n",
            "\n",
            "Epoch 40/150\n",
            "Train Loss: 2.3071, Train Acc: 41.79%\n",
            "Val Loss: 2.4944, Val Acc: 38.22%\n",
            "Test Loss: 2.2355, Test Acc: 43.62%\n",
            "\n",
            "Epoch 41/150\n",
            "Train Loss: 2.2898, Train Acc: 42.07%\n",
            "Val Loss: 2.4727, Val Acc: 38.58%\n",
            "Test Loss: 2.2170, Test Acc: 43.60%\n",
            "\n",
            "Epoch 42/150\n",
            "Train Loss: 2.2938, Train Acc: 42.22%\n",
            "Val Loss: 2.4278, Val Acc: 40.37%\n",
            "Test Loss: 2.1734, Test Acc: 44.19%\n",
            "\n",
            "Epoch 43/150\n",
            "Train Loss: 2.2829, Train Acc: 42.45%\n",
            "Val Loss: 2.4822, Val Acc: 38.81%\n",
            "Test Loss: 2.2205, Test Acc: 43.82%\n",
            "\n",
            "Epoch 44/150\n",
            "Train Loss: 2.2749, Train Acc: 42.32%\n",
            "Val Loss: 2.4452, Val Acc: 39.47%\n",
            "Test Loss: 2.1878, Test Acc: 44.24%\n",
            "\n",
            "Epoch 45/150\n",
            "Train Loss: 2.2653, Train Acc: 42.53%\n",
            "Val Loss: 2.4647, Val Acc: 39.08%\n",
            "Test Loss: 2.2065, Test Acc: 44.30%\n",
            "\n",
            "Epoch 46/150\n",
            "Train Loss: 2.2461, Train Acc: 43.16%\n",
            "Val Loss: 2.4103, Val Acc: 40.20%\n",
            "Test Loss: 2.1802, Test Acc: 44.54%\n",
            "\n",
            "Epoch 47/150\n",
            "Train Loss: 2.2362, Train Acc: 43.28%\n",
            "Val Loss: 2.4159, Val Acc: 39.88%\n",
            "Test Loss: 2.1565, Test Acc: 45.31%\n",
            "\n",
            "Epoch 48/150\n",
            "Train Loss: 2.2374, Train Acc: 43.38%\n",
            "Val Loss: 2.3946, Val Acc: 40.39%\n",
            "Test Loss: 2.1491, Test Acc: 45.28%\n",
            "\n",
            "Epoch 49/150\n",
            "Train Loss: 2.2277, Train Acc: 43.65%\n",
            "Val Loss: 2.4020, Val Acc: 40.31%\n",
            "Test Loss: 2.1629, Test Acc: 44.72%\n",
            "\n",
            "Epoch 50/150\n",
            "Train Loss: 2.2254, Train Acc: 43.34%\n",
            "Val Loss: 2.4231, Val Acc: 39.60%\n",
            "Test Loss: 2.1580, Test Acc: 45.53%\n",
            "\n",
            "Epoch 51/150\n",
            "Train Loss: 2.2149, Train Acc: 43.64%\n",
            "Val Loss: 2.4329, Val Acc: 40.14%\n",
            "Test Loss: 2.1528, Test Acc: 45.59%\n",
            "\n",
            "Epoch 52/150\n",
            "Train Loss: 2.2016, Train Acc: 43.83%\n",
            "Val Loss: 2.3949, Val Acc: 41.02%\n",
            "Test Loss: 2.1310, Test Acc: 45.91%\n",
            "\n",
            "Epoch 53/150\n",
            "Train Loss: 2.1914, Train Acc: 44.06%\n",
            "Val Loss: 2.3754, Val Acc: 41.03%\n",
            "Test Loss: 2.1412, Test Acc: 45.92%\n",
            "\n",
            "Epoch 54/150\n",
            "Train Loss: 2.1860, Train Acc: 44.35%\n",
            "Val Loss: 2.3809, Val Acc: 40.91%\n",
            "Test Loss: 2.1388, Test Acc: 45.56%\n",
            "\n",
            "Epoch 55/150\n",
            "Train Loss: 2.1872, Train Acc: 44.37%\n",
            "Val Loss: 2.3856, Val Acc: 40.78%\n",
            "Test Loss: 2.1092, Test Acc: 46.38%\n",
            "\n",
            "Epoch 56/150\n",
            "Train Loss: 2.1736, Train Acc: 44.43%\n",
            "Val Loss: 2.4118, Val Acc: 40.22%\n",
            "Test Loss: 2.1787, Test Acc: 45.05%\n",
            "\n",
            "Epoch 57/150\n",
            "Train Loss: 2.1710, Train Acc: 44.66%\n",
            "Val Loss: 2.3800, Val Acc: 40.71%\n",
            "Test Loss: 2.1144, Test Acc: 46.15%\n",
            "\n",
            "Epoch 58/150\n",
            "Train Loss: 2.1562, Train Acc: 44.86%\n",
            "Val Loss: 2.3701, Val Acc: 40.93%\n",
            "Test Loss: 2.1347, Test Acc: 45.88%\n",
            "\n",
            "Epoch 59/150\n",
            "Train Loss: 2.1545, Train Acc: 45.09%\n",
            "Val Loss: 2.3557, Val Acc: 41.44%\n",
            "Test Loss: 2.1001, Test Acc: 46.16%\n",
            "\n",
            "Epoch 60/150\n",
            "Train Loss: 2.1475, Train Acc: 44.99%\n",
            "Val Loss: 2.3405, Val Acc: 41.67%\n",
            "Test Loss: 2.0982, Test Acc: 46.61%\n",
            "\n",
            "Epoch 61/150\n",
            "Train Loss: 2.1348, Train Acc: 45.66%\n",
            "Val Loss: 2.3793, Val Acc: 40.41%\n",
            "Test Loss: 2.1015, Test Acc: 46.53%\n",
            "\n",
            "Epoch 62/150\n",
            "Train Loss: 2.1414, Train Acc: 45.05%\n",
            "Val Loss: 2.3629, Val Acc: 41.43%\n",
            "Test Loss: 2.0884, Test Acc: 47.06%\n",
            "\n",
            "Epoch 63/150\n",
            "Train Loss: 2.1290, Train Acc: 45.57%\n",
            "Val Loss: 2.3443, Val Acc: 41.46%\n",
            "Test Loss: 2.1175, Test Acc: 45.86%\n",
            "\n",
            "Epoch 64/150\n",
            "Train Loss: 2.1261, Train Acc: 45.51%\n",
            "Val Loss: 2.3482, Val Acc: 41.11%\n",
            "Test Loss: 2.0872, Test Acc: 46.61%\n",
            "\n",
            "Epoch 65/150\n",
            "Train Loss: 2.1213, Train Acc: 45.38%\n",
            "Val Loss: 2.3447, Val Acc: 41.32%\n",
            "Test Loss: 2.0839, Test Acc: 46.73%\n",
            "\n",
            "Epoch 66/150\n",
            "Train Loss: 2.1086, Train Acc: 46.03%\n",
            "Val Loss: 2.3196, Val Acc: 41.89%\n",
            "Test Loss: 2.0596, Test Acc: 46.84%\n",
            "\n",
            "Epoch 67/150\n",
            "Train Loss: 2.0912, Train Acc: 46.48%\n",
            "Val Loss: 2.3213, Val Acc: 42.33%\n",
            "Test Loss: 2.0619, Test Acc: 47.64%\n",
            "\n",
            "Epoch 68/150\n",
            "Train Loss: 2.0935, Train Acc: 46.23%\n",
            "Val Loss: 2.3149, Val Acc: 42.00%\n",
            "Test Loss: 2.0564, Test Acc: 47.29%\n",
            "\n",
            "Epoch 69/150\n",
            "Train Loss: 2.0965, Train Acc: 46.49%\n",
            "Val Loss: 2.3406, Val Acc: 41.06%\n",
            "Test Loss: 2.0785, Test Acc: 46.89%\n",
            "\n",
            "Epoch 70/150\n",
            "Train Loss: 2.0919, Train Acc: 46.40%\n",
            "Val Loss: 2.3320, Val Acc: 41.92%\n",
            "Test Loss: 2.0777, Test Acc: 46.91%\n",
            "\n",
            "Epoch 71/150\n",
            "Train Loss: 2.0764, Train Acc: 46.60%\n",
            "Val Loss: 2.3443, Val Acc: 41.62%\n",
            "Test Loss: 2.0775, Test Acc: 47.18%\n",
            "\n",
            "Epoch 72/150\n",
            "Train Loss: 2.0760, Train Acc: 46.72%\n",
            "Val Loss: 2.2972, Val Acc: 42.45%\n",
            "Test Loss: 2.0348, Test Acc: 47.81%\n",
            "\n",
            "Epoch 73/150\n",
            "Train Loss: 2.0749, Train Acc: 46.62%\n",
            "Val Loss: 2.3100, Val Acc: 43.27%\n",
            "Test Loss: 2.0533, Test Acc: 47.64%\n",
            "\n",
            "Epoch 74/150\n",
            "Train Loss: 2.0618, Train Acc: 46.99%\n",
            "Val Loss: 2.3030, Val Acc: 42.49%\n",
            "Test Loss: 2.0523, Test Acc: 47.64%\n",
            "\n",
            "Epoch 75/150\n",
            "Train Loss: 2.0551, Train Acc: 47.54%\n",
            "Val Loss: 2.2973, Val Acc: 42.63%\n",
            "Test Loss: 2.0528, Test Acc: 47.99%\n",
            "\n",
            "Epoch 76/150\n",
            "Train Loss: 2.0439, Train Acc: 47.27%\n",
            "Val Loss: 2.3106, Val Acc: 42.87%\n",
            "Test Loss: 2.0580, Test Acc: 47.38%\n",
            "\n",
            "Epoch 77/150\n",
            "Train Loss: 2.0426, Train Acc: 47.54%\n",
            "Val Loss: 2.2919, Val Acc: 43.23%\n",
            "Test Loss: 2.0416, Test Acc: 47.87%\n",
            "\n",
            "Epoch 78/150\n",
            "Train Loss: 2.0355, Train Acc: 47.65%\n",
            "Val Loss: 2.3289, Val Acc: 42.44%\n",
            "Test Loss: 2.0646, Test Acc: 47.57%\n",
            "\n",
            "Epoch 79/150\n",
            "Train Loss: 2.0425, Train Acc: 47.60%\n",
            "Val Loss: 2.3236, Val Acc: 41.99%\n",
            "Test Loss: 2.0676, Test Acc: 46.98%\n",
            "\n",
            "Epoch 80/150\n",
            "Train Loss: 2.0275, Train Acc: 47.77%\n",
            "Val Loss: 2.2898, Val Acc: 43.37%\n",
            "Test Loss: 2.0333, Test Acc: 47.98%\n",
            "\n",
            "Epoch 81/150\n",
            "Train Loss: 2.0276, Train Acc: 48.05%\n",
            "Val Loss: 2.2993, Val Acc: 42.83%\n",
            "Test Loss: 2.0366, Test Acc: 47.83%\n",
            "\n",
            "Epoch 82/150\n",
            "Train Loss: 2.0141, Train Acc: 48.08%\n",
            "Val Loss: 2.2762, Val Acc: 42.96%\n",
            "Test Loss: 2.0278, Test Acc: 48.35%\n",
            "\n",
            "Epoch 83/150\n",
            "Train Loss: 2.0090, Train Acc: 48.28%\n",
            "Val Loss: 2.2758, Val Acc: 43.00%\n",
            "Test Loss: 2.0318, Test Acc: 48.01%\n",
            "\n",
            "Epoch 84/150\n",
            "Train Loss: 2.0013, Train Acc: 48.69%\n",
            "Val Loss: 2.2754, Val Acc: 43.05%\n",
            "Test Loss: 2.0270, Test Acc: 48.25%\n",
            "\n",
            "Epoch 85/150\n",
            "Train Loss: 1.9991, Train Acc: 48.53%\n",
            "Val Loss: 2.2528, Val Acc: 44.13%\n",
            "Test Loss: 2.0190, Test Acc: 48.94%\n",
            "\n",
            "Epoch 86/150\n",
            "Train Loss: 2.0009, Train Acc: 48.33%\n",
            "Val Loss: 2.2580, Val Acc: 43.87%\n",
            "Test Loss: 2.0238, Test Acc: 48.48%\n",
            "\n",
            "Epoch 87/150\n",
            "Train Loss: 1.9819, Train Acc: 48.78%\n",
            "Val Loss: 2.2455, Val Acc: 43.94%\n",
            "Test Loss: 1.9968, Test Acc: 48.83%\n",
            "\n",
            "Epoch 88/150\n",
            "Train Loss: 1.9800, Train Acc: 48.78%\n",
            "Val Loss: 2.2805, Val Acc: 42.93%\n",
            "Test Loss: 2.0406, Test Acc: 48.20%\n",
            "\n",
            "Epoch 89/150\n",
            "Train Loss: 1.9838, Train Acc: 48.84%\n",
            "Val Loss: 2.2799, Val Acc: 42.92%\n",
            "Test Loss: 2.0317, Test Acc: 47.83%\n",
            "\n",
            "Epoch 90/150\n",
            "Train Loss: 1.9695, Train Acc: 49.22%\n",
            "Val Loss: 2.2669, Val Acc: 43.40%\n",
            "Test Loss: 2.0206, Test Acc: 48.62%\n",
            "\n",
            "Epoch 91/150\n",
            "Train Loss: 1.9732, Train Acc: 48.71%\n",
            "Val Loss: 2.2608, Val Acc: 43.57%\n",
            "Test Loss: 2.0059, Test Acc: 48.78%\n",
            "\n",
            "Epoch 92/150\n",
            "Train Loss: 1.9627, Train Acc: 48.98%\n",
            "Val Loss: 2.2353, Val Acc: 44.04%\n",
            "Test Loss: 1.9950, Test Acc: 48.88%\n",
            "\n",
            "Epoch 93/150\n",
            "Train Loss: 1.9528, Train Acc: 49.53%\n",
            "Val Loss: 2.2549, Val Acc: 43.85%\n",
            "Test Loss: 1.9992, Test Acc: 48.98%\n",
            "\n",
            "Epoch 94/150\n",
            "Train Loss: 1.9424, Train Acc: 49.31%\n",
            "Val Loss: 2.2217, Val Acc: 44.41%\n",
            "Test Loss: 1.9808, Test Acc: 49.37%\n",
            "\n",
            "Epoch 95/150\n",
            "Train Loss: 1.9476, Train Acc: 49.65%\n",
            "Val Loss: 2.2506, Val Acc: 44.05%\n",
            "Test Loss: 2.0052, Test Acc: 48.67%\n",
            "\n",
            "Epoch 96/150\n",
            "Train Loss: 1.9391, Train Acc: 49.75%\n",
            "Val Loss: 2.2604, Val Acc: 44.13%\n",
            "Test Loss: 1.9967, Test Acc: 49.31%\n",
            "\n",
            "Epoch 97/150\n",
            "Train Loss: 1.9367, Train Acc: 49.65%\n",
            "Val Loss: 2.2399, Val Acc: 44.23%\n",
            "Test Loss: 1.9937, Test Acc: 48.84%\n",
            "\n",
            "Epoch 98/150\n",
            "Train Loss: 1.9232, Train Acc: 50.02%\n",
            "Val Loss: 2.2400, Val Acc: 43.96%\n",
            "Test Loss: 2.0017, Test Acc: 49.13%\n",
            "\n",
            "Epoch 99/150\n",
            "Train Loss: 1.9268, Train Acc: 49.90%\n",
            "Val Loss: 2.2208, Val Acc: 44.39%\n",
            "Test Loss: 1.9926, Test Acc: 48.68%\n",
            "\n",
            "Epoch 100/150\n",
            "Train Loss: 1.9307, Train Acc: 50.10%\n",
            "Val Loss: 2.2275, Val Acc: 44.41%\n",
            "Test Loss: 1.9807, Test Acc: 49.07%\n",
            "\n",
            "Epoch 101/150\n",
            "Train Loss: 1.9053, Train Acc: 50.61%\n",
            "Val Loss: 2.2393, Val Acc: 44.55%\n",
            "Test Loss: 1.9787, Test Acc: 49.55%\n",
            "\n",
            "Epoch 102/150\n",
            "Train Loss: 1.9103, Train Acc: 50.53%\n",
            "Val Loss: 2.2126, Val Acc: 44.12%\n",
            "Test Loss: 1.9884, Test Acc: 49.51%\n",
            "\n",
            "Epoch 103/150\n",
            "Train Loss: 1.9012, Train Acc: 50.75%\n",
            "Val Loss: 2.2075, Val Acc: 44.51%\n",
            "Test Loss: 1.9781, Test Acc: 49.37%\n",
            "\n",
            "Epoch 104/150\n",
            "Train Loss: 1.9046, Train Acc: 50.66%\n",
            "Val Loss: 2.2230, Val Acc: 44.45%\n",
            "Test Loss: 1.9771, Test Acc: 49.75%\n",
            "\n",
            "Epoch 105/150\n",
            "Train Loss: 1.9018, Train Acc: 50.52%\n",
            "Val Loss: 2.2252, Val Acc: 44.19%\n",
            "Test Loss: 1.9836, Test Acc: 49.38%\n",
            "\n",
            "Epoch 106/150\n",
            "Train Loss: 1.8902, Train Acc: 50.92%\n",
            "Val Loss: 2.2224, Val Acc: 44.18%\n",
            "Test Loss: 1.9659, Test Acc: 49.80%\n",
            "\n",
            "Epoch 107/150\n",
            "Train Loss: 1.8892, Train Acc: 50.86%\n",
            "Val Loss: 2.2091, Val Acc: 44.49%\n",
            "Test Loss: 1.9741, Test Acc: 50.01%\n",
            "\n",
            "Epoch 108/150\n",
            "Train Loss: 1.8798, Train Acc: 51.05%\n",
            "Val Loss: 2.2403, Val Acc: 44.24%\n",
            "Test Loss: 1.9895, Test Acc: 49.17%\n",
            "\n",
            "Epoch 109/150\n",
            "Train Loss: 1.8782, Train Acc: 51.09%\n",
            "Val Loss: 2.2136, Val Acc: 44.57%\n",
            "Test Loss: 1.9663, Test Acc: 49.66%\n",
            "\n",
            "Epoch 110/150\n",
            "Train Loss: 1.8622, Train Acc: 51.55%\n",
            "Val Loss: 2.1804, Val Acc: 44.84%\n",
            "Test Loss: 1.9582, Test Acc: 50.42%\n",
            "\n",
            "Epoch 111/150\n",
            "Train Loss: 1.8581, Train Acc: 51.46%\n",
            "Val Loss: 2.2034, Val Acc: 44.19%\n",
            "Test Loss: 1.9585, Test Acc: 49.94%\n",
            "\n",
            "Epoch 112/150\n",
            "Train Loss: 1.8627, Train Acc: 51.41%\n",
            "Val Loss: 2.2124, Val Acc: 45.20%\n",
            "Test Loss: 1.9689, Test Acc: 49.61%\n",
            "\n",
            "Epoch 113/150\n",
            "Train Loss: 1.8530, Train Acc: 51.51%\n",
            "Val Loss: 2.2157, Val Acc: 44.55%\n",
            "Test Loss: 1.9714, Test Acc: 49.80%\n",
            "\n",
            "Epoch 114/150\n",
            "Train Loss: 1.8474, Train Acc: 51.53%\n",
            "Val Loss: 2.2011, Val Acc: 45.69%\n",
            "Test Loss: 1.9557, Test Acc: 50.61%\n",
            "\n",
            "Epoch 115/150\n",
            "Train Loss: 1.8465, Train Acc: 51.79%\n",
            "Val Loss: 2.1928, Val Acc: 44.93%\n",
            "Test Loss: 1.9482, Test Acc: 50.71%\n",
            "\n",
            "Epoch 116/150\n",
            "Train Loss: 1.8403, Train Acc: 52.25%\n",
            "Val Loss: 2.2051, Val Acc: 45.16%\n",
            "Test Loss: 1.9548, Test Acc: 50.94%\n",
            "\n",
            "Epoch 117/150\n",
            "Train Loss: 1.8324, Train Acc: 52.44%\n",
            "Val Loss: 2.1862, Val Acc: 44.86%\n",
            "Test Loss: 1.9343, Test Acc: 50.79%\n",
            "\n",
            "Epoch 118/150\n",
            "Train Loss: 1.8217, Train Acc: 52.45%\n",
            "Val Loss: 2.1863, Val Acc: 45.64%\n",
            "Test Loss: 1.9462, Test Acc: 50.67%\n",
            "\n",
            "Epoch 119/150\n",
            "Train Loss: 1.8233, Train Acc: 52.56%\n",
            "Val Loss: 2.1617, Val Acc: 46.30%\n",
            "Test Loss: 1.9406, Test Acc: 50.89%\n",
            "\n",
            "Epoch 120/150\n",
            "Train Loss: 1.8283, Train Acc: 52.11%\n",
            "Val Loss: 2.1711, Val Acc: 45.91%\n",
            "Test Loss: 1.9515, Test Acc: 50.54%\n",
            "\n",
            "Epoch 121/150\n",
            "Train Loss: 1.8093, Train Acc: 52.80%\n",
            "Val Loss: 2.1896, Val Acc: 45.24%\n",
            "Test Loss: 1.9545, Test Acc: 50.41%\n",
            "\n",
            "Epoch 122/150\n",
            "Train Loss: 1.8098, Train Acc: 52.74%\n",
            "Val Loss: 2.1877, Val Acc: 45.39%\n",
            "Test Loss: 1.9474, Test Acc: 50.41%\n",
            "\n",
            "Epoch 123/150\n",
            "Train Loss: 1.8040, Train Acc: 52.87%\n",
            "Val Loss: 2.1931, Val Acc: 45.05%\n",
            "Test Loss: 1.9441, Test Acc: 50.70%\n",
            "\n",
            "Epoch 124/150\n",
            "Train Loss: 1.8009, Train Acc: 52.78%\n",
            "Val Loss: 2.1777, Val Acc: 45.27%\n",
            "Test Loss: 1.9443, Test Acc: 50.12%\n",
            "\n",
            "Epoch 125/150\n",
            "Train Loss: 1.7991, Train Acc: 52.89%\n",
            "Val Loss: 2.1912, Val Acc: 45.20%\n",
            "Test Loss: 1.9531, Test Acc: 50.60%\n",
            "\n",
            "Epoch 126/150\n",
            "Train Loss: 1.7877, Train Acc: 53.43%\n",
            "Val Loss: 2.1603, Val Acc: 46.43%\n",
            "Test Loss: 1.9297, Test Acc: 50.78%\n",
            "\n",
            "Epoch 127/150\n",
            "Train Loss: 1.7907, Train Acc: 53.22%\n",
            "Val Loss: 2.1722, Val Acc: 45.83%\n",
            "Test Loss: 1.9347, Test Acc: 51.17%\n",
            "\n",
            "Epoch 128/150\n",
            "Train Loss: 1.7807, Train Acc: 53.61%\n",
            "Val Loss: 2.1647, Val Acc: 46.19%\n",
            "Test Loss: 1.9325, Test Acc: 51.15%\n",
            "\n",
            "Epoch 129/150\n",
            "Train Loss: 1.7844, Train Acc: 53.20%\n",
            "Val Loss: 2.1824, Val Acc: 45.83%\n",
            "Test Loss: 1.9394, Test Acc: 50.74%\n",
            "\n",
            "Epoch 130/150\n",
            "Train Loss: 1.7730, Train Acc: 53.60%\n",
            "Val Loss: 2.1702, Val Acc: 45.86%\n",
            "Test Loss: 1.9267, Test Acc: 51.33%\n",
            "\n",
            "Epoch 131/150\n",
            "Train Loss: 1.7719, Train Acc: 53.65%\n",
            "Val Loss: 2.1693, Val Acc: 45.68%\n",
            "Test Loss: 1.9380, Test Acc: 50.38%\n",
            "\n",
            "Epoch 132/150\n",
            "Train Loss: 1.7616, Train Acc: 53.84%\n",
            "Val Loss: 2.1635, Val Acc: 45.55%\n",
            "Test Loss: 1.9283, Test Acc: 51.10%\n",
            "\n",
            "Epoch 133/150\n",
            "Train Loss: 1.7579, Train Acc: 53.88%\n",
            "Val Loss: 2.1351, Val Acc: 46.84%\n",
            "Test Loss: 1.9265, Test Acc: 51.62%\n",
            "\n",
            "Epoch 134/150\n",
            "Train Loss: 1.7547, Train Acc: 53.88%\n",
            "Val Loss: 2.1548, Val Acc: 45.69%\n",
            "Test Loss: 1.9252, Test Acc: 51.52%\n",
            "\n",
            "Epoch 135/150\n",
            "Train Loss: 1.7527, Train Acc: 53.95%\n",
            "Val Loss: 2.1442, Val Acc: 46.43%\n",
            "Test Loss: 1.9116, Test Acc: 51.77%\n",
            "\n",
            "Epoch 136/150\n",
            "Train Loss: 1.7461, Train Acc: 54.13%\n",
            "Val Loss: 2.1494, Val Acc: 46.30%\n",
            "Test Loss: 1.9111, Test Acc: 51.74%\n",
            "\n",
            "Epoch 137/150\n",
            "Train Loss: 1.7331, Train Acc: 54.46%\n",
            "Val Loss: 2.1555, Val Acc: 46.66%\n",
            "Test Loss: 1.9117, Test Acc: 51.55%\n",
            "\n",
            "Epoch 138/150\n",
            "Train Loss: 1.7299, Train Acc: 54.30%\n",
            "Val Loss: 2.1381, Val Acc: 46.49%\n",
            "Test Loss: 1.9264, Test Acc: 51.43%\n",
            "\n",
            "Epoch 139/150\n",
            "Train Loss: 1.7338, Train Acc: 54.25%\n",
            "Val Loss: 2.1283, Val Acc: 47.23%\n",
            "Test Loss: 1.9108, Test Acc: 51.50%\n",
            "\n",
            "Epoch 140/150\n",
            "Train Loss: 1.7345, Train Acc: 54.65%\n",
            "Val Loss: 2.1466, Val Acc: 46.09%\n",
            "Test Loss: 1.9121, Test Acc: 51.05%\n",
            "\n",
            "Epoch 141/150\n",
            "Train Loss: 1.7174, Train Acc: 54.70%\n",
            "Val Loss: 2.1458, Val Acc: 46.24%\n",
            "Test Loss: 1.9118, Test Acc: 51.82%\n",
            "\n",
            "Epoch 142/150\n",
            "Train Loss: 1.7161, Train Acc: 54.84%\n",
            "Val Loss: 2.1448, Val Acc: 46.58%\n",
            "Test Loss: 1.9146, Test Acc: 51.96%\n",
            "\n",
            "Epoch 143/150\n",
            "Train Loss: 1.7193, Train Acc: 54.88%\n",
            "Val Loss: 2.1251, Val Acc: 46.69%\n",
            "Test Loss: 1.9150, Test Acc: 51.53%\n",
            "\n",
            "Epoch 144/150\n",
            "Train Loss: 1.7106, Train Acc: 54.93%\n",
            "Val Loss: 2.1024, Val Acc: 47.65%\n",
            "Test Loss: 1.8995, Test Acc: 52.04%\n",
            "\n",
            "Epoch 145/150\n",
            "Train Loss: 1.7008, Train Acc: 55.23%\n",
            "Val Loss: 2.1284, Val Acc: 46.54%\n",
            "Test Loss: 1.9071, Test Acc: 51.65%\n",
            "\n",
            "Epoch 146/150\n",
            "Train Loss: 1.7010, Train Acc: 55.23%\n",
            "Val Loss: 2.1268, Val Acc: 47.20%\n",
            "Test Loss: 1.8936, Test Acc: 51.85%\n",
            "\n",
            "Epoch 147/150\n",
            "Train Loss: 1.7017, Train Acc: 55.08%\n",
            "Val Loss: 2.1251, Val Acc: 47.34%\n",
            "Test Loss: 1.8988, Test Acc: 51.92%\n",
            "\n",
            "Epoch 148/150\n",
            "Train Loss: 1.6977, Train Acc: 55.36%\n",
            "Val Loss: 2.1182, Val Acc: 47.34%\n",
            "Test Loss: 1.9050, Test Acc: 51.85%\n",
            "\n"
          ]
        }
      ],
      "source": [
        "for epoch in range(epochs):\n",
        "    train_loss, train_acc = train(model, trainloader, optimizer, criterion, device)\n",
        "    val_loss, val_acc = evaluate(model, valloader, criterion, device)\n",
        "    test_loss, test_acc = evaluate(model, testloader, criterion, device)\n",
        "\n",
        "    scheduler.step()\n",
        "\n",
        "    train_losses.append(train_loss)\n",
        "    train_accs.append(train_acc)\n",
        "    val_losses.append(val_loss)\n",
        "    val_accs.append(val_acc)\n",
        "    test_losses.append(test_loss)\n",
        "    test_accs.append(test_acc)\n",
        "\n",
        "    print(f\"Epoch {epoch+1}/{epochs}\")\n",
        "    print(f\"Train Loss: {train_loss:.4f}, Train Acc: {train_acc:.2f}%\")\n",
        "    print(f\"Val Loss: {val_loss:.4f}, Val Acc: {val_acc:.2f}%\")\n",
        "    print(f\"Test Loss: {test_loss:.4f}, Test Acc: {test_acc:.2f}%\")\n",
        "    print()\n",
        "\n",
        "# Plot results\n",
        "plt.figure(figsize=(12, 5))\n",
        "plt.subplot(1, 2, 1)\n",
        "plt.plot(train_losses, label='Train')\n",
        "plt.plot(val_losses, label='Validation')\n",
        "plt.plot(test_losses, label='Test')\n",
        "plt.title('Loss vs. Epochs')\n",
        "plt.xlabel('Epochs')\n",
        "plt.ylabel('Loss')\n",
        "plt.legend()\n",
        "\n",
        "plt.subplot(1, 2, 2)\n",
        "plt.plot(train_accs, label='Train')\n",
        "plt.plot(val_accs, label='Validation')\n",
        "plt.plot(test_accs, label='Test')\n",
        "plt.title('Accuracy vs. Epochs')\n",
        "plt.xlabel('Epochs')\n",
        "plt.ylabel('Accuracy (%)')\n",
        "plt.legend()\n",
        "\n",
        "plt.tight_layout()\n",
        "plt.show()"
      ]
    },
    {
      "cell_type": "code",
      "execution_count": null,
      "metadata": {
        "colab": {
          "base_uri": "https://localhost:8080/"
        },
        "id": "uN0gs9KUfgYT",
        "outputId": "bc4ce9aa-5ed0-409f-d336-41738d508c77"
      },
      "outputs": [
        {
          "name": "stdout",
          "output_type": "stream",
          "text": [
            "Collecting wandb\n",
            "  Downloading wandb-0.18.3-py3-none-manylinux_2_17_x86_64.manylinux2014_x86_64.whl.metadata (9.7 kB)\n",
            "Requirement already satisfied: click!=8.0.0,>=7.1 in /usr/local/lib/python3.10/dist-packages (from wandb) (8.1.7)\n",
            "Collecting docker-pycreds>=0.4.0 (from wandb)\n",
            "  Downloading docker_pycreds-0.4.0-py2.py3-none-any.whl.metadata (1.8 kB)\n",
            "Collecting gitpython!=3.1.29,>=1.0.0 (from wandb)\n",
            "  Downloading GitPython-3.1.43-py3-none-any.whl.metadata (13 kB)\n",
            "Requirement already satisfied: platformdirs in /usr/local/lib/python3.10/dist-packages (from wandb) (4.3.6)\n",
            "Requirement already satisfied: protobuf!=4.21.0,!=5.28.0,<6,>=3.19.0 in /usr/local/lib/python3.10/dist-packages (from wandb) (3.20.3)\n",
            "Requirement already satisfied: psutil>=5.0.0 in /usr/local/lib/python3.10/dist-packages (from wandb) (5.9.5)\n",
            "Requirement already satisfied: pyyaml in /usr/local/lib/python3.10/dist-packages (from wandb) (6.0.2)\n",
            "Requirement already satisfied: requests<3,>=2.0.0 in /usr/local/lib/python3.10/dist-packages (from wandb) (2.32.3)\n",
            "Collecting sentry-sdk>=1.0.0 (from wandb)\n",
            "  Downloading sentry_sdk-2.16.0-py2.py3-none-any.whl.metadata (9.8 kB)\n",
            "Collecting setproctitle (from wandb)\n",
            "  Downloading setproctitle-1.3.3-cp310-cp310-manylinux_2_5_x86_64.manylinux1_x86_64.manylinux_2_17_x86_64.manylinux2014_x86_64.whl.metadata (9.9 kB)\n",
            "Requirement already satisfied: setuptools in /usr/local/lib/python3.10/dist-packages (from wandb) (71.0.4)\n",
            "Requirement already satisfied: six>=1.4.0 in /usr/local/lib/python3.10/dist-packages (from docker-pycreds>=0.4.0->wandb) (1.16.0)\n",
            "Collecting gitdb<5,>=4.0.1 (from gitpython!=3.1.29,>=1.0.0->wandb)\n",
            "  Downloading gitdb-4.0.11-py3-none-any.whl.metadata (1.2 kB)\n",
            "Requirement already satisfied: charset-normalizer<4,>=2 in /usr/local/lib/python3.10/dist-packages (from requests<3,>=2.0.0->wandb) (3.4.0)\n",
            "Requirement already satisfied: idna<4,>=2.5 in /usr/local/lib/python3.10/dist-packages (from requests<3,>=2.0.0->wandb) (3.10)\n",
            "Requirement already satisfied: urllib3<3,>=1.21.1 in /usr/local/lib/python3.10/dist-packages (from requests<3,>=2.0.0->wandb) (2.2.3)\n",
            "Requirement already satisfied: certifi>=2017.4.17 in /usr/local/lib/python3.10/dist-packages (from requests<3,>=2.0.0->wandb) (2024.8.30)\n",
            "Collecting smmap<6,>=3.0.1 (from gitdb<5,>=4.0.1->gitpython!=3.1.29,>=1.0.0->wandb)\n",
            "  Downloading smmap-5.0.1-py3-none-any.whl.metadata (4.3 kB)\n",
            "Downloading wandb-0.18.3-py3-none-manylinux_2_17_x86_64.manylinux2014_x86_64.whl (13.0 MB)\n",
            "\u001b[2K   \u001b[90m━━━━━━━━━━━━━━━━━━━━━━━━━━━━━━━━━━━━━━━━\u001b[0m \u001b[32m13.0/13.0 MB\u001b[0m \u001b[31m104.3 MB/s\u001b[0m eta \u001b[36m0:00:00\u001b[0m\n",
            "\u001b[?25hDownloading docker_pycreds-0.4.0-py2.py3-none-any.whl (9.0 kB)\n",
            "Downloading GitPython-3.1.43-py3-none-any.whl (207 kB)\n",
            "\u001b[2K   \u001b[90m━━━━━━━━━━━━━━━━━━━━━━━━━━━━━━━━━━━━━━━━\u001b[0m \u001b[32m207.3/207.3 kB\u001b[0m \u001b[31m16.0 MB/s\u001b[0m eta \u001b[36m0:00:00\u001b[0m\n",
            "\u001b[?25hDownloading sentry_sdk-2.16.0-py2.py3-none-any.whl (313 kB)\n",
            "\u001b[2K   \u001b[90m━━━━━━━━━━━━━━━━━━━━━━━━━━━━━━━━━━━━━━━━\u001b[0m \u001b[32m313.8/313.8 kB\u001b[0m \u001b[31m17.2 MB/s\u001b[0m eta \u001b[36m0:00:00\u001b[0m\n",
            "\u001b[?25hDownloading setproctitle-1.3.3-cp310-cp310-manylinux_2_5_x86_64.manylinux1_x86_64.manylinux_2_17_x86_64.manylinux2014_x86_64.whl (30 kB)\n",
            "Downloading gitdb-4.0.11-py3-none-any.whl (62 kB)\n",
            "\u001b[2K   \u001b[90m━━━━━━━━━━━━━━━━━━━━━━━━━━━━━━━━━━━━━━━━\u001b[0m \u001b[32m62.7/62.7 kB\u001b[0m \u001b[31m5.9 MB/s\u001b[0m eta \u001b[36m0:00:00\u001b[0m\n",
            "\u001b[?25hDownloading smmap-5.0.1-py3-none-any.whl (24 kB)\n",
            "Installing collected packages: smmap, setproctitle, sentry-sdk, docker-pycreds, gitdb, gitpython, wandb\n",
            "Successfully installed docker-pycreds-0.4.0 gitdb-4.0.11 gitpython-3.1.43 sentry-sdk-2.16.0 setproctitle-1.3.3 smmap-5.0.1 wandb-0.18.3\n"
          ]
        }
      ],
      "source": [
        "! pip install wandb\n",
        "import wandb"
      ]
    },
    {
      "cell_type": "code",
      "execution_count": null,
      "metadata": {
        "colab": {
          "base_uri": "https://localhost:8080/",
          "height": 1000,
          "referenced_widgets": [
            "a3575caec14346eab28ae9586124c391",
            "6414f656b44e47f0b68df29938bf78d4",
            "f85f30b8a0ce401da5845329aa6f9418",
            "932e08bf497e490998c9f1bc75c7592b",
            "5c9f7edfe2474654a23d525fb4cca056",
            "d3e42a779f2a4b97a26ab99dfc514691",
            "4245c5e20931469db6315419e375e779",
            "de93de5395ed4ddf9be3094bfdced157",
            "e2d8846b3d9344d0a51c6117de8b90b2",
            "6b404a93a9d24198b9cc91a774ebf06f",
            "ae5ddc5f607f4f308367763d3ce7cb32",
            "4a30e8b99e1c42cba1a54f735c7cad00",
            "d667473a3e514601993953ae6b4a1596",
            "60ce323616b745168380cf39127d53b6",
            "73a029eeab2b44a4a10b4268c9d00576",
            "c0b1a51dd8c041de9e0b64a70a4d4869",
            "83749532e21440d6bfe471b6e14feaa7",
            "98a77424141e49e4ba77c8c77cd55ad4",
            "85bd64b182d0435884cdaf3be5e1818c",
            "1124dce38c5c4915b12db0ebfb5fa8fa",
            "a63649f0ab054e6185b906607b809b15",
            "1ef19d3b77e14f0d90e1e804577f0f14",
            "3dc3b11a796843ee9949ee666ab8c03e",
            "17bfa5ccbea14bab917f4902a8364fe9",
            "87b06e128b47493380d460844f7b7536",
            "47c657e04684418c92c17504b56c7fcd",
            "50f4cfb6f4cb422580a35facd55abb83",
            "823afb76297e4829bcf1ceb3ad6ed743",
            "d62973a3e52147efb07e6f7451a6caed",
            "15d83053435a42d9aec9efa54106a197",
            "38b8f659a68049ae90bdb2db100e74e1",
            "10baeedd642a4715adf795dbe46b22ed",
            "5b0e4cddef14416e96e4403821b4c4d6",
            "2827b16a0d5e4683b8d41cc855fecad6",
            "a68debb545bd4d0fa727be16ccb5da8a",
            "6ad70aa6bbf3474c983d77620c25a413",
            "b7b9d332c2214f56892c22a87a67b8b8",
            "a1089c5752f34aa580908b56a5c9cea0",
            "ba221749679d47c0aa3d8d437f701323",
            "4a3d1438408545fe9c90db50d3536b94",
            "24f25e3982464c0a82dd13f0cd0c18ee",
            "4cda7d7e926d4e9d941b5f5b0d5d0414",
            "9391ec4cf97748eab154532d17e3cc71",
            "77b08f0c8a0945d894dc810996b06a23",
            "4a44a4163cdb42d8988d16989decc637",
            "dabb06dc44254272bf2a8ce0b6e0e86a",
            "337caf69bc3b417eb9fe556db1161d05",
            "0b284fb4f7b54fbebc0ea21f92c7691f"
          ]
        },
        "id": "W6z1s9kSetkd",
        "outputId": "322fdbd9-14e9-45d6-a5e5-bc4b4fe8e305"
      },
      "outputs": [
        {
          "name": "stderr",
          "output_type": "stream",
          "text": [
            "\u001b[34m\u001b[1mwandb\u001b[0m: Using wandb-core as the SDK backend. Please refer to https://wandb.me/wandb-core for more information.\n"
          ]
        },
        {
          "data": {
            "application/javascript": "\n        window._wandbApiKey = new Promise((resolve, reject) => {\n            function loadScript(url) {\n            return new Promise(function(resolve, reject) {\n                let newScript = document.createElement(\"script\");\n                newScript.onerror = reject;\n                newScript.onload = resolve;\n                document.body.appendChild(newScript);\n                newScript.src = url;\n            });\n            }\n            loadScript(\"https://cdn.jsdelivr.net/npm/postmate/build/postmate.min.js\").then(() => {\n            const iframe = document.createElement('iframe')\n            iframe.style.cssText = \"width:0;height:0;border:none\"\n            document.body.appendChild(iframe)\n            const handshake = new Postmate({\n                container: iframe,\n                url: 'https://wandb.ai/authorize'\n            });\n            const timeout = setTimeout(() => reject(\"Couldn't auto authenticate\"), 5000)\n            handshake.then(function(child) {\n                child.on('authorize', data => {\n                    clearTimeout(timeout)\n                    resolve(data)\n                });\n            });\n            })\n        });\n    ",
            "text/plain": [
              "<IPython.core.display.Javascript object>"
            ]
          },
          "metadata": {},
          "output_type": "display_data"
        },
        {
          "name": "stderr",
          "output_type": "stream",
          "text": [
            "\u001b[34m\u001b[1mwandb\u001b[0m: Appending key for api.wandb.ai to your netrc file: /root/.netrc\n",
            "\u001b[34m\u001b[1mwandb\u001b[0m: \u001b[33mWARNING\u001b[0m Malformed sweep config detected! This may cause your sweep to behave in unexpected ways.\n",
            "\u001b[34m\u001b[1mwandb\u001b[0m: \u001b[33mWARNING\u001b[0m To avoid this, please fix the sweep config schema violations below:\n",
            "\u001b[34m\u001b[1mwandb\u001b[0m: \u001b[33mWARNING\u001b[0m   Violation 1. weight_decay uses log_uniform, where min/max specify base-e exponents. Use log_uniform_values to specify limit values.\n"
          ]
        },
        {
          "name": "stdout",
          "output_type": "stream",
          "text": [
            "Create sweep with ID: tejhe79i\n",
            "Sweep URL: https://wandb.ai/deep_leaerning_pytorch/cifar100-centralized-baseline/sweeps/tejhe79i\n"
          ]
        },
        {
          "name": "stderr",
          "output_type": "stream",
          "text": [
            "\u001b[34m\u001b[1mwandb\u001b[0m: Agent Starting Run: cxa0q3pu with config:\n",
            "\u001b[34m\u001b[1mwandb\u001b[0m: \tbatch_size: 64\n",
            "\u001b[34m\u001b[1mwandb\u001b[0m: \tepochs: 100\n",
            "\u001b[34m\u001b[1mwandb\u001b[0m: \tlearning_rate: 0.006548317096494973\n",
            "\u001b[34m\u001b[1mwandb\u001b[0m: \tmomentum: 0.8269530640187834\n",
            "\u001b[34m\u001b[1mwandb\u001b[0m: \tweight_decay: 1.0000661323412507\n",
            "\u001b[34m\u001b[1mwandb\u001b[0m: Currently logged in as: \u001b[33ms314800\u001b[0m (\u001b[33mdeep_leaerning_pytorch\u001b[0m). Use \u001b[1m`wandb login --relogin`\u001b[0m to force relogin\n",
            "\u001b[34m\u001b[1mwandb\u001b[0m: \u001b[33mWARNING\u001b[0m Ignored wandb.init() arg project when running a sweep.\n"
          ]
        },
        {
          "data": {
            "text/html": [
              "Tracking run with wandb version 0.18.3"
            ],
            "text/plain": [
              "<IPython.core.display.HTML object>"
            ]
          },
          "metadata": {},
          "output_type": "display_data"
        },
        {
          "data": {
            "text/html": [
              "Run data is saved locally in <code>/content/wandb/run-20241015_144200-cxa0q3pu</code>"
            ],
            "text/plain": [
              "<IPython.core.display.HTML object>"
            ]
          },
          "metadata": {},
          "output_type": "display_data"
        },
        {
          "data": {
            "text/html": [
              "Syncing run <strong><a href='https://wandb.ai/deep_leaerning_pytorch/cifar100-centralized-baseline/runs/cxa0q3pu' target=\"_blank\">desert-sweep-1</a></strong> to <a href='https://wandb.ai/deep_leaerning_pytorch/cifar100-centralized-baseline' target=\"_blank\">Weights & Biases</a> (<a href='https://wandb.me/run' target=\"_blank\">docs</a>)<br/>Sweep page: <a href='https://wandb.ai/deep_leaerning_pytorch/cifar100-centralized-baseline/sweeps/tejhe79i' target=\"_blank\">https://wandb.ai/deep_leaerning_pytorch/cifar100-centralized-baseline/sweeps/tejhe79i</a>"
            ],
            "text/plain": [
              "<IPython.core.display.HTML object>"
            ]
          },
          "metadata": {},
          "output_type": "display_data"
        },
        {
          "data": {
            "text/html": [
              " View project at <a href='https://wandb.ai/deep_leaerning_pytorch/cifar100-centralized-baseline' target=\"_blank\">https://wandb.ai/deep_leaerning_pytorch/cifar100-centralized-baseline</a>"
            ],
            "text/plain": [
              "<IPython.core.display.HTML object>"
            ]
          },
          "metadata": {},
          "output_type": "display_data"
        },
        {
          "data": {
            "text/html": [
              " View sweep at <a href='https://wandb.ai/deep_leaerning_pytorch/cifar100-centralized-baseline/sweeps/tejhe79i' target=\"_blank\">https://wandb.ai/deep_leaerning_pytorch/cifar100-centralized-baseline/sweeps/tejhe79i</a>"
            ],
            "text/plain": [
              "<IPython.core.display.HTML object>"
            ]
          },
          "metadata": {},
          "output_type": "display_data"
        },
        {
          "data": {
            "text/html": [
              " View run at <a href='https://wandb.ai/deep_leaerning_pytorch/cifar100-centralized-baseline/runs/cxa0q3pu' target=\"_blank\">https://wandb.ai/deep_leaerning_pytorch/cifar100-centralized-baseline/runs/cxa0q3pu</a>"
            ],
            "text/plain": [
              "<IPython.core.display.HTML object>"
            ]
          },
          "metadata": {},
          "output_type": "display_data"
        },
        {
          "data": {
            "application/vnd.jupyter.widget-view+json": {
              "model_id": "a3575caec14346eab28ae9586124c391",
              "version_major": 2,
              "version_minor": 0
            },
            "text/plain": [
              "VBox(children=(Label(value='0.011 MB of 0.011 MB uploaded\\r'), FloatProgress(value=1.0, max=1.0)))"
            ]
          },
          "metadata": {},
          "output_type": "display_data"
        },
        {
          "data": {
            "text/html": [
              " View run <strong style=\"color:#cdcd00\">desert-sweep-1</strong> at: <a href='https://wandb.ai/deep_leaerning_pytorch/cifar100-centralized-baseline/runs/cxa0q3pu' target=\"_blank\">https://wandb.ai/deep_leaerning_pytorch/cifar100-centralized-baseline/runs/cxa0q3pu</a><br/> View project at: <a href='https://wandb.ai/deep_leaerning_pytorch/cifar100-centralized-baseline' target=\"_blank\">https://wandb.ai/deep_leaerning_pytorch/cifar100-centralized-baseline</a><br/>Synced 5 W&B file(s), 0 media file(s), 0 artifact file(s) and 0 other file(s)"
            ],
            "text/plain": [
              "<IPython.core.display.HTML object>"
            ]
          },
          "metadata": {},
          "output_type": "display_data"
        },
        {
          "data": {
            "text/html": [
              "Find logs at: <code>./wandb/run-20241015_144200-cxa0q3pu/logs</code>"
            ],
            "text/plain": [
              "<IPython.core.display.HTML object>"
            ]
          },
          "metadata": {},
          "output_type": "display_data"
        },
        {
          "name": "stderr",
          "output_type": "stream",
          "text": [
            "Run cxa0q3pu errored:\n",
            "Traceback (most recent call last):\n",
            "  File \"/usr/local/lib/python3.10/dist-packages/wandb/agents/pyagent.py\", line 306, in _run_job\n",
            "    self._function()\n",
            "  File \"<ipython-input-13-30773cf838b8>\", line 12, in main\n",
            "    trainloader, valloader, testloader = load_data(config.batch_size)\n",
            "NameError: name 'load_data' is not defined\n",
            "\n",
            "\u001b[34m\u001b[1mwandb\u001b[0m: \u001b[32m\u001b[41mERROR\u001b[0m Run cxa0q3pu errored:\n",
            "\u001b[34m\u001b[1mwandb\u001b[0m: \u001b[32m\u001b[41mERROR\u001b[0m Traceback (most recent call last):\n",
            "\u001b[34m\u001b[1mwandb\u001b[0m: \u001b[32m\u001b[41mERROR\u001b[0m   File \"/usr/local/lib/python3.10/dist-packages/wandb/agents/pyagent.py\", line 306, in _run_job\n",
            "\u001b[34m\u001b[1mwandb\u001b[0m: \u001b[32m\u001b[41mERROR\u001b[0m     self._function()\n",
            "\u001b[34m\u001b[1mwandb\u001b[0m: \u001b[32m\u001b[41mERROR\u001b[0m   File \"<ipython-input-13-30773cf838b8>\", line 12, in main\n",
            "\u001b[34m\u001b[1mwandb\u001b[0m: \u001b[32m\u001b[41mERROR\u001b[0m     trainloader, valloader, testloader = load_data(config.batch_size)\n",
            "\u001b[34m\u001b[1mwandb\u001b[0m: \u001b[32m\u001b[41mERROR\u001b[0m NameError: name 'load_data' is not defined\n",
            "\u001b[34m\u001b[1mwandb\u001b[0m: \u001b[32m\u001b[41mERROR\u001b[0m \n",
            "\u001b[34m\u001b[1mwandb\u001b[0m: Agent Starting Run: 0ddugqoi with config:\n",
            "\u001b[34m\u001b[1mwandb\u001b[0m: \tbatch_size: 128\n",
            "\u001b[34m\u001b[1mwandb\u001b[0m: \tepochs: 100\n",
            "\u001b[34m\u001b[1mwandb\u001b[0m: \tlearning_rate: 0.027057755107484205\n",
            "\u001b[34m\u001b[1mwandb\u001b[0m: \tmomentum: 0.801711532640126\n",
            "\u001b[34m\u001b[1mwandb\u001b[0m: \tweight_decay: 1.000950406849514\n",
            "\u001b[34m\u001b[1mwandb\u001b[0m: \u001b[33mWARNING\u001b[0m Ignored wandb.init() arg project when running a sweep.\n"
          ]
        },
        {
          "data": {
            "text/html": [
              "Tracking run with wandb version 0.18.3"
            ],
            "text/plain": [
              "<IPython.core.display.HTML object>"
            ]
          },
          "metadata": {},
          "output_type": "display_data"
        },
        {
          "data": {
            "text/html": [
              "Run data is saved locally in <code>/content/wandb/run-20241015_144211-0ddugqoi</code>"
            ],
            "text/plain": [
              "<IPython.core.display.HTML object>"
            ]
          },
          "metadata": {},
          "output_type": "display_data"
        },
        {
          "data": {
            "text/html": [
              "Syncing run <strong><a href='https://wandb.ai/deep_leaerning_pytorch/cifar100-centralized-baseline/runs/0ddugqoi' target=\"_blank\">copper-sweep-2</a></strong> to <a href='https://wandb.ai/deep_leaerning_pytorch/cifar100-centralized-baseline' target=\"_blank\">Weights & Biases</a> (<a href='https://wandb.me/run' target=\"_blank\">docs</a>)<br/>Sweep page: <a href='https://wandb.ai/deep_leaerning_pytorch/cifar100-centralized-baseline/sweeps/tejhe79i' target=\"_blank\">https://wandb.ai/deep_leaerning_pytorch/cifar100-centralized-baseline/sweeps/tejhe79i</a>"
            ],
            "text/plain": [
              "<IPython.core.display.HTML object>"
            ]
          },
          "metadata": {},
          "output_type": "display_data"
        },
        {
          "data": {
            "text/html": [
              " View project at <a href='https://wandb.ai/deep_leaerning_pytorch/cifar100-centralized-baseline' target=\"_blank\">https://wandb.ai/deep_leaerning_pytorch/cifar100-centralized-baseline</a>"
            ],
            "text/plain": [
              "<IPython.core.display.HTML object>"
            ]
          },
          "metadata": {},
          "output_type": "display_data"
        },
        {
          "data": {
            "text/html": [
              " View sweep at <a href='https://wandb.ai/deep_leaerning_pytorch/cifar100-centralized-baseline/sweeps/tejhe79i' target=\"_blank\">https://wandb.ai/deep_leaerning_pytorch/cifar100-centralized-baseline/sweeps/tejhe79i</a>"
            ],
            "text/plain": [
              "<IPython.core.display.HTML object>"
            ]
          },
          "metadata": {},
          "output_type": "display_data"
        },
        {
          "data": {
            "text/html": [
              " View run at <a href='https://wandb.ai/deep_leaerning_pytorch/cifar100-centralized-baseline/runs/0ddugqoi' target=\"_blank\">https://wandb.ai/deep_leaerning_pytorch/cifar100-centralized-baseline/runs/0ddugqoi</a>"
            ],
            "text/plain": [
              "<IPython.core.display.HTML object>"
            ]
          },
          "metadata": {},
          "output_type": "display_data"
        },
        {
          "data": {
            "application/vnd.jupyter.widget-view+json": {
              "model_id": "e2d8846b3d9344d0a51c6117de8b90b2",
              "version_major": 2,
              "version_minor": 0
            },
            "text/plain": [
              "VBox(children=(Label(value='0.011 MB of 0.011 MB uploaded\\r'), FloatProgress(value=1.0, max=1.0)))"
            ]
          },
          "metadata": {},
          "output_type": "display_data"
        },
        {
          "data": {
            "text/html": [
              " View run <strong style=\"color:#cdcd00\">copper-sweep-2</strong> at: <a href='https://wandb.ai/deep_leaerning_pytorch/cifar100-centralized-baseline/runs/0ddugqoi' target=\"_blank\">https://wandb.ai/deep_leaerning_pytorch/cifar100-centralized-baseline/runs/0ddugqoi</a><br/> View project at: <a href='https://wandb.ai/deep_leaerning_pytorch/cifar100-centralized-baseline' target=\"_blank\">https://wandb.ai/deep_leaerning_pytorch/cifar100-centralized-baseline</a><br/>Synced 5 W&B file(s), 0 media file(s), 0 artifact file(s) and 0 other file(s)"
            ],
            "text/plain": [
              "<IPython.core.display.HTML object>"
            ]
          },
          "metadata": {},
          "output_type": "display_data"
        },
        {
          "data": {
            "text/html": [
              "Find logs at: <code>./wandb/run-20241015_144211-0ddugqoi/logs</code>"
            ],
            "text/plain": [
              "<IPython.core.display.HTML object>"
            ]
          },
          "metadata": {},
          "output_type": "display_data"
        },
        {
          "name": "stderr",
          "output_type": "stream",
          "text": [
            "Run 0ddugqoi errored:\n",
            "Traceback (most recent call last):\n",
            "  File \"/usr/local/lib/python3.10/dist-packages/wandb/agents/pyagent.py\", line 306, in _run_job\n",
            "    self._function()\n",
            "  File \"<ipython-input-13-30773cf838b8>\", line 12, in main\n",
            "    trainloader, valloader, testloader = load_data(config.batch_size)\n",
            "NameError: name 'load_data' is not defined\n",
            "\n",
            "\u001b[34m\u001b[1mwandb\u001b[0m: \u001b[32m\u001b[41mERROR\u001b[0m Run 0ddugqoi errored:\n",
            "\u001b[34m\u001b[1mwandb\u001b[0m: \u001b[32m\u001b[41mERROR\u001b[0m Traceback (most recent call last):\n",
            "\u001b[34m\u001b[1mwandb\u001b[0m: \u001b[32m\u001b[41mERROR\u001b[0m   File \"/usr/local/lib/python3.10/dist-packages/wandb/agents/pyagent.py\", line 306, in _run_job\n",
            "\u001b[34m\u001b[1mwandb\u001b[0m: \u001b[32m\u001b[41mERROR\u001b[0m     self._function()\n",
            "\u001b[34m\u001b[1mwandb\u001b[0m: \u001b[32m\u001b[41mERROR\u001b[0m   File \"<ipython-input-13-30773cf838b8>\", line 12, in main\n",
            "\u001b[34m\u001b[1mwandb\u001b[0m: \u001b[32m\u001b[41mERROR\u001b[0m     trainloader, valloader, testloader = load_data(config.batch_size)\n",
            "\u001b[34m\u001b[1mwandb\u001b[0m: \u001b[32m\u001b[41mERROR\u001b[0m NameError: name 'load_data' is not defined\n",
            "\u001b[34m\u001b[1mwandb\u001b[0m: \u001b[32m\u001b[41mERROR\u001b[0m \n",
            "\u001b[34m\u001b[1mwandb\u001b[0m: Agent Starting Run: 5z1philw with config:\n",
            "\u001b[34m\u001b[1mwandb\u001b[0m: \tbatch_size: 128\n",
            "\u001b[34m\u001b[1mwandb\u001b[0m: \tepochs: 100\n",
            "\u001b[34m\u001b[1mwandb\u001b[0m: \tlearning_rate: 0.07343463755051535\n",
            "\u001b[34m\u001b[1mwandb\u001b[0m: \tmomentum: 0.9277584857725204\n",
            "\u001b[34m\u001b[1mwandb\u001b[0m: \tweight_decay: 1.0004982872755293\n",
            "\u001b[34m\u001b[1mwandb\u001b[0m: \u001b[33mWARNING\u001b[0m Ignored wandb.init() arg project when running a sweep.\n"
          ]
        },
        {
          "data": {
            "text/html": [
              "Tracking run with wandb version 0.18.3"
            ],
            "text/plain": [
              "<IPython.core.display.HTML object>"
            ]
          },
          "metadata": {},
          "output_type": "display_data"
        },
        {
          "data": {
            "text/html": [
              "Run data is saved locally in <code>/content/wandb/run-20241015_144222-5z1philw</code>"
            ],
            "text/plain": [
              "<IPython.core.display.HTML object>"
            ]
          },
          "metadata": {},
          "output_type": "display_data"
        },
        {
          "data": {
            "text/html": [
              "Syncing run <strong><a href='https://wandb.ai/deep_leaerning_pytorch/cifar100-centralized-baseline/runs/5z1philw' target=\"_blank\">iconic-sweep-3</a></strong> to <a href='https://wandb.ai/deep_leaerning_pytorch/cifar100-centralized-baseline' target=\"_blank\">Weights & Biases</a> (<a href='https://wandb.me/run' target=\"_blank\">docs</a>)<br/>Sweep page: <a href='https://wandb.ai/deep_leaerning_pytorch/cifar100-centralized-baseline/sweeps/tejhe79i' target=\"_blank\">https://wandb.ai/deep_leaerning_pytorch/cifar100-centralized-baseline/sweeps/tejhe79i</a>"
            ],
            "text/plain": [
              "<IPython.core.display.HTML object>"
            ]
          },
          "metadata": {},
          "output_type": "display_data"
        },
        {
          "data": {
            "text/html": [
              " View project at <a href='https://wandb.ai/deep_leaerning_pytorch/cifar100-centralized-baseline' target=\"_blank\">https://wandb.ai/deep_leaerning_pytorch/cifar100-centralized-baseline</a>"
            ],
            "text/plain": [
              "<IPython.core.display.HTML object>"
            ]
          },
          "metadata": {},
          "output_type": "display_data"
        },
        {
          "data": {
            "text/html": [
              " View sweep at <a href='https://wandb.ai/deep_leaerning_pytorch/cifar100-centralized-baseline/sweeps/tejhe79i' target=\"_blank\">https://wandb.ai/deep_leaerning_pytorch/cifar100-centralized-baseline/sweeps/tejhe79i</a>"
            ],
            "text/plain": [
              "<IPython.core.display.HTML object>"
            ]
          },
          "metadata": {},
          "output_type": "display_data"
        },
        {
          "data": {
            "text/html": [
              " View run at <a href='https://wandb.ai/deep_leaerning_pytorch/cifar100-centralized-baseline/runs/5z1philw' target=\"_blank\">https://wandb.ai/deep_leaerning_pytorch/cifar100-centralized-baseline/runs/5z1philw</a>"
            ],
            "text/plain": [
              "<IPython.core.display.HTML object>"
            ]
          },
          "metadata": {},
          "output_type": "display_data"
        },
        {
          "data": {
            "application/vnd.jupyter.widget-view+json": {
              "model_id": "83749532e21440d6bfe471b6e14feaa7",
              "version_major": 2,
              "version_minor": 0
            },
            "text/plain": [
              "VBox(children=(Label(value='0.011 MB of 0.011 MB uploaded\\r'), FloatProgress(value=1.0, max=1.0)))"
            ]
          },
          "metadata": {},
          "output_type": "display_data"
        },
        {
          "data": {
            "text/html": [
              " View run <strong style=\"color:#cdcd00\">iconic-sweep-3</strong> at: <a href='https://wandb.ai/deep_leaerning_pytorch/cifar100-centralized-baseline/runs/5z1philw' target=\"_blank\">https://wandb.ai/deep_leaerning_pytorch/cifar100-centralized-baseline/runs/5z1philw</a><br/> View project at: <a href='https://wandb.ai/deep_leaerning_pytorch/cifar100-centralized-baseline' target=\"_blank\">https://wandb.ai/deep_leaerning_pytorch/cifar100-centralized-baseline</a><br/>Synced 5 W&B file(s), 0 media file(s), 0 artifact file(s) and 0 other file(s)"
            ],
            "text/plain": [
              "<IPython.core.display.HTML object>"
            ]
          },
          "metadata": {},
          "output_type": "display_data"
        },
        {
          "data": {
            "text/html": [
              "Find logs at: <code>./wandb/run-20241015_144222-5z1philw/logs</code>"
            ],
            "text/plain": [
              "<IPython.core.display.HTML object>"
            ]
          },
          "metadata": {},
          "output_type": "display_data"
        },
        {
          "name": "stderr",
          "output_type": "stream",
          "text": [
            "Run 5z1philw errored:\n",
            "Traceback (most recent call last):\n",
            "  File \"/usr/local/lib/python3.10/dist-packages/wandb/agents/pyagent.py\", line 306, in _run_job\n",
            "    self._function()\n",
            "  File \"<ipython-input-13-30773cf838b8>\", line 12, in main\n",
            "    trainloader, valloader, testloader = load_data(config.batch_size)\n",
            "NameError: name 'load_data' is not defined\n",
            "\n",
            "\u001b[34m\u001b[1mwandb\u001b[0m: \u001b[32m\u001b[41mERROR\u001b[0m Run 5z1philw errored:\n",
            "\u001b[34m\u001b[1mwandb\u001b[0m: \u001b[32m\u001b[41mERROR\u001b[0m Traceback (most recent call last):\n",
            "\u001b[34m\u001b[1mwandb\u001b[0m: \u001b[32m\u001b[41mERROR\u001b[0m   File \"/usr/local/lib/python3.10/dist-packages/wandb/agents/pyagent.py\", line 306, in _run_job\n",
            "\u001b[34m\u001b[1mwandb\u001b[0m: \u001b[32m\u001b[41mERROR\u001b[0m     self._function()\n",
            "\u001b[34m\u001b[1mwandb\u001b[0m: \u001b[32m\u001b[41mERROR\u001b[0m   File \"<ipython-input-13-30773cf838b8>\", line 12, in main\n",
            "\u001b[34m\u001b[1mwandb\u001b[0m: \u001b[32m\u001b[41mERROR\u001b[0m     trainloader, valloader, testloader = load_data(config.batch_size)\n",
            "\u001b[34m\u001b[1mwandb\u001b[0m: \u001b[32m\u001b[41mERROR\u001b[0m NameError: name 'load_data' is not defined\n",
            "\u001b[34m\u001b[1mwandb\u001b[0m: \u001b[32m\u001b[41mERROR\u001b[0m \n",
            "\u001b[34m\u001b[1mwandb\u001b[0m: Agent Starting Run: 1j7ko1to with config:\n",
            "\u001b[34m\u001b[1mwandb\u001b[0m: \tbatch_size: 64\n",
            "\u001b[34m\u001b[1mwandb\u001b[0m: \tepochs: 100\n",
            "\u001b[34m\u001b[1mwandb\u001b[0m: \tlearning_rate: 0.04216769767670046\n",
            "\u001b[34m\u001b[1mwandb\u001b[0m: \tmomentum: 0.8895150468801913\n",
            "\u001b[34m\u001b[1mwandb\u001b[0m: \tweight_decay: 1.0004524515625923\n",
            "\u001b[34m\u001b[1mwandb\u001b[0m: \u001b[33mWARNING\u001b[0m Ignored wandb.init() arg project when running a sweep.\n"
          ]
        },
        {
          "data": {
            "text/html": [
              "Tracking run with wandb version 0.18.3"
            ],
            "text/plain": [
              "<IPython.core.display.HTML object>"
            ]
          },
          "metadata": {},
          "output_type": "display_data"
        },
        {
          "data": {
            "text/html": [
              "Run data is saved locally in <code>/content/wandb/run-20241015_144335-1j7ko1to</code>"
            ],
            "text/plain": [
              "<IPython.core.display.HTML object>"
            ]
          },
          "metadata": {},
          "output_type": "display_data"
        },
        {
          "data": {
            "text/html": [
              "Syncing run <strong><a href='https://wandb.ai/deep_leaerning_pytorch/cifar100-centralized-baseline/runs/1j7ko1to' target=\"_blank\">lucky-sweep-4</a></strong> to <a href='https://wandb.ai/deep_leaerning_pytorch/cifar100-centralized-baseline' target=\"_blank\">Weights & Biases</a> (<a href='https://wandb.me/run' target=\"_blank\">docs</a>)<br/>Sweep page: <a href='https://wandb.ai/deep_leaerning_pytorch/cifar100-centralized-baseline/sweeps/tejhe79i' target=\"_blank\">https://wandb.ai/deep_leaerning_pytorch/cifar100-centralized-baseline/sweeps/tejhe79i</a>"
            ],
            "text/plain": [
              "<IPython.core.display.HTML object>"
            ]
          },
          "metadata": {},
          "output_type": "display_data"
        },
        {
          "data": {
            "text/html": [
              " View project at <a href='https://wandb.ai/deep_leaerning_pytorch/cifar100-centralized-baseline' target=\"_blank\">https://wandb.ai/deep_leaerning_pytorch/cifar100-centralized-baseline</a>"
            ],
            "text/plain": [
              "<IPython.core.display.HTML object>"
            ]
          },
          "metadata": {},
          "output_type": "display_data"
        },
        {
          "data": {
            "text/html": [
              " View sweep at <a href='https://wandb.ai/deep_leaerning_pytorch/cifar100-centralized-baseline/sweeps/tejhe79i' target=\"_blank\">https://wandb.ai/deep_leaerning_pytorch/cifar100-centralized-baseline/sweeps/tejhe79i</a>"
            ],
            "text/plain": [
              "<IPython.core.display.HTML object>"
            ]
          },
          "metadata": {},
          "output_type": "display_data"
        },
        {
          "data": {
            "text/html": [
              " View run at <a href='https://wandb.ai/deep_leaerning_pytorch/cifar100-centralized-baseline/runs/1j7ko1to' target=\"_blank\">https://wandb.ai/deep_leaerning_pytorch/cifar100-centralized-baseline/runs/1j7ko1to</a>"
            ],
            "text/plain": [
              "<IPython.core.display.HTML object>"
            ]
          },
          "metadata": {},
          "output_type": "display_data"
        },
        {
          "data": {
            "application/vnd.jupyter.widget-view+json": {
              "model_id": "87b06e128b47493380d460844f7b7536",
              "version_major": 2,
              "version_minor": 0
            },
            "text/plain": [
              "VBox(children=(Label(value='0.011 MB of 0.011 MB uploaded\\r'), FloatProgress(value=1.0, max=1.0)))"
            ]
          },
          "metadata": {},
          "output_type": "display_data"
        },
        {
          "data": {
            "text/html": [
              " View run <strong style=\"color:#cdcd00\">lucky-sweep-4</strong> at: <a href='https://wandb.ai/deep_leaerning_pytorch/cifar100-centralized-baseline/runs/1j7ko1to' target=\"_blank\">https://wandb.ai/deep_leaerning_pytorch/cifar100-centralized-baseline/runs/1j7ko1to</a><br/> View project at: <a href='https://wandb.ai/deep_leaerning_pytorch/cifar100-centralized-baseline' target=\"_blank\">https://wandb.ai/deep_leaerning_pytorch/cifar100-centralized-baseline</a><br/>Synced 5 W&B file(s), 0 media file(s), 0 artifact file(s) and 0 other file(s)"
            ],
            "text/plain": [
              "<IPython.core.display.HTML object>"
            ]
          },
          "metadata": {},
          "output_type": "display_data"
        },
        {
          "data": {
            "text/html": [
              "Find logs at: <code>./wandb/run-20241015_144335-1j7ko1to/logs</code>"
            ],
            "text/plain": [
              "<IPython.core.display.HTML object>"
            ]
          },
          "metadata": {},
          "output_type": "display_data"
        },
        {
          "name": "stderr",
          "output_type": "stream",
          "text": [
            "Run 1j7ko1to errored:\n",
            "Traceback (most recent call last):\n",
            "  File \"/usr/local/lib/python3.10/dist-packages/wandb/agents/pyagent.py\", line 306, in _run_job\n",
            "    self._function()\n",
            "  File \"<ipython-input-13-30773cf838b8>\", line 12, in main\n",
            "    trainloader, valloader, testloader = load_data(config.batch_size)\n",
            "NameError: name 'load_data' is not defined\n",
            "\n",
            "\u001b[34m\u001b[1mwandb\u001b[0m: \u001b[32m\u001b[41mERROR\u001b[0m Run 1j7ko1to errored:\n",
            "\u001b[34m\u001b[1mwandb\u001b[0m: \u001b[32m\u001b[41mERROR\u001b[0m Traceback (most recent call last):\n",
            "\u001b[34m\u001b[1mwandb\u001b[0m: \u001b[32m\u001b[41mERROR\u001b[0m   File \"/usr/local/lib/python3.10/dist-packages/wandb/agents/pyagent.py\", line 306, in _run_job\n",
            "\u001b[34m\u001b[1mwandb\u001b[0m: \u001b[32m\u001b[41mERROR\u001b[0m     self._function()\n",
            "\u001b[34m\u001b[1mwandb\u001b[0m: \u001b[32m\u001b[41mERROR\u001b[0m   File \"<ipython-input-13-30773cf838b8>\", line 12, in main\n",
            "\u001b[34m\u001b[1mwandb\u001b[0m: \u001b[32m\u001b[41mERROR\u001b[0m     trainloader, valloader, testloader = load_data(config.batch_size)\n",
            "\u001b[34m\u001b[1mwandb\u001b[0m: \u001b[32m\u001b[41mERROR\u001b[0m NameError: name 'load_data' is not defined\n",
            "\u001b[34m\u001b[1mwandb\u001b[0m: \u001b[32m\u001b[41mERROR\u001b[0m \n",
            "\u001b[34m\u001b[1mwandb\u001b[0m: Agent Starting Run: 3r9d5l6k with config:\n",
            "\u001b[34m\u001b[1mwandb\u001b[0m: \tbatch_size: 256\n",
            "\u001b[34m\u001b[1mwandb\u001b[0m: \tepochs: 100\n",
            "\u001b[34m\u001b[1mwandb\u001b[0m: \tlearning_rate: 0.0938567586017676\n",
            "\u001b[34m\u001b[1mwandb\u001b[0m: \tmomentum: 0.8044901925730037\n",
            "\u001b[34m\u001b[1mwandb\u001b[0m: \tweight_decay: 1.0001405754196977\n",
            "\u001b[34m\u001b[1mwandb\u001b[0m: \u001b[33mWARNING\u001b[0m Ignored wandb.init() arg project when running a sweep.\n"
          ]
        },
        {
          "data": {
            "text/html": [
              "Tracking run with wandb version 0.18.3"
            ],
            "text/plain": [
              "<IPython.core.display.HTML object>"
            ]
          },
          "metadata": {},
          "output_type": "display_data"
        },
        {
          "data": {
            "text/html": [
              "Run data is saved locally in <code>/content/wandb/run-20241015_144346-3r9d5l6k</code>"
            ],
            "text/plain": [
              "<IPython.core.display.HTML object>"
            ]
          },
          "metadata": {},
          "output_type": "display_data"
        },
        {
          "data": {
            "text/html": [
              "Syncing run <strong><a href='https://wandb.ai/deep_leaerning_pytorch/cifar100-centralized-baseline/runs/3r9d5l6k' target=\"_blank\">rosy-sweep-5</a></strong> to <a href='https://wandb.ai/deep_leaerning_pytorch/cifar100-centralized-baseline' target=\"_blank\">Weights & Biases</a> (<a href='https://wandb.me/run' target=\"_blank\">docs</a>)<br/>Sweep page: <a href='https://wandb.ai/deep_leaerning_pytorch/cifar100-centralized-baseline/sweeps/tejhe79i' target=\"_blank\">https://wandb.ai/deep_leaerning_pytorch/cifar100-centralized-baseline/sweeps/tejhe79i</a>"
            ],
            "text/plain": [
              "<IPython.core.display.HTML object>"
            ]
          },
          "metadata": {},
          "output_type": "display_data"
        },
        {
          "data": {
            "text/html": [
              " View project at <a href='https://wandb.ai/deep_leaerning_pytorch/cifar100-centralized-baseline' target=\"_blank\">https://wandb.ai/deep_leaerning_pytorch/cifar100-centralized-baseline</a>"
            ],
            "text/plain": [
              "<IPython.core.display.HTML object>"
            ]
          },
          "metadata": {},
          "output_type": "display_data"
        },
        {
          "data": {
            "text/html": [
              " View sweep at <a href='https://wandb.ai/deep_leaerning_pytorch/cifar100-centralized-baseline/sweeps/tejhe79i' target=\"_blank\">https://wandb.ai/deep_leaerning_pytorch/cifar100-centralized-baseline/sweeps/tejhe79i</a>"
            ],
            "text/plain": [
              "<IPython.core.display.HTML object>"
            ]
          },
          "metadata": {},
          "output_type": "display_data"
        },
        {
          "data": {
            "text/html": [
              " View run at <a href='https://wandb.ai/deep_leaerning_pytorch/cifar100-centralized-baseline/runs/3r9d5l6k' target=\"_blank\">https://wandb.ai/deep_leaerning_pytorch/cifar100-centralized-baseline/runs/3r9d5l6k</a>"
            ],
            "text/plain": [
              "<IPython.core.display.HTML object>"
            ]
          },
          "metadata": {},
          "output_type": "display_data"
        },
        {
          "data": {
            "application/vnd.jupyter.widget-view+json": {
              "model_id": "5b0e4cddef14416e96e4403821b4c4d6",
              "version_major": 2,
              "version_minor": 0
            },
            "text/plain": [
              "VBox(children=(Label(value='0.011 MB of 0.011 MB uploaded\\r'), FloatProgress(value=1.0, max=1.0)))"
            ]
          },
          "metadata": {},
          "output_type": "display_data"
        },
        {
          "data": {
            "text/html": [
              " View run <strong style=\"color:#cdcd00\">rosy-sweep-5</strong> at: <a href='https://wandb.ai/deep_leaerning_pytorch/cifar100-centralized-baseline/runs/3r9d5l6k' target=\"_blank\">https://wandb.ai/deep_leaerning_pytorch/cifar100-centralized-baseline/runs/3r9d5l6k</a><br/> View project at: <a href='https://wandb.ai/deep_leaerning_pytorch/cifar100-centralized-baseline' target=\"_blank\">https://wandb.ai/deep_leaerning_pytorch/cifar100-centralized-baseline</a><br/>Synced 5 W&B file(s), 0 media file(s), 0 artifact file(s) and 0 other file(s)"
            ],
            "text/plain": [
              "<IPython.core.display.HTML object>"
            ]
          },
          "metadata": {},
          "output_type": "display_data"
        },
        {
          "data": {
            "text/html": [
              "Find logs at: <code>./wandb/run-20241015_144346-3r9d5l6k/logs</code>"
            ],
            "text/plain": [
              "<IPython.core.display.HTML object>"
            ]
          },
          "metadata": {},
          "output_type": "display_data"
        },
        {
          "name": "stderr",
          "output_type": "stream",
          "text": [
            "Run 3r9d5l6k errored:\n",
            "Traceback (most recent call last):\n",
            "  File \"/usr/local/lib/python3.10/dist-packages/wandb/agents/pyagent.py\", line 306, in _run_job\n",
            "    self._function()\n",
            "  File \"<ipython-input-13-30773cf838b8>\", line 12, in main\n",
            "    trainloader, valloader, testloader = load_data(config.batch_size)\n",
            "NameError: name 'load_data' is not defined\n",
            "\n",
            "\u001b[34m\u001b[1mwandb\u001b[0m: \u001b[32m\u001b[41mERROR\u001b[0m Run 3r9d5l6k errored:\n",
            "\u001b[34m\u001b[1mwandb\u001b[0m: \u001b[32m\u001b[41mERROR\u001b[0m Traceback (most recent call last):\n",
            "\u001b[34m\u001b[1mwandb\u001b[0m: \u001b[32m\u001b[41mERROR\u001b[0m   File \"/usr/local/lib/python3.10/dist-packages/wandb/agents/pyagent.py\", line 306, in _run_job\n",
            "\u001b[34m\u001b[1mwandb\u001b[0m: \u001b[32m\u001b[41mERROR\u001b[0m     self._function()\n",
            "\u001b[34m\u001b[1mwandb\u001b[0m: \u001b[32m\u001b[41mERROR\u001b[0m   File \"<ipython-input-13-30773cf838b8>\", line 12, in main\n",
            "\u001b[34m\u001b[1mwandb\u001b[0m: \u001b[32m\u001b[41mERROR\u001b[0m     trainloader, valloader, testloader = load_data(config.batch_size)\n",
            "\u001b[34m\u001b[1mwandb\u001b[0m: \u001b[32m\u001b[41mERROR\u001b[0m NameError: name 'load_data' is not defined\n",
            "\u001b[34m\u001b[1mwandb\u001b[0m: \u001b[32m\u001b[41mERROR\u001b[0m \n",
            "\u001b[34m\u001b[1mwandb\u001b[0m: Agent Starting Run: p6oonf37 with config:\n",
            "\u001b[34m\u001b[1mwandb\u001b[0m: \tbatch_size: 128\n",
            "\u001b[34m\u001b[1mwandb\u001b[0m: \tepochs: 100\n",
            "\u001b[34m\u001b[1mwandb\u001b[0m: \tlearning_rate: 0.059899941691452706\n",
            "\u001b[34m\u001b[1mwandb\u001b[0m: \tmomentum: 0.8105125950387101\n",
            "\u001b[34m\u001b[1mwandb\u001b[0m: \tweight_decay: 1.000459309431574\n",
            "\u001b[34m\u001b[1mwandb\u001b[0m: \u001b[33mWARNING\u001b[0m Ignored wandb.init() arg project when running a sweep.\n"
          ]
        },
        {
          "data": {
            "text/html": [
              "Tracking run with wandb version 0.18.3"
            ],
            "text/plain": [
              "<IPython.core.display.HTML object>"
            ]
          },
          "metadata": {},
          "output_type": "display_data"
        },
        {
          "data": {
            "text/html": [
              "Run data is saved locally in <code>/content/wandb/run-20241015_144356-p6oonf37</code>"
            ],
            "text/plain": [
              "<IPython.core.display.HTML object>"
            ]
          },
          "metadata": {},
          "output_type": "display_data"
        },
        {
          "data": {
            "text/html": [
              "Syncing run <strong><a href='https://wandb.ai/deep_leaerning_pytorch/cifar100-centralized-baseline/runs/p6oonf37' target=\"_blank\">stellar-sweep-6</a></strong> to <a href='https://wandb.ai/deep_leaerning_pytorch/cifar100-centralized-baseline' target=\"_blank\">Weights & Biases</a> (<a href='https://wandb.me/run' target=\"_blank\">docs</a>)<br/>Sweep page: <a href='https://wandb.ai/deep_leaerning_pytorch/cifar100-centralized-baseline/sweeps/tejhe79i' target=\"_blank\">https://wandb.ai/deep_leaerning_pytorch/cifar100-centralized-baseline/sweeps/tejhe79i</a>"
            ],
            "text/plain": [
              "<IPython.core.display.HTML object>"
            ]
          },
          "metadata": {},
          "output_type": "display_data"
        },
        {
          "data": {
            "text/html": [
              " View project at <a href='https://wandb.ai/deep_leaerning_pytorch/cifar100-centralized-baseline' target=\"_blank\">https://wandb.ai/deep_leaerning_pytorch/cifar100-centralized-baseline</a>"
            ],
            "text/plain": [
              "<IPython.core.display.HTML object>"
            ]
          },
          "metadata": {},
          "output_type": "display_data"
        },
        {
          "data": {
            "text/html": [
              " View sweep at <a href='https://wandb.ai/deep_leaerning_pytorch/cifar100-centralized-baseline/sweeps/tejhe79i' target=\"_blank\">https://wandb.ai/deep_leaerning_pytorch/cifar100-centralized-baseline/sweeps/tejhe79i</a>"
            ],
            "text/plain": [
              "<IPython.core.display.HTML object>"
            ]
          },
          "metadata": {},
          "output_type": "display_data"
        },
        {
          "data": {
            "text/html": [
              " View run at <a href='https://wandb.ai/deep_leaerning_pytorch/cifar100-centralized-baseline/runs/p6oonf37' target=\"_blank\">https://wandb.ai/deep_leaerning_pytorch/cifar100-centralized-baseline/runs/p6oonf37</a>"
            ],
            "text/plain": [
              "<IPython.core.display.HTML object>"
            ]
          },
          "metadata": {},
          "output_type": "display_data"
        },
        {
          "data": {
            "application/vnd.jupyter.widget-view+json": {
              "model_id": "24f25e3982464c0a82dd13f0cd0c18ee",
              "version_major": 2,
              "version_minor": 0
            },
            "text/plain": [
              "VBox(children=(Label(value='0.011 MB of 0.011 MB uploaded\\r'), FloatProgress(value=1.0, max=1.0)))"
            ]
          },
          "metadata": {},
          "output_type": "display_data"
        },
        {
          "data": {
            "text/html": [
              " View run <strong style=\"color:#cdcd00\">stellar-sweep-6</strong> at: <a href='https://wandb.ai/deep_leaerning_pytorch/cifar100-centralized-baseline/runs/p6oonf37' target=\"_blank\">https://wandb.ai/deep_leaerning_pytorch/cifar100-centralized-baseline/runs/p6oonf37</a><br/> View project at: <a href='https://wandb.ai/deep_leaerning_pytorch/cifar100-centralized-baseline' target=\"_blank\">https://wandb.ai/deep_leaerning_pytorch/cifar100-centralized-baseline</a><br/>Synced 5 W&B file(s), 0 media file(s), 0 artifact file(s) and 0 other file(s)"
            ],
            "text/plain": [
              "<IPython.core.display.HTML object>"
            ]
          },
          "metadata": {},
          "output_type": "display_data"
        },
        {
          "data": {
            "text/html": [
              "Find logs at: <code>./wandb/run-20241015_144356-p6oonf37/logs</code>"
            ],
            "text/plain": [
              "<IPython.core.display.HTML object>"
            ]
          },
          "metadata": {},
          "output_type": "display_data"
        },
        {
          "name": "stderr",
          "output_type": "stream",
          "text": [
            "Run p6oonf37 errored:\n",
            "Traceback (most recent call last):\n",
            "  File \"/usr/local/lib/python3.10/dist-packages/wandb/agents/pyagent.py\", line 306, in _run_job\n",
            "    self._function()\n",
            "  File \"<ipython-input-13-30773cf838b8>\", line 12, in main\n",
            "    trainloader, valloader, testloader = load_data(config.batch_size)\n",
            "NameError: name 'load_data' is not defined\n",
            "\n",
            "\u001b[34m\u001b[1mwandb\u001b[0m: \u001b[32m\u001b[41mERROR\u001b[0m Run p6oonf37 errored:\n",
            "\u001b[34m\u001b[1mwandb\u001b[0m: \u001b[32m\u001b[41mERROR\u001b[0m Traceback (most recent call last):\n",
            "\u001b[34m\u001b[1mwandb\u001b[0m: \u001b[32m\u001b[41mERROR\u001b[0m   File \"/usr/local/lib/python3.10/dist-packages/wandb/agents/pyagent.py\", line 306, in _run_job\n",
            "\u001b[34m\u001b[1mwandb\u001b[0m: \u001b[32m\u001b[41mERROR\u001b[0m     self._function()\n",
            "\u001b[34m\u001b[1mwandb\u001b[0m: \u001b[32m\u001b[41mERROR\u001b[0m   File \"<ipython-input-13-30773cf838b8>\", line 12, in main\n",
            "\u001b[34m\u001b[1mwandb\u001b[0m: \u001b[32m\u001b[41mERROR\u001b[0m     trainloader, valloader, testloader = load_data(config.batch_size)\n",
            "\u001b[34m\u001b[1mwandb\u001b[0m: \u001b[32m\u001b[41mERROR\u001b[0m NameError: name 'load_data' is not defined\n",
            "\u001b[34m\u001b[1mwandb\u001b[0m: \u001b[32m\u001b[41mERROR\u001b[0m \n",
            "Detected 5 failed runs in a row at start, killing sweep.\n",
            "\u001b[34m\u001b[1mwandb\u001b[0m: \u001b[32m\u001b[41mERROR\u001b[0m Detected 5 failed runs in a row at start, killing sweep.\n",
            "\u001b[34m\u001b[1mwandb\u001b[0m: To change this value set WANDB_AGENT_MAX_INITIAL_FAILURES=val\n"
          ]
        }
      ],
      "source": [
        "def main():\n",
        "    # Initialize wandb\n",
        "    wandb.init(project=\"cifar100-centralized-baseline\")\n",
        "\n",
        "    # Access hyperparameters\n",
        "    config = wandb.config\n",
        "\n",
        "    # Set device\n",
        "    device = torch.device(\"cuda\" if torch.cuda.is_available() else \"cpu\")\n",
        "\n",
        "    # Load data\n",
        "    trainloader, valloader, testloader = load_data(config.batch_size)\n",
        "\n",
        "    # Initialize model, loss function, and optimizer\n",
        "    model = CNNCifar().to(device)\n",
        "    criterion = nn.CrossEntropyLoss()\n",
        "    optimizer = optim.SGD(model.parameters(), lr=config.learning_rate, momentum=config.momentum, weight_decay=config.weight_decay)\n",
        "\n",
        "    # Learning rate scheduler\n",
        "    scheduler = optim.lr_scheduler.CosineAnnealingLR(optimizer, T_max=config.epochs)\n",
        "\n",
        "    # Training loop\n",
        "    for epoch in range(config.epochs):\n",
        "        train_loss, train_acc = train(model, trainloader, optimizer, criterion, device)\n",
        "        val_loss, val_acc = evaluate(model, valloader, criterion, device)\n",
        "        test_loss, test_acc = evaluate(model, testloader, criterion, device)\n",
        "\n",
        "        scheduler.step()\n",
        "\n",
        "        # Log metrics to wandb\n",
        "        wandb.log({\n",
        "            \"epoch\": epoch,\n",
        "            \"train_loss\": train_loss,\n",
        "            \"train_acc\": train_acc,\n",
        "            \"val_loss\": val_loss,\n",
        "            \"val_acc\": val_acc,\n",
        "            \"test_loss\": test_loss,\n",
        "            \"test_acc\": test_acc,\n",
        "            \"learning_rate\": scheduler.get_last_lr()[0]\n",
        "        })\n",
        "\n",
        "        print(f\"Epoch {epoch+1}/{config.epochs}\")\n",
        "        print(f\"Train Loss: {train_loss:.4f}, Train Acc: {train_acc:.2f}%\")\n",
        "        print(f\"Val Loss: {val_loss:.4f}, Val Acc: {val_acc:.2f}%\")\n",
        "        print(f\"Test Loss: {test_loss:.4f}, Test Acc: {test_acc:.2f}%\")\n",
        "        print()\n",
        "\n",
        "    # Close wandb run\n",
        "    wandb.finish()\n",
        "\n",
        "# Define the sweep configuration\n",
        "sweep_config = {\n",
        "    'method': 'random',\n",
        "    'metric': {\n",
        "        'name': 'val_acc',\n",
        "        'goal': 'maximize'\n",
        "    },\n",
        "    'parameters': {\n",
        "        'batch_size': {'values': [64, 128, 256]},\n",
        "        'learning_rate': {'min': 0.001, 'max': 0.1},\n",
        "        'momentum': {'min': 0.8, 'max': 0.99},\n",
        "        'weight_decay': {'min': 1e-5, 'max': 1e-3, 'distribution': 'log_uniform'},\n",
        "        'epochs': {'value': 100}\n",
        "    }\n",
        "}\n",
        "\n",
        "# Initialize the sweep\n",
        "sweep_id = wandb.sweep(sweep_config, project=\"cifar100-centralized-baseline\")\n",
        "\n",
        "# Start the sweep\n",
        "wandb.agent(sweep_id, function=main, count=10)\n",
        "\n"
      ]
    },
    {
      "cell_type": "code",
      "execution_count": null,
      "metadata": {
        "colab": {
          "base_uri": "https://localhost:8080/",
          "height": 1000,
          "referenced_widgets": [
            "b70744f8ca2642d6980d5600b5916bad",
            "70e4655867324158b03f5f0e183ff34b",
            "e7e983d714f8483f90a6df3401ab3848",
            "16238080b49147688abb1f8903092c4d",
            "99d8373d8a7c4f0cbb508662c7ce0892",
            "74950ec59cbf436797093429cab9d0e5",
            "8d4a249a6cb84c1884787f2f5a9b5ddc",
            "2894d6e7a55347fc866f686b3d1fd862"
          ]
        },
        "id": "diVyZI58oIss",
        "outputId": "82c20aba-0bbc-4aa8-efbd-1660ef4bdc18"
      },
      "outputs": [
        {
          "data": {
            "text/html": [
              "Changes to your `wandb` environment variables will be ignored because your `wandb` session has already started. For more information on how to modify your settings with `wandb.init()` arguments, please refer to <a href='https://wandb.me/wandb-init' target=\"_blank\">the W&B docs</a>."
            ],
            "text/plain": [
              "<IPython.core.display.HTML object>"
            ]
          },
          "metadata": {},
          "output_type": "display_data"
        },
        {
          "name": "stderr",
          "output_type": "stream",
          "text": [
            "\u001b[34m\u001b[1mwandb\u001b[0m: \u001b[33mWARNING\u001b[0m Ignored wandb.init() arg project when running a sweep.\n"
          ]
        },
        {
          "data": {
            "text/html": [
              "Finishing last run (ID:p6oonf37) before initializing another..."
            ],
            "text/plain": [
              "<IPython.core.display.HTML object>"
            ]
          },
          "metadata": {},
          "output_type": "display_data"
        },
        {
          "data": {
            "application/vnd.jupyter.widget-view+json": {
              "model_id": "b70744f8ca2642d6980d5600b5916bad",
              "version_major": 2,
              "version_minor": 0
            },
            "text/plain": [
              "VBox(children=(Label(value='0.015 MB of 0.015 MB uploaded\\r'), FloatProgress(value=1.0, max=1.0)))"
            ]
          },
          "metadata": {},
          "output_type": "display_data"
        },
        {
          "data": {
            "text/html": [
              "<style>\n",
              "    table.wandb td:nth-child(1) { padding: 0 10px; text-align: left ; width: auto;} td:nth-child(2) {text-align: left ; width: 100%}\n",
              "    .wandb-row { display: flex; flex-direction: row; flex-wrap: wrap; justify-content: flex-start; width: 100% }\n",
              "    .wandb-col { display: flex; flex-direction: column; flex-basis: 100%; flex: 1; padding: 10px; }\n",
              "    </style>\n",
              "<div class=\"wandb-row\"><div class=\"wandb-col\"><h3>Run history:</h3><br/><table class=\"wandb\"><tr><td>epoch</td><td>▁▁▂▂▂▂▃▃▃▃▄▄▄▄▅▅▅▅▆▆▆▆▇▇▇▇██</td></tr><tr><td>learning_rate</td><td>███████▇▇▇▇▇▆▆▆▆▅▅▅▄▄▄▃▃▂▂▁▁</td></tr><tr><td>test_acc</td><td>▁▁▁▁▁▁▁▁▁▁▁▁▁▁▁▁▁▁▁▁▁▁▁▁▁▁▁▁</td></tr><tr><td>test_loss</td><td>█▂▁▁▁▁▁▁▁▁▁▁▁▁▁▁▁▁▁▁▁▁▁▁▁▁▁▁</td></tr><tr><td>train_acc</td><td>█▄▅▃▃▂▁▃▄▂▄▂▃▄▄▁▃▂▃▃▃▃▃▂▄▃▃▁</td></tr><tr><td>train_loss</td><td>▁███████████████████████████</td></tr><tr><td>val_acc</td><td>██▂▅▂▃▄▃▁▃▇▇▂▂▂▂▃▁▃▃▃▂▁▁▂▂▁▂</td></tr><tr><td>val_loss</td><td>█▂▁▁▁▁▁▁▁▁▁▁▁▁▁▁▁▁▁▁▁▁▁▁▁▁▁▁</td></tr></table><br/></div><div class=\"wandb-col\"><h3>Run summary:</h3><br/><table class=\"wandb\"><tr><td>epoch</td><td>28</td></tr><tr><td>learning_rate</td><td>0.00095</td></tr><tr><td>test_acc</td><td>1</td></tr><tr><td>test_loss</td><td>4.60517</td></tr><tr><td>train_acc</td><td>0.845</td></tr><tr><td>train_loss</td><td>4.60518</td></tr><tr><td>val_acc</td><td>0.84</td></tr><tr><td>val_loss</td><td>4.60519</td></tr></table><br/></div></div>"
            ],
            "text/plain": [
              "<IPython.core.display.HTML object>"
            ]
          },
          "metadata": {},
          "output_type": "display_data"
        },
        {
          "data": {
            "text/html": [
              " View run <strong style=\"color:#cdcd00\">stellar-sweep-6</strong> at: <a href='https://wandb.ai/deep_leaerning_pytorch/cifar100-centralized-baseline/runs/p6oonf37' target=\"_blank\">https://wandb.ai/deep_leaerning_pytorch/cifar100-centralized-baseline/runs/p6oonf37</a><br/> View project at: <a href='https://wandb.ai/deep_leaerning_pytorch/cifar100-centralized-baseline' target=\"_blank\">https://wandb.ai/deep_leaerning_pytorch/cifar100-centralized-baseline</a><br/>Synced 5 W&B file(s), 0 media file(s), 0 artifact file(s) and 0 other file(s)"
            ],
            "text/plain": [
              "<IPython.core.display.HTML object>"
            ]
          },
          "metadata": {},
          "output_type": "display_data"
        },
        {
          "data": {
            "text/html": [
              "Find logs at: <code>./wandb/run-20241015_145636-p6oonf37/logs</code>"
            ],
            "text/plain": [
              "<IPython.core.display.HTML object>"
            ]
          },
          "metadata": {},
          "output_type": "display_data"
        },
        {
          "data": {
            "text/html": [
              "Successfully finished last run (ID:p6oonf37). Initializing new run:<br/>"
            ],
            "text/plain": [
              "<IPython.core.display.HTML object>"
            ]
          },
          "metadata": {},
          "output_type": "display_data"
        },
        {
          "data": {
            "text/html": [
              "Tracking run with wandb version 0.18.3"
            ],
            "text/plain": [
              "<IPython.core.display.HTML object>"
            ]
          },
          "metadata": {},
          "output_type": "display_data"
        },
        {
          "data": {
            "text/html": [
              "Run data is saved locally in <code>/content/wandb/run-20241015_150935-p6oonf37</code>"
            ],
            "text/plain": [
              "<IPython.core.display.HTML object>"
            ]
          },
          "metadata": {},
          "output_type": "display_data"
        },
        {
          "data": {
            "text/html": [
              "Syncing run <strong><a href='https://wandb.ai/deep_leaerning_pytorch/cifar100-centralized-baseline/runs/p6oonf37' target=\"_blank\">stellar-sweep-6</a></strong> to <a href='https://wandb.ai/deep_leaerning_pytorch/cifar100-centralized-baseline' target=\"_blank\">Weights & Biases</a> (<a href='https://wandb.me/run' target=\"_blank\">docs</a>)<br/>Sweep page: <a href='https://wandb.ai/deep_leaerning_pytorch/cifar100-centralized-baseline/sweeps/tejhe79i' target=\"_blank\">https://wandb.ai/deep_leaerning_pytorch/cifar100-centralized-baseline/sweeps/tejhe79i</a>"
            ],
            "text/plain": [
              "<IPython.core.display.HTML object>"
            ]
          },
          "metadata": {},
          "output_type": "display_data"
        },
        {
          "data": {
            "text/html": [
              " View project at <a href='https://wandb.ai/deep_leaerning_pytorch/cifar100-centralized-baseline' target=\"_blank\">https://wandb.ai/deep_leaerning_pytorch/cifar100-centralized-baseline</a>"
            ],
            "text/plain": [
              "<IPython.core.display.HTML object>"
            ]
          },
          "metadata": {},
          "output_type": "display_data"
        },
        {
          "data": {
            "text/html": [
              " View sweep at <a href='https://wandb.ai/deep_leaerning_pytorch/cifar100-centralized-baseline/sweeps/tejhe79i' target=\"_blank\">https://wandb.ai/deep_leaerning_pytorch/cifar100-centralized-baseline/sweeps/tejhe79i</a>"
            ],
            "text/plain": [
              "<IPython.core.display.HTML object>"
            ]
          },
          "metadata": {},
          "output_type": "display_data"
        },
        {
          "data": {
            "text/html": [
              " View run at <a href='https://wandb.ai/deep_leaerning_pytorch/cifar100-centralized-baseline/runs/p6oonf37' target=\"_blank\">https://wandb.ai/deep_leaerning_pytorch/cifar100-centralized-baseline/runs/p6oonf37</a>"
            ],
            "text/plain": [
              "<IPython.core.display.HTML object>"
            ]
          },
          "metadata": {},
          "output_type": "display_data"
        },
        {
          "name": "stdout",
          "output_type": "stream",
          "text": [
            "Files already downloaded and verified\n",
            "Files already downloaded and verified\n",
            "Epoch 1/100\n",
            "Train Loss: 4.6048, Train Acc: 1.06%\n",
            "Val Loss: 4.6052, Val Acc: 0.93%\n",
            "Test Loss: 4.6052, Test Acc: 1.00%\n",
            "\n",
            "Epoch 2/100\n",
            "Train Loss: 4.6052, Train Acc: 1.01%\n",
            "Val Loss: 4.6052, Val Acc: 1.03%\n",
            "Test Loss: 4.6052, Test Acc: 1.00%\n",
            "\n",
            "Epoch 3/100\n",
            "Train Loss: 4.6052, Train Acc: 0.94%\n",
            "Val Loss: 4.6052, Val Acc: 0.83%\n",
            "Test Loss: 4.6052, Test Acc: 1.00%\n",
            "\n",
            "Epoch 4/100\n",
            "Train Loss: 4.6052, Train Acc: 0.85%\n",
            "Val Loss: 4.6052, Val Acc: 0.86%\n",
            "Test Loss: 4.6052, Test Acc: 1.00%\n",
            "\n",
            "Epoch 5/100\n",
            "Train Loss: 4.6052, Train Acc: 0.89%\n",
            "Val Loss: 4.6052, Val Acc: 0.86%\n",
            "Test Loss: 4.6052, Test Acc: 1.00%\n",
            "\n",
            "Epoch 6/100\n",
            "Train Loss: 4.6052, Train Acc: 0.97%\n",
            "Val Loss: 4.6052, Val Acc: 0.84%\n",
            "Test Loss: 4.6052, Test Acc: 1.00%\n",
            "\n",
            "Epoch 7/100\n",
            "Train Loss: 4.6052, Train Acc: 0.99%\n",
            "Val Loss: 4.6052, Val Acc: 0.81%\n",
            "Test Loss: 4.6052, Test Acc: 1.00%\n",
            "\n",
            "Epoch 8/100\n",
            "Train Loss: 4.6052, Train Acc: 0.93%\n",
            "Val Loss: 4.6052, Val Acc: 0.81%\n",
            "Test Loss: 4.6052, Test Acc: 1.00%\n",
            "\n",
            "Epoch 9/100\n",
            "Train Loss: 4.6052, Train Acc: 0.97%\n",
            "Val Loss: 4.6052, Val Acc: 0.83%\n",
            "Test Loss: 4.6052, Test Acc: 1.00%\n",
            "\n",
            "Epoch 10/100\n",
            "Train Loss: 4.6052, Train Acc: 0.98%\n",
            "Val Loss: 4.6052, Val Acc: 0.84%\n",
            "Test Loss: 4.6052, Test Acc: 1.00%\n",
            "\n",
            "Epoch 11/100\n",
            "Train Loss: 4.6052, Train Acc: 0.88%\n",
            "Val Loss: 4.6052, Val Acc: 0.83%\n",
            "Test Loss: 4.6052, Test Acc: 1.00%\n",
            "\n",
            "Epoch 12/100\n",
            "Train Loss: 4.6052, Train Acc: 0.82%\n",
            "Val Loss: 4.6052, Val Acc: 0.84%\n",
            "Test Loss: 4.6052, Test Acc: 1.00%\n",
            "\n",
            "Epoch 13/100\n",
            "Train Loss: 4.6052, Train Acc: 1.00%\n",
            "Val Loss: 4.6052, Val Acc: 0.84%\n",
            "Test Loss: 4.6052, Test Acc: 1.00%\n",
            "\n",
            "Epoch 14/100\n",
            "Train Loss: 4.6052, Train Acc: 0.94%\n",
            "Val Loss: 4.6052, Val Acc: 0.84%\n",
            "Test Loss: 4.6052, Test Acc: 1.00%\n",
            "\n",
            "Epoch 15/100\n",
            "Train Loss: 4.6052, Train Acc: 0.94%\n",
            "Val Loss: 4.6052, Val Acc: 0.89%\n",
            "Test Loss: 4.6052, Test Acc: 1.00%\n",
            "\n",
            "Epoch 16/100\n",
            "Train Loss: 4.6052, Train Acc: 0.90%\n",
            "Val Loss: 4.6052, Val Acc: 0.88%\n",
            "Test Loss: 4.6052, Test Acc: 1.00%\n",
            "\n",
            "Epoch 17/100\n",
            "Train Loss: 4.6052, Train Acc: 0.96%\n",
            "Val Loss: 4.6052, Val Acc: 1.03%\n",
            "Test Loss: 4.6052, Test Acc: 1.00%\n",
            "\n",
            "Epoch 18/100\n",
            "Train Loss: 4.6052, Train Acc: 0.94%\n",
            "Val Loss: 4.6052, Val Acc: 0.81%\n",
            "Test Loss: 4.6052, Test Acc: 1.00%\n",
            "\n",
            "Epoch 19/100\n",
            "Train Loss: 4.6052, Train Acc: 0.97%\n",
            "Val Loss: 4.6052, Val Acc: 0.81%\n",
            "Test Loss: 4.6052, Test Acc: 1.00%\n",
            "\n",
            "Epoch 20/100\n",
            "Train Loss: 4.6052, Train Acc: 0.94%\n",
            "Val Loss: 4.6052, Val Acc: 0.87%\n",
            "Test Loss: 4.6052, Test Acc: 1.00%\n",
            "\n",
            "Epoch 21/100\n",
            "Train Loss: 4.6052, Train Acc: 0.90%\n",
            "Val Loss: 4.6052, Val Acc: 0.85%\n",
            "Test Loss: 4.6052, Test Acc: 1.00%\n",
            "\n",
            "Epoch 22/100\n",
            "Train Loss: 4.6052, Train Acc: 0.94%\n",
            "Val Loss: 4.6052, Val Acc: 0.86%\n",
            "Test Loss: 4.6052, Test Acc: 1.00%\n",
            "\n",
            "Epoch 23/100\n",
            "Train Loss: 4.6052, Train Acc: 0.98%\n",
            "Val Loss: 4.6052, Val Acc: 0.86%\n",
            "Test Loss: 4.6052, Test Acc: 1.00%\n",
            "\n",
            "Epoch 24/100\n",
            "Train Loss: 4.6052, Train Acc: 0.95%\n",
            "Val Loss: 4.6052, Val Acc: 0.83%\n",
            "Test Loss: 4.6052, Test Acc: 1.00%\n",
            "\n",
            "Epoch 25/100\n",
            "Train Loss: 4.6052, Train Acc: 0.94%\n",
            "Val Loss: 4.6052, Val Acc: 0.86%\n",
            "Test Loss: 4.6052, Test Acc: 1.00%\n",
            "\n",
            "Epoch 26/100\n",
            "Train Loss: 4.6052, Train Acc: 0.94%\n",
            "Val Loss: 4.6052, Val Acc: 0.86%\n",
            "Test Loss: 4.6052, Test Acc: 1.00%\n",
            "\n",
            "Epoch 27/100\n",
            "Train Loss: 4.6052, Train Acc: 0.96%\n",
            "Val Loss: 4.6052, Val Acc: 0.81%\n",
            "Test Loss: 4.6052, Test Acc: 1.00%\n",
            "\n",
            "Epoch 28/100\n",
            "Train Loss: 4.6052, Train Acc: 0.90%\n",
            "Val Loss: 4.6052, Val Acc: 0.86%\n",
            "Test Loss: 4.6052, Test Acc: 1.00%\n",
            "\n",
            "Epoch 29/100\n",
            "Train Loss: 4.6052, Train Acc: 1.00%\n",
            "Val Loss: 4.6052, Val Acc: 0.85%\n",
            "Test Loss: 4.6052, Test Acc: 1.00%\n",
            "\n",
            "Epoch 30/100\n",
            "Train Loss: 4.6052, Train Acc: 0.94%\n",
            "Val Loss: 4.6052, Val Acc: 0.86%\n",
            "Test Loss: 4.6052, Test Acc: 1.00%\n",
            "\n",
            "Epoch 31/100\n",
            "Train Loss: 4.6052, Train Acc: 0.93%\n",
            "Val Loss: 4.6052, Val Acc: 0.87%\n",
            "Test Loss: 4.6052, Test Acc: 1.00%\n",
            "\n",
            "Epoch 32/100\n",
            "Train Loss: 4.6052, Train Acc: 0.94%\n",
            "Val Loss: 4.6052, Val Acc: 0.85%\n",
            "Test Loss: 4.6052, Test Acc: 1.00%\n",
            "\n",
            "Epoch 33/100\n",
            "Train Loss: 4.6052, Train Acc: 0.95%\n",
            "Val Loss: 4.6052, Val Acc: 0.87%\n",
            "Test Loss: 4.6052, Test Acc: 1.00%\n",
            "\n",
            "Epoch 34/100\n",
            "Train Loss: 4.6052, Train Acc: 0.88%\n",
            "Val Loss: 4.6052, Val Acc: 0.87%\n",
            "Test Loss: 4.6052, Test Acc: 1.00%\n",
            "\n",
            "Epoch 35/100\n",
            "Train Loss: 4.6052, Train Acc: 0.94%\n",
            "Val Loss: 4.6052, Val Acc: 0.86%\n",
            "Test Loss: 4.6052, Test Acc: 1.00%\n",
            "\n",
            "Epoch 36/100\n",
            "Train Loss: 4.6052, Train Acc: 0.92%\n",
            "Val Loss: 4.6052, Val Acc: 0.84%\n",
            "Test Loss: 4.6052, Test Acc: 1.00%\n",
            "\n",
            "Epoch 37/100\n",
            "Train Loss: 4.6052, Train Acc: 0.91%\n",
            "Val Loss: 4.6052, Val Acc: 0.84%\n",
            "Test Loss: 4.6052, Test Acc: 1.00%\n",
            "\n",
            "Epoch 38/100\n",
            "Train Loss: 4.6052, Train Acc: 0.98%\n",
            "Val Loss: 4.6052, Val Acc: 0.87%\n",
            "Test Loss: 4.6052, Test Acc: 1.00%\n",
            "\n",
            "Epoch 39/100\n",
            "Train Loss: 4.6052, Train Acc: 0.98%\n",
            "Val Loss: 4.6052, Val Acc: 0.87%\n",
            "Test Loss: 4.6052, Test Acc: 1.00%\n",
            "\n",
            "Epoch 40/100\n",
            "Train Loss: 4.6052, Train Acc: 0.96%\n",
            "Val Loss: 4.6052, Val Acc: 0.93%\n",
            "Test Loss: 4.6052, Test Acc: 1.00%\n",
            "\n",
            "Epoch 41/100\n",
            "Train Loss: 4.6052, Train Acc: 0.93%\n",
            "Val Loss: 4.6052, Val Acc: 0.84%\n",
            "Test Loss: 4.6052, Test Acc: 1.00%\n",
            "\n",
            "Epoch 42/100\n",
            "Train Loss: 4.6052, Train Acc: 0.94%\n",
            "Val Loss: 4.6052, Val Acc: 0.87%\n",
            "Test Loss: 4.6052, Test Acc: 1.00%\n",
            "\n",
            "Epoch 43/100\n",
            "Train Loss: 4.6052, Train Acc: 1.00%\n",
            "Val Loss: 4.6052, Val Acc: 0.83%\n",
            "Test Loss: 4.6052, Test Acc: 1.00%\n",
            "\n",
            "Epoch 44/100\n",
            "Train Loss: 4.6052, Train Acc: 1.03%\n",
            "Val Loss: 4.6052, Val Acc: 0.85%\n",
            "Test Loss: 4.6052, Test Acc: 1.00%\n",
            "\n",
            "Epoch 45/100\n",
            "Train Loss: 4.6052, Train Acc: 0.89%\n",
            "Val Loss: 4.6052, Val Acc: 0.81%\n",
            "Test Loss: 4.6052, Test Acc: 1.00%\n",
            "\n",
            "Epoch 46/100\n",
            "Train Loss: 4.6052, Train Acc: 0.92%\n",
            "Val Loss: 4.6052, Val Acc: 0.84%\n",
            "Test Loss: 4.6052, Test Acc: 1.00%\n",
            "\n",
            "Epoch 47/100\n",
            "Train Loss: 4.6052, Train Acc: 0.93%\n",
            "Val Loss: 4.6052, Val Acc: 0.81%\n",
            "Test Loss: 4.6052, Test Acc: 1.00%\n",
            "\n",
            "Epoch 48/100\n",
            "Train Loss: 4.6052, Train Acc: 0.97%\n",
            "Val Loss: 4.6052, Val Acc: 0.84%\n",
            "Test Loss: 4.6052, Test Acc: 1.00%\n",
            "\n",
            "Epoch 49/100\n",
            "Train Loss: 4.6052, Train Acc: 0.94%\n",
            "Val Loss: 4.6052, Val Acc: 0.84%\n",
            "Test Loss: 4.6052, Test Acc: 1.00%\n",
            "\n",
            "Epoch 50/100\n",
            "Train Loss: 4.6052, Train Acc: 0.88%\n",
            "Val Loss: 4.6052, Val Acc: 0.81%\n",
            "Test Loss: 4.6052, Test Acc: 1.00%\n",
            "\n",
            "Epoch 51/100\n",
            "Train Loss: 4.6052, Train Acc: 1.00%\n",
            "Val Loss: 4.6052, Val Acc: 0.81%\n",
            "Test Loss: 4.6052, Test Acc: 1.00%\n",
            "\n",
            "Epoch 52/100\n",
            "Train Loss: 4.6052, Train Acc: 0.98%\n",
            "Val Loss: 4.6052, Val Acc: 0.83%\n",
            "Test Loss: 4.6052, Test Acc: 1.00%\n",
            "\n",
            "Epoch 53/100\n",
            "Train Loss: 4.6052, Train Acc: 0.95%\n",
            "Val Loss: 4.6052, Val Acc: 0.86%\n",
            "Test Loss: 4.6052, Test Acc: 1.00%\n",
            "\n",
            "Epoch 54/100\n",
            "Train Loss: 4.6052, Train Acc: 0.94%\n",
            "Val Loss: 4.6052, Val Acc: 0.86%\n",
            "Test Loss: 4.6052, Test Acc: 1.00%\n",
            "\n",
            "Epoch 55/100\n",
            "Train Loss: 4.6052, Train Acc: 0.86%\n",
            "Val Loss: 4.6052, Val Acc: 0.88%\n",
            "Test Loss: 4.6052, Test Acc: 1.00%\n",
            "\n",
            "Epoch 56/100\n",
            "Train Loss: 4.6052, Train Acc: 0.95%\n",
            "Val Loss: 4.6052, Val Acc: 0.81%\n",
            "Test Loss: 4.6052, Test Acc: 1.00%\n",
            "\n",
            "Epoch 57/100\n",
            "Train Loss: 4.6052, Train Acc: 0.91%\n",
            "Val Loss: 4.6052, Val Acc: 0.81%\n",
            "Test Loss: 4.6052, Test Acc: 1.00%\n",
            "\n",
            "Epoch 58/100\n",
            "Train Loss: 4.6052, Train Acc: 0.93%\n",
            "Val Loss: 4.6052, Val Acc: 0.81%\n",
            "Test Loss: 4.6052, Test Acc: 1.00%\n",
            "\n",
            "Epoch 59/100\n",
            "Train Loss: 4.6052, Train Acc: 1.01%\n",
            "Val Loss: 4.6052, Val Acc: 0.89%\n",
            "Test Loss: 4.6052, Test Acc: 1.00%\n",
            "\n",
            "Epoch 60/100\n",
            "Train Loss: 4.6052, Train Acc: 0.93%\n",
            "Val Loss: 4.6052, Val Acc: 0.81%\n",
            "Test Loss: 4.6052, Test Acc: 1.00%\n",
            "\n"
          ]
        }
      ],
      "source": [
        "import torch\n",
        "from torch import nn\n",
        "from torch.utils.data import DataLoader, random_split\n",
        "from torchvision import datasets, transforms\n",
        "import torch.optim as optim\n",
        "import matplotlib.pyplot as plt\n",
        "import wandb\n",
        "\n",
        "# Initialize wandb\n",
        "wandb.init(project=\"centralized-baseline-cifar100\", config={\n",
        "    \"epochs\": 150,\n",
        "    \"batch_size\": 32,\n",
        "    \"lr\": 0.001,\n",
        "    \"momentum\": 0.9,\n",
        "    \"weight_decay\": 0.0004,\n",
        "    \"optimizer\": \"SGD\",\n",
        "    \"scheduler\": \"CosineAnnealingLR\",\n",
        "})\n",
        "\n",
        "# Get config values\n",
        "config = wandb.config\n",
        "\n",
        "# Define the CNN architecture\n",
        "class CNNCifar(nn.Module):\n",
        "    def __init__(self, num_classes=100):\n",
        "        super(CNNCifar, self).__init__()\n",
        "        self.conv1 = nn.Conv2d(3, 64, kernel_size=5, padding=2)\n",
        "        self.pool1 = nn.MaxPool2d(2, 2)\n",
        "        self.conv2 = nn.Conv2d(64, 64, kernel_size=5, padding=2)\n",
        "        self.pool2 = nn.MaxPool2d(2, 2)\n",
        "        self.fc1 = nn.Linear(64 * 8 * 8, 384)\n",
        "        self.fc2 = nn.Linear(384, 192)\n",
        "        self.classifier = nn.Linear(192, num_classes)\n",
        "\n",
        "    def forward(self, x):\n",
        "        x = self.conv1(x)\n",
        "        x = self.pool1(x)\n",
        "        x = self.conv2(x)\n",
        "        x = self.pool2(x)\n",
        "        x = x.view(-1, 64 * 8 * 8)\n",
        "        x = self.fc1(x)\n",
        "        x = self.fc2(x)\n",
        "        x = self.classifier(x)\n",
        "        return x\n",
        "\n",
        "# Define transformations\n",
        "transform_train = transforms.Compose([\n",
        "    transforms.RandomCrop(32, padding=4),\n",
        "    transforms.RandomHorizontalFlip(),\n",
        "    transforms.ToTensor(),\n",
        "    transforms.Normalize((0.5071, 0.4865, 0.4409), (0.2673, 0.2564, 0.2761))\n",
        "])\n",
        "\n",
        "transform_test = transforms.Compose([\n",
        "    transforms.ToTensor(),\n",
        "    transforms.Normalize((0.5071, 0.4865, 0.4409), (0.2673, 0.2564, 0.2761))\n",
        "])\n",
        "\n",
        "trainset = datasets.CIFAR100(root='./data', train=True, download=True, transform=transform_train)\n",
        "testset = datasets.CIFAR100(root='./data', train=False, download=True, transform=transform_test)\n",
        "\n",
        "# Split training set into train and validation sets\n",
        "train_size = int(0.8 * len(trainset))\n",
        "val_size = len(trainset) - train_size\n",
        "trainset, valset = random_split(trainset, [train_size, val_size])\n",
        "\n",
        "# Create data loaders\n",
        "trainloader = DataLoader(trainset, batch_size=config.batch_size, shuffle=True, num_workers=2)\n",
        "valloader = DataLoader(valset, batch_size=config.batch_size, shuffle=False, num_workers=2)\n",
        "testloader = DataLoader(testset, batch_size=config.batch_size, shuffle=False, num_workers=2)\n",
        "\n",
        "# Initialize the model, loss function, and optimizer\n",
        "device = torch.device(\"cuda\" if torch.cuda.is_available() else \"cpu\")\n",
        "model = CNNCifar().to(device)\n",
        "criterion = nn.CrossEntropyLoss()\n",
        "optimizer = optim.SGD(model.parameters(), lr=config.lr, momentum=config.momentum, weight_decay=config.weight_decay)\n",
        "\n",
        "# Learning rate scheduler\n",
        "scheduler = optim.lr_scheduler.CosineAnnealingLR(optimizer, T_max=150)\n",
        "\n",
        "# Training function\n",
        "def train(model, loader, optimizer, criterion, device):\n",
        "    model.train()\n",
        "    running_loss = 0.0\n",
        "    correct = 0\n",
        "    total = 0\n",
        "    for inputs, labels in loader:\n",
        "        inputs, labels = inputs.to(device), labels.to(device)\n",
        "        optimizer.zero_grad()\n",
        "        outputs = model(inputs)\n",
        "        loss = criterion(outputs, labels)\n",
        "        loss.backward()\n",
        "        optimizer.step()\n",
        "        running_loss += loss.item()\n",
        "        _, predicted = outputs.max(1)\n",
        "        total += labels.size(0)\n",
        "        correct += predicted.eq(labels).sum().item()\n",
        "    return running_loss / len(loader), 100. * correct / total\n",
        "\n",
        "# Evaluation function\n",
        "def evaluate(model, loader, criterion, device):\n",
        "    model.eval()\n",
        "    running_loss = 0.0\n",
        "    correct = 0\n",
        "    total = 0\n",
        "    with torch.no_grad():\n",
        "        for inputs, labels in loader:\n",
        "            inputs, labels = inputs.to(device), labels.to(device)\n",
        "            outputs = model(inputs)\n",
        "            loss = criterion(outputs, labels)\n",
        "            running_loss += loss.item()\n",
        "            _, predicted = outputs.max(1)\n",
        "            total += labels.size(0)\n",
        "            correct += predicted.eq(labels).sum().item()\n",
        "    return running_loss / len(loader), 100. * correct / total\n",
        "\n",
        "# Training loop\n",
        "train_losses, train_accs = [], []\n",
        "val_losses, val_accs = [], []\n",
        "test_losses, test_accs = [], []\n",
        "\n",
        "\n",
        "for epoch in range(config.epochs):\n",
        "    train_loss, train_acc = train(model, trainloader, optimizer, criterion, device)\n",
        "    val_loss, val_acc = evaluate(model, valloader, criterion, device)\n",
        "    test_loss, test_acc = evaluate(model, testloader, criterion, device)\n",
        "\n",
        "    scheduler.step()\n",
        "\n",
        "    # Log metrics to wandb\n",
        "    wandb.log({\n",
        "        \"epoch\": epoch + 1,\n",
        "        \"train_loss\": train_loss,\n",
        "        \"train_acc\": train_acc,\n",
        "        \"val_loss\": val_loss,\n",
        "        \"val_acc\": val_acc,\n",
        "        \"test_loss\": test_loss,\n",
        "        \"test_acc\": test_acc,\n",
        "        \"learning_rate\": scheduler.get_last_lr()[0]\n",
        "    })\n",
        "\n",
        "    print(f\"Epoch {epoch + 1}/{config.epochs}\")\n",
        "    print(f\"Train Loss: {train_loss:.4f}, Train Acc: {train_acc:.2f}%\")\n",
        "    print(f\"Val Loss: {val_loss:.4f}, Val Acc: {val_acc:.2f}%\")\n",
        "    print(f\"Test Loss: {test_loss:.4f}, Test Acc: {test_acc:.2f}%\")\n",
        "    print()\n",
        "\n",
        "# Finalize wandb run\n",
        "wandb.finish()\n",
        "\n",
        "# Plot results\n",
        "plt.figure(figsize=(12, 5))\n",
        "plt.subplot(1, 2, 1)\n",
        "plt.plot(train_losses, label='Train')\n",
        "plt.plot(val_losses, label='Validation')\n",
        "plt.plot(test_losses, label='Test')\n",
        "plt.title('Loss vs. Epochs')\n",
        "plt.xlabel('Epochs')\n",
        "plt.ylabel('Loss')\n",
        "plt.legend()\n",
        "\n",
        "plt.subplot(1, 2, 2)\n",
        "plt.plot(train_accs, label='Train')\n",
        "plt.plot(val_accs, label='Validation')\n",
        "plt.plot(test_accs, label='Test')\n",
        "plt.title('Accuracy vs. Epochs')\n",
        "plt.xlabel('Epochs')\n",
        "plt.ylabel('Accuracy (%)')\n",
        "plt.legend()\n",
        "\n",
        "plt.tight_layout()\n",
        "plt.show()\n"
      ]
    }
  ],
  "metadata": {
    "colab": {
      "provenance": []
    },
    "kernelspec": {
      "display_name": "Python 3",
      "name": "python3"
    },
    "language_info": {
      "codemirror_mode": {
        "name": "ipython",
        "version": 3
      },
      "file_extension": ".py",
      "mimetype": "text/x-python",
      "name": "python",
      "nbconvert_exporter": "python",
      "pygments_lexer": "ipython3",
      "version": "3.9.6"
    },
    "widgets": {
      "application/vnd.jupyter.widget-state+json": {
        "0b284fb4f7b54fbebc0ea21f92c7691f": {
          "model_module": "@jupyter-widgets/controls",
          "model_module_version": "1.5.0",
          "model_name": "ProgressStyleModel",
          "state": {
            "_model_module": "@jupyter-widgets/controls",
            "_model_module_version": "1.5.0",
            "_model_name": "ProgressStyleModel",
            "_view_count": null,
            "_view_module": "@jupyter-widgets/base",
            "_view_module_version": "1.2.0",
            "_view_name": "StyleView",
            "bar_color": null,
            "description_width": ""
          }
        },
        "10baeedd642a4715adf795dbe46b22ed": {
          "model_module": "@jupyter-widgets/controls",
          "model_module_version": "1.5.0",
          "model_name": "ProgressStyleModel",
          "state": {
            "_model_module": "@jupyter-widgets/controls",
            "_model_module_version": "1.5.0",
            "_model_name": "ProgressStyleModel",
            "_view_count": null,
            "_view_module": "@jupyter-widgets/base",
            "_view_module_version": "1.2.0",
            "_view_name": "StyleView",
            "bar_color": null,
            "description_width": ""
          }
        },
        "1124dce38c5c4915b12db0ebfb5fa8fa": {
          "model_module": "@jupyter-widgets/base",
          "model_module_version": "1.2.0",
          "model_name": "LayoutModel",
          "state": {
            "_model_module": "@jupyter-widgets/base",
            "_model_module_version": "1.2.0",
            "_model_name": "LayoutModel",
            "_view_count": null,
            "_view_module": "@jupyter-widgets/base",
            "_view_module_version": "1.2.0",
            "_view_name": "LayoutView",
            "align_content": null,
            "align_items": null,
            "align_self": null,
            "border": null,
            "bottom": null,
            "display": null,
            "flex": null,
            "flex_flow": null,
            "grid_area": null,
            "grid_auto_columns": null,
            "grid_auto_flow": null,
            "grid_auto_rows": null,
            "grid_column": null,
            "grid_gap": null,
            "grid_row": null,
            "grid_template_areas": null,
            "grid_template_columns": null,
            "grid_template_rows": null,
            "height": null,
            "justify_content": null,
            "justify_items": null,
            "left": null,
            "margin": null,
            "max_height": null,
            "max_width": null,
            "min_height": null,
            "min_width": null,
            "object_fit": null,
            "object_position": null,
            "order": null,
            "overflow": null,
            "overflow_x": null,
            "overflow_y": null,
            "padding": null,
            "right": null,
            "top": null,
            "visibility": null,
            "width": null
          }
        },
        "15d83053435a42d9aec9efa54106a197": {
          "model_module": "@jupyter-widgets/controls",
          "model_module_version": "1.5.0",
          "model_name": "DescriptionStyleModel",
          "state": {
            "_model_module": "@jupyter-widgets/controls",
            "_model_module_version": "1.5.0",
            "_model_name": "DescriptionStyleModel",
            "_view_count": null,
            "_view_module": "@jupyter-widgets/base",
            "_view_module_version": "1.2.0",
            "_view_name": "StyleView",
            "description_width": ""
          }
        },
        "16238080b49147688abb1f8903092c4d": {
          "model_module": "@jupyter-widgets/base",
          "model_module_version": "1.2.0",
          "model_name": "LayoutModel",
          "state": {
            "_model_module": "@jupyter-widgets/base",
            "_model_module_version": "1.2.0",
            "_model_name": "LayoutModel",
            "_view_count": null,
            "_view_module": "@jupyter-widgets/base",
            "_view_module_version": "1.2.0",
            "_view_name": "LayoutView",
            "align_content": null,
            "align_items": null,
            "align_self": null,
            "border": null,
            "bottom": null,
            "display": null,
            "flex": null,
            "flex_flow": null,
            "grid_area": null,
            "grid_auto_columns": null,
            "grid_auto_flow": null,
            "grid_auto_rows": null,
            "grid_column": null,
            "grid_gap": null,
            "grid_row": null,
            "grid_template_areas": null,
            "grid_template_columns": null,
            "grid_template_rows": null,
            "height": null,
            "justify_content": null,
            "justify_items": null,
            "left": null,
            "margin": null,
            "max_height": null,
            "max_width": null,
            "min_height": null,
            "min_width": null,
            "object_fit": null,
            "object_position": null,
            "order": null,
            "overflow": null,
            "overflow_x": null,
            "overflow_y": null,
            "padding": null,
            "right": null,
            "top": null,
            "visibility": null,
            "width": null
          }
        },
        "17bfa5ccbea14bab917f4902a8364fe9": {
          "model_module": "@jupyter-widgets/controls",
          "model_module_version": "1.5.0",
          "model_name": "ProgressStyleModel",
          "state": {
            "_model_module": "@jupyter-widgets/controls",
            "_model_module_version": "1.5.0",
            "_model_name": "ProgressStyleModel",
            "_view_count": null,
            "_view_module": "@jupyter-widgets/base",
            "_view_module_version": "1.2.0",
            "_view_name": "StyleView",
            "bar_color": null,
            "description_width": ""
          }
        },
        "1ef19d3b77e14f0d90e1e804577f0f14": {
          "model_module": "@jupyter-widgets/controls",
          "model_module_version": "1.5.0",
          "model_name": "DescriptionStyleModel",
          "state": {
            "_model_module": "@jupyter-widgets/controls",
            "_model_module_version": "1.5.0",
            "_model_name": "DescriptionStyleModel",
            "_view_count": null,
            "_view_module": "@jupyter-widgets/base",
            "_view_module_version": "1.2.0",
            "_view_name": "StyleView",
            "description_width": ""
          }
        },
        "24f25e3982464c0a82dd13f0cd0c18ee": {
          "model_module": "@jupyter-widgets/controls",
          "model_module_version": "1.5.0",
          "model_name": "VBoxModel",
          "state": {
            "_dom_classes": [],
            "_model_module": "@jupyter-widgets/controls",
            "_model_module_version": "1.5.0",
            "_model_name": "VBoxModel",
            "_view_count": null,
            "_view_module": "@jupyter-widgets/controls",
            "_view_module_version": "1.5.0",
            "_view_name": "VBoxView",
            "box_style": "",
            "children": [
              "IPY_MODEL_4cda7d7e926d4e9d941b5f5b0d5d0414",
              "IPY_MODEL_9391ec4cf97748eab154532d17e3cc71"
            ],
            "layout": "IPY_MODEL_77b08f0c8a0945d894dc810996b06a23"
          }
        },
        "2827b16a0d5e4683b8d41cc855fecad6": {
          "model_module": "@jupyter-widgets/controls",
          "model_module_version": "1.5.0",
          "model_name": "LabelModel",
          "state": {
            "_dom_classes": [],
            "_model_module": "@jupyter-widgets/controls",
            "_model_module_version": "1.5.0",
            "_model_name": "LabelModel",
            "_view_count": null,
            "_view_module": "@jupyter-widgets/controls",
            "_view_module_version": "1.5.0",
            "_view_name": "LabelView",
            "description": "",
            "description_tooltip": null,
            "layout": "IPY_MODEL_b7b9d332c2214f56892c22a87a67b8b8",
            "placeholder": "​",
            "style": "IPY_MODEL_a1089c5752f34aa580908b56a5c9cea0",
            "value": "0.011 MB of 0.011 MB uploaded\r"
          }
        },
        "2894d6e7a55347fc866f686b3d1fd862": {
          "model_module": "@jupyter-widgets/controls",
          "model_module_version": "1.5.0",
          "model_name": "ProgressStyleModel",
          "state": {
            "_model_module": "@jupyter-widgets/controls",
            "_model_module_version": "1.5.0",
            "_model_name": "ProgressStyleModel",
            "_view_count": null,
            "_view_module": "@jupyter-widgets/base",
            "_view_module_version": "1.2.0",
            "_view_name": "StyleView",
            "bar_color": null,
            "description_width": ""
          }
        },
        "337caf69bc3b417eb9fe556db1161d05": {
          "model_module": "@jupyter-widgets/base",
          "model_module_version": "1.2.0",
          "model_name": "LayoutModel",
          "state": {
            "_model_module": "@jupyter-widgets/base",
            "_model_module_version": "1.2.0",
            "_model_name": "LayoutModel",
            "_view_count": null,
            "_view_module": "@jupyter-widgets/base",
            "_view_module_version": "1.2.0",
            "_view_name": "LayoutView",
            "align_content": null,
            "align_items": null,
            "align_self": null,
            "border": null,
            "bottom": null,
            "display": null,
            "flex": null,
            "flex_flow": null,
            "grid_area": null,
            "grid_auto_columns": null,
            "grid_auto_flow": null,
            "grid_auto_rows": null,
            "grid_column": null,
            "grid_gap": null,
            "grid_row": null,
            "grid_template_areas": null,
            "grid_template_columns": null,
            "grid_template_rows": null,
            "height": null,
            "justify_content": null,
            "justify_items": null,
            "left": null,
            "margin": null,
            "max_height": null,
            "max_width": null,
            "min_height": null,
            "min_width": null,
            "object_fit": null,
            "object_position": null,
            "order": null,
            "overflow": null,
            "overflow_x": null,
            "overflow_y": null,
            "padding": null,
            "right": null,
            "top": null,
            "visibility": null,
            "width": null
          }
        },
        "38b8f659a68049ae90bdb2db100e74e1": {
          "model_module": "@jupyter-widgets/base",
          "model_module_version": "1.2.0",
          "model_name": "LayoutModel",
          "state": {
            "_model_module": "@jupyter-widgets/base",
            "_model_module_version": "1.2.0",
            "_model_name": "LayoutModel",
            "_view_count": null,
            "_view_module": "@jupyter-widgets/base",
            "_view_module_version": "1.2.0",
            "_view_name": "LayoutView",
            "align_content": null,
            "align_items": null,
            "align_self": null,
            "border": null,
            "bottom": null,
            "display": null,
            "flex": null,
            "flex_flow": null,
            "grid_area": null,
            "grid_auto_columns": null,
            "grid_auto_flow": null,
            "grid_auto_rows": null,
            "grid_column": null,
            "grid_gap": null,
            "grid_row": null,
            "grid_template_areas": null,
            "grid_template_columns": null,
            "grid_template_rows": null,
            "height": null,
            "justify_content": null,
            "justify_items": null,
            "left": null,
            "margin": null,
            "max_height": null,
            "max_width": null,
            "min_height": null,
            "min_width": null,
            "object_fit": null,
            "object_position": null,
            "order": null,
            "overflow": null,
            "overflow_x": null,
            "overflow_y": null,
            "padding": null,
            "right": null,
            "top": null,
            "visibility": null,
            "width": null
          }
        },
        "3dc3b11a796843ee9949ee666ab8c03e": {
          "model_module": "@jupyter-widgets/base",
          "model_module_version": "1.2.0",
          "model_name": "LayoutModel",
          "state": {
            "_model_module": "@jupyter-widgets/base",
            "_model_module_version": "1.2.0",
            "_model_name": "LayoutModel",
            "_view_count": null,
            "_view_module": "@jupyter-widgets/base",
            "_view_module_version": "1.2.0",
            "_view_name": "LayoutView",
            "align_content": null,
            "align_items": null,
            "align_self": null,
            "border": null,
            "bottom": null,
            "display": null,
            "flex": null,
            "flex_flow": null,
            "grid_area": null,
            "grid_auto_columns": null,
            "grid_auto_flow": null,
            "grid_auto_rows": null,
            "grid_column": null,
            "grid_gap": null,
            "grid_row": null,
            "grid_template_areas": null,
            "grid_template_columns": null,
            "grid_template_rows": null,
            "height": null,
            "justify_content": null,
            "justify_items": null,
            "left": null,
            "margin": null,
            "max_height": null,
            "max_width": null,
            "min_height": null,
            "min_width": null,
            "object_fit": null,
            "object_position": null,
            "order": null,
            "overflow": null,
            "overflow_x": null,
            "overflow_y": null,
            "padding": null,
            "right": null,
            "top": null,
            "visibility": null,
            "width": null
          }
        },
        "4245c5e20931469db6315419e375e779": {
          "model_module": "@jupyter-widgets/base",
          "model_module_version": "1.2.0",
          "model_name": "LayoutModel",
          "state": {
            "_model_module": "@jupyter-widgets/base",
            "_model_module_version": "1.2.0",
            "_model_name": "LayoutModel",
            "_view_count": null,
            "_view_module": "@jupyter-widgets/base",
            "_view_module_version": "1.2.0",
            "_view_name": "LayoutView",
            "align_content": null,
            "align_items": null,
            "align_self": null,
            "border": null,
            "bottom": null,
            "display": null,
            "flex": null,
            "flex_flow": null,
            "grid_area": null,
            "grid_auto_columns": null,
            "grid_auto_flow": null,
            "grid_auto_rows": null,
            "grid_column": null,
            "grid_gap": null,
            "grid_row": null,
            "grid_template_areas": null,
            "grid_template_columns": null,
            "grid_template_rows": null,
            "height": null,
            "justify_content": null,
            "justify_items": null,
            "left": null,
            "margin": null,
            "max_height": null,
            "max_width": null,
            "min_height": null,
            "min_width": null,
            "object_fit": null,
            "object_position": null,
            "order": null,
            "overflow": null,
            "overflow_x": null,
            "overflow_y": null,
            "padding": null,
            "right": null,
            "top": null,
            "visibility": null,
            "width": null
          }
        },
        "47c657e04684418c92c17504b56c7fcd": {
          "model_module": "@jupyter-widgets/controls",
          "model_module_version": "1.5.0",
          "model_name": "LabelModel",
          "state": {
            "_dom_classes": [],
            "_model_module": "@jupyter-widgets/controls",
            "_model_module_version": "1.5.0",
            "_model_name": "LabelModel",
            "_view_count": null,
            "_view_module": "@jupyter-widgets/controls",
            "_view_module_version": "1.5.0",
            "_view_name": "LabelView",
            "description": "",
            "description_tooltip": null,
            "layout": "IPY_MODEL_d62973a3e52147efb07e6f7451a6caed",
            "placeholder": "​",
            "style": "IPY_MODEL_15d83053435a42d9aec9efa54106a197",
            "value": "0.011 MB of 0.011 MB uploaded\r"
          }
        },
        "4a30e8b99e1c42cba1a54f735c7cad00": {
          "model_module": "@jupyter-widgets/base",
          "model_module_version": "1.2.0",
          "model_name": "LayoutModel",
          "state": {
            "_model_module": "@jupyter-widgets/base",
            "_model_module_version": "1.2.0",
            "_model_name": "LayoutModel",
            "_view_count": null,
            "_view_module": "@jupyter-widgets/base",
            "_view_module_version": "1.2.0",
            "_view_name": "LayoutView",
            "align_content": null,
            "align_items": null,
            "align_self": null,
            "border": null,
            "bottom": null,
            "display": null,
            "flex": null,
            "flex_flow": null,
            "grid_area": null,
            "grid_auto_columns": null,
            "grid_auto_flow": null,
            "grid_auto_rows": null,
            "grid_column": null,
            "grid_gap": null,
            "grid_row": null,
            "grid_template_areas": null,
            "grid_template_columns": null,
            "grid_template_rows": null,
            "height": null,
            "justify_content": null,
            "justify_items": null,
            "left": null,
            "margin": null,
            "max_height": null,
            "max_width": null,
            "min_height": null,
            "min_width": null,
            "object_fit": null,
            "object_position": null,
            "order": null,
            "overflow": null,
            "overflow_x": null,
            "overflow_y": null,
            "padding": null,
            "right": null,
            "top": null,
            "visibility": null,
            "width": null
          }
        },
        "4a3d1438408545fe9c90db50d3536b94": {
          "model_module": "@jupyter-widgets/controls",
          "model_module_version": "1.5.0",
          "model_name": "ProgressStyleModel",
          "state": {
            "_model_module": "@jupyter-widgets/controls",
            "_model_module_version": "1.5.0",
            "_model_name": "ProgressStyleModel",
            "_view_count": null,
            "_view_module": "@jupyter-widgets/base",
            "_view_module_version": "1.2.0",
            "_view_name": "StyleView",
            "bar_color": null,
            "description_width": ""
          }
        },
        "4a44a4163cdb42d8988d16989decc637": {
          "model_module": "@jupyter-widgets/base",
          "model_module_version": "1.2.0",
          "model_name": "LayoutModel",
          "state": {
            "_model_module": "@jupyter-widgets/base",
            "_model_module_version": "1.2.0",
            "_model_name": "LayoutModel",
            "_view_count": null,
            "_view_module": "@jupyter-widgets/base",
            "_view_module_version": "1.2.0",
            "_view_name": "LayoutView",
            "align_content": null,
            "align_items": null,
            "align_self": null,
            "border": null,
            "bottom": null,
            "display": null,
            "flex": null,
            "flex_flow": null,
            "grid_area": null,
            "grid_auto_columns": null,
            "grid_auto_flow": null,
            "grid_auto_rows": null,
            "grid_column": null,
            "grid_gap": null,
            "grid_row": null,
            "grid_template_areas": null,
            "grid_template_columns": null,
            "grid_template_rows": null,
            "height": null,
            "justify_content": null,
            "justify_items": null,
            "left": null,
            "margin": null,
            "max_height": null,
            "max_width": null,
            "min_height": null,
            "min_width": null,
            "object_fit": null,
            "object_position": null,
            "order": null,
            "overflow": null,
            "overflow_x": null,
            "overflow_y": null,
            "padding": null,
            "right": null,
            "top": null,
            "visibility": null,
            "width": null
          }
        },
        "4cda7d7e926d4e9d941b5f5b0d5d0414": {
          "model_module": "@jupyter-widgets/controls",
          "model_module_version": "1.5.0",
          "model_name": "LabelModel",
          "state": {
            "_dom_classes": [],
            "_model_module": "@jupyter-widgets/controls",
            "_model_module_version": "1.5.0",
            "_model_name": "LabelModel",
            "_view_count": null,
            "_view_module": "@jupyter-widgets/controls",
            "_view_module_version": "1.5.0",
            "_view_name": "LabelView",
            "description": "",
            "description_tooltip": null,
            "layout": "IPY_MODEL_4a44a4163cdb42d8988d16989decc637",
            "placeholder": "​",
            "style": "IPY_MODEL_dabb06dc44254272bf2a8ce0b6e0e86a",
            "value": "0.011 MB of 0.011 MB uploaded\r"
          }
        },
        "50f4cfb6f4cb422580a35facd55abb83": {
          "model_module": "@jupyter-widgets/controls",
          "model_module_version": "1.5.0",
          "model_name": "FloatProgressModel",
          "state": {
            "_dom_classes": [],
            "_model_module": "@jupyter-widgets/controls",
            "_model_module_version": "1.5.0",
            "_model_name": "FloatProgressModel",
            "_view_count": null,
            "_view_module": "@jupyter-widgets/controls",
            "_view_module_version": "1.5.0",
            "_view_name": "ProgressView",
            "bar_style": "",
            "description": "",
            "description_tooltip": null,
            "layout": "IPY_MODEL_38b8f659a68049ae90bdb2db100e74e1",
            "max": 1,
            "min": 0,
            "orientation": "horizontal",
            "style": "IPY_MODEL_10baeedd642a4715adf795dbe46b22ed",
            "value": 1
          }
        },
        "5b0e4cddef14416e96e4403821b4c4d6": {
          "model_module": "@jupyter-widgets/controls",
          "model_module_version": "1.5.0",
          "model_name": "VBoxModel",
          "state": {
            "_dom_classes": [],
            "_model_module": "@jupyter-widgets/controls",
            "_model_module_version": "1.5.0",
            "_model_name": "VBoxModel",
            "_view_count": null,
            "_view_module": "@jupyter-widgets/controls",
            "_view_module_version": "1.5.0",
            "_view_name": "VBoxView",
            "box_style": "",
            "children": [
              "IPY_MODEL_2827b16a0d5e4683b8d41cc855fecad6",
              "IPY_MODEL_a68debb545bd4d0fa727be16ccb5da8a"
            ],
            "layout": "IPY_MODEL_6ad70aa6bbf3474c983d77620c25a413"
          }
        },
        "5c9f7edfe2474654a23d525fb4cca056": {
          "model_module": "@jupyter-widgets/base",
          "model_module_version": "1.2.0",
          "model_name": "LayoutModel",
          "state": {
            "_model_module": "@jupyter-widgets/base",
            "_model_module_version": "1.2.0",
            "_model_name": "LayoutModel",
            "_view_count": null,
            "_view_module": "@jupyter-widgets/base",
            "_view_module_version": "1.2.0",
            "_view_name": "LayoutView",
            "align_content": null,
            "align_items": null,
            "align_self": null,
            "border": null,
            "bottom": null,
            "display": null,
            "flex": null,
            "flex_flow": null,
            "grid_area": null,
            "grid_auto_columns": null,
            "grid_auto_flow": null,
            "grid_auto_rows": null,
            "grid_column": null,
            "grid_gap": null,
            "grid_row": null,
            "grid_template_areas": null,
            "grid_template_columns": null,
            "grid_template_rows": null,
            "height": null,
            "justify_content": null,
            "justify_items": null,
            "left": null,
            "margin": null,
            "max_height": null,
            "max_width": null,
            "min_height": null,
            "min_width": null,
            "object_fit": null,
            "object_position": null,
            "order": null,
            "overflow": null,
            "overflow_x": null,
            "overflow_y": null,
            "padding": null,
            "right": null,
            "top": null,
            "visibility": null,
            "width": null
          }
        },
        "60ce323616b745168380cf39127d53b6": {
          "model_module": "@jupyter-widgets/controls",
          "model_module_version": "1.5.0",
          "model_name": "DescriptionStyleModel",
          "state": {
            "_model_module": "@jupyter-widgets/controls",
            "_model_module_version": "1.5.0",
            "_model_name": "DescriptionStyleModel",
            "_view_count": null,
            "_view_module": "@jupyter-widgets/base",
            "_view_module_version": "1.2.0",
            "_view_name": "StyleView",
            "description_width": ""
          }
        },
        "6414f656b44e47f0b68df29938bf78d4": {
          "model_module": "@jupyter-widgets/controls",
          "model_module_version": "1.5.0",
          "model_name": "LabelModel",
          "state": {
            "_dom_classes": [],
            "_model_module": "@jupyter-widgets/controls",
            "_model_module_version": "1.5.0",
            "_model_name": "LabelModel",
            "_view_count": null,
            "_view_module": "@jupyter-widgets/controls",
            "_view_module_version": "1.5.0",
            "_view_name": "LabelView",
            "description": "",
            "description_tooltip": null,
            "layout": "IPY_MODEL_5c9f7edfe2474654a23d525fb4cca056",
            "placeholder": "​",
            "style": "IPY_MODEL_d3e42a779f2a4b97a26ab99dfc514691",
            "value": "0.011 MB of 0.011 MB uploaded\r"
          }
        },
        "6ad70aa6bbf3474c983d77620c25a413": {
          "model_module": "@jupyter-widgets/base",
          "model_module_version": "1.2.0",
          "model_name": "LayoutModel",
          "state": {
            "_model_module": "@jupyter-widgets/base",
            "_model_module_version": "1.2.0",
            "_model_name": "LayoutModel",
            "_view_count": null,
            "_view_module": "@jupyter-widgets/base",
            "_view_module_version": "1.2.0",
            "_view_name": "LayoutView",
            "align_content": null,
            "align_items": null,
            "align_self": null,
            "border": null,
            "bottom": null,
            "display": null,
            "flex": null,
            "flex_flow": null,
            "grid_area": null,
            "grid_auto_columns": null,
            "grid_auto_flow": null,
            "grid_auto_rows": null,
            "grid_column": null,
            "grid_gap": null,
            "grid_row": null,
            "grid_template_areas": null,
            "grid_template_columns": null,
            "grid_template_rows": null,
            "height": null,
            "justify_content": null,
            "justify_items": null,
            "left": null,
            "margin": null,
            "max_height": null,
            "max_width": null,
            "min_height": null,
            "min_width": null,
            "object_fit": null,
            "object_position": null,
            "order": null,
            "overflow": null,
            "overflow_x": null,
            "overflow_y": null,
            "padding": null,
            "right": null,
            "top": null,
            "visibility": null,
            "width": null
          }
        },
        "6b404a93a9d24198b9cc91a774ebf06f": {
          "model_module": "@jupyter-widgets/controls",
          "model_module_version": "1.5.0",
          "model_name": "LabelModel",
          "state": {
            "_dom_classes": [],
            "_model_module": "@jupyter-widgets/controls",
            "_model_module_version": "1.5.0",
            "_model_name": "LabelModel",
            "_view_count": null,
            "_view_module": "@jupyter-widgets/controls",
            "_view_module_version": "1.5.0",
            "_view_name": "LabelView",
            "description": "",
            "description_tooltip": null,
            "layout": "IPY_MODEL_d667473a3e514601993953ae6b4a1596",
            "placeholder": "​",
            "style": "IPY_MODEL_60ce323616b745168380cf39127d53b6",
            "value": "0.011 MB of 0.011 MB uploaded\r"
          }
        },
        "70e4655867324158b03f5f0e183ff34b": {
          "model_module": "@jupyter-widgets/controls",
          "model_module_version": "1.5.0",
          "model_name": "LabelModel",
          "state": {
            "_dom_classes": [],
            "_model_module": "@jupyter-widgets/controls",
            "_model_module_version": "1.5.0",
            "_model_name": "LabelModel",
            "_view_count": null,
            "_view_module": "@jupyter-widgets/controls",
            "_view_module_version": "1.5.0",
            "_view_name": "LabelView",
            "description": "",
            "description_tooltip": null,
            "layout": "IPY_MODEL_99d8373d8a7c4f0cbb508662c7ce0892",
            "placeholder": "​",
            "style": "IPY_MODEL_74950ec59cbf436797093429cab9d0e5",
            "value": "0.015 MB of 0.015 MB uploaded\r"
          }
        },
        "73a029eeab2b44a4a10b4268c9d00576": {
          "model_module": "@jupyter-widgets/base",
          "model_module_version": "1.2.0",
          "model_name": "LayoutModel",
          "state": {
            "_model_module": "@jupyter-widgets/base",
            "_model_module_version": "1.2.0",
            "_model_name": "LayoutModel",
            "_view_count": null,
            "_view_module": "@jupyter-widgets/base",
            "_view_module_version": "1.2.0",
            "_view_name": "LayoutView",
            "align_content": null,
            "align_items": null,
            "align_self": null,
            "border": null,
            "bottom": null,
            "display": null,
            "flex": null,
            "flex_flow": null,
            "grid_area": null,
            "grid_auto_columns": null,
            "grid_auto_flow": null,
            "grid_auto_rows": null,
            "grid_column": null,
            "grid_gap": null,
            "grid_row": null,
            "grid_template_areas": null,
            "grid_template_columns": null,
            "grid_template_rows": null,
            "height": null,
            "justify_content": null,
            "justify_items": null,
            "left": null,
            "margin": null,
            "max_height": null,
            "max_width": null,
            "min_height": null,
            "min_width": null,
            "object_fit": null,
            "object_position": null,
            "order": null,
            "overflow": null,
            "overflow_x": null,
            "overflow_y": null,
            "padding": null,
            "right": null,
            "top": null,
            "visibility": null,
            "width": null
          }
        },
        "74950ec59cbf436797093429cab9d0e5": {
          "model_module": "@jupyter-widgets/controls",
          "model_module_version": "1.5.0",
          "model_name": "DescriptionStyleModel",
          "state": {
            "_model_module": "@jupyter-widgets/controls",
            "_model_module_version": "1.5.0",
            "_model_name": "DescriptionStyleModel",
            "_view_count": null,
            "_view_module": "@jupyter-widgets/base",
            "_view_module_version": "1.2.0",
            "_view_name": "StyleView",
            "description_width": ""
          }
        },
        "77b08f0c8a0945d894dc810996b06a23": {
          "model_module": "@jupyter-widgets/base",
          "model_module_version": "1.2.0",
          "model_name": "LayoutModel",
          "state": {
            "_model_module": "@jupyter-widgets/base",
            "_model_module_version": "1.2.0",
            "_model_name": "LayoutModel",
            "_view_count": null,
            "_view_module": "@jupyter-widgets/base",
            "_view_module_version": "1.2.0",
            "_view_name": "LayoutView",
            "align_content": null,
            "align_items": null,
            "align_self": null,
            "border": null,
            "bottom": null,
            "display": null,
            "flex": null,
            "flex_flow": null,
            "grid_area": null,
            "grid_auto_columns": null,
            "grid_auto_flow": null,
            "grid_auto_rows": null,
            "grid_column": null,
            "grid_gap": null,
            "grid_row": null,
            "grid_template_areas": null,
            "grid_template_columns": null,
            "grid_template_rows": null,
            "height": null,
            "justify_content": null,
            "justify_items": null,
            "left": null,
            "margin": null,
            "max_height": null,
            "max_width": null,
            "min_height": null,
            "min_width": null,
            "object_fit": null,
            "object_position": null,
            "order": null,
            "overflow": null,
            "overflow_x": null,
            "overflow_y": null,
            "padding": null,
            "right": null,
            "top": null,
            "visibility": null,
            "width": null
          }
        },
        "823afb76297e4829bcf1ceb3ad6ed743": {
          "model_module": "@jupyter-widgets/base",
          "model_module_version": "1.2.0",
          "model_name": "LayoutModel",
          "state": {
            "_model_module": "@jupyter-widgets/base",
            "_model_module_version": "1.2.0",
            "_model_name": "LayoutModel",
            "_view_count": null,
            "_view_module": "@jupyter-widgets/base",
            "_view_module_version": "1.2.0",
            "_view_name": "LayoutView",
            "align_content": null,
            "align_items": null,
            "align_self": null,
            "border": null,
            "bottom": null,
            "display": null,
            "flex": null,
            "flex_flow": null,
            "grid_area": null,
            "grid_auto_columns": null,
            "grid_auto_flow": null,
            "grid_auto_rows": null,
            "grid_column": null,
            "grid_gap": null,
            "grid_row": null,
            "grid_template_areas": null,
            "grid_template_columns": null,
            "grid_template_rows": null,
            "height": null,
            "justify_content": null,
            "justify_items": null,
            "left": null,
            "margin": null,
            "max_height": null,
            "max_width": null,
            "min_height": null,
            "min_width": null,
            "object_fit": null,
            "object_position": null,
            "order": null,
            "overflow": null,
            "overflow_x": null,
            "overflow_y": null,
            "padding": null,
            "right": null,
            "top": null,
            "visibility": null,
            "width": null
          }
        },
        "83749532e21440d6bfe471b6e14feaa7": {
          "model_module": "@jupyter-widgets/controls",
          "model_module_version": "1.5.0",
          "model_name": "VBoxModel",
          "state": {
            "_dom_classes": [],
            "_model_module": "@jupyter-widgets/controls",
            "_model_module_version": "1.5.0",
            "_model_name": "VBoxModel",
            "_view_count": null,
            "_view_module": "@jupyter-widgets/controls",
            "_view_module_version": "1.5.0",
            "_view_name": "VBoxView",
            "box_style": "",
            "children": [
              "IPY_MODEL_98a77424141e49e4ba77c8c77cd55ad4",
              "IPY_MODEL_85bd64b182d0435884cdaf3be5e1818c"
            ],
            "layout": "IPY_MODEL_1124dce38c5c4915b12db0ebfb5fa8fa"
          }
        },
        "85bd64b182d0435884cdaf3be5e1818c": {
          "model_module": "@jupyter-widgets/controls",
          "model_module_version": "1.5.0",
          "model_name": "FloatProgressModel",
          "state": {
            "_dom_classes": [],
            "_model_module": "@jupyter-widgets/controls",
            "_model_module_version": "1.5.0",
            "_model_name": "FloatProgressModel",
            "_view_count": null,
            "_view_module": "@jupyter-widgets/controls",
            "_view_module_version": "1.5.0",
            "_view_name": "ProgressView",
            "bar_style": "",
            "description": "",
            "description_tooltip": null,
            "layout": "IPY_MODEL_3dc3b11a796843ee9949ee666ab8c03e",
            "max": 1,
            "min": 0,
            "orientation": "horizontal",
            "style": "IPY_MODEL_17bfa5ccbea14bab917f4902a8364fe9",
            "value": 1
          }
        },
        "87b06e128b47493380d460844f7b7536": {
          "model_module": "@jupyter-widgets/controls",
          "model_module_version": "1.5.0",
          "model_name": "VBoxModel",
          "state": {
            "_dom_classes": [],
            "_model_module": "@jupyter-widgets/controls",
            "_model_module_version": "1.5.0",
            "_model_name": "VBoxModel",
            "_view_count": null,
            "_view_module": "@jupyter-widgets/controls",
            "_view_module_version": "1.5.0",
            "_view_name": "VBoxView",
            "box_style": "",
            "children": [
              "IPY_MODEL_47c657e04684418c92c17504b56c7fcd",
              "IPY_MODEL_50f4cfb6f4cb422580a35facd55abb83"
            ],
            "layout": "IPY_MODEL_823afb76297e4829bcf1ceb3ad6ed743"
          }
        },
        "8d4a249a6cb84c1884787f2f5a9b5ddc": {
          "model_module": "@jupyter-widgets/base",
          "model_module_version": "1.2.0",
          "model_name": "LayoutModel",
          "state": {
            "_model_module": "@jupyter-widgets/base",
            "_model_module_version": "1.2.0",
            "_model_name": "LayoutModel",
            "_view_count": null,
            "_view_module": "@jupyter-widgets/base",
            "_view_module_version": "1.2.0",
            "_view_name": "LayoutView",
            "align_content": null,
            "align_items": null,
            "align_self": null,
            "border": null,
            "bottom": null,
            "display": null,
            "flex": null,
            "flex_flow": null,
            "grid_area": null,
            "grid_auto_columns": null,
            "grid_auto_flow": null,
            "grid_auto_rows": null,
            "grid_column": null,
            "grid_gap": null,
            "grid_row": null,
            "grid_template_areas": null,
            "grid_template_columns": null,
            "grid_template_rows": null,
            "height": null,
            "justify_content": null,
            "justify_items": null,
            "left": null,
            "margin": null,
            "max_height": null,
            "max_width": null,
            "min_height": null,
            "min_width": null,
            "object_fit": null,
            "object_position": null,
            "order": null,
            "overflow": null,
            "overflow_x": null,
            "overflow_y": null,
            "padding": null,
            "right": null,
            "top": null,
            "visibility": null,
            "width": null
          }
        },
        "932e08bf497e490998c9f1bc75c7592b": {
          "model_module": "@jupyter-widgets/base",
          "model_module_version": "1.2.0",
          "model_name": "LayoutModel",
          "state": {
            "_model_module": "@jupyter-widgets/base",
            "_model_module_version": "1.2.0",
            "_model_name": "LayoutModel",
            "_view_count": null,
            "_view_module": "@jupyter-widgets/base",
            "_view_module_version": "1.2.0",
            "_view_name": "LayoutView",
            "align_content": null,
            "align_items": null,
            "align_self": null,
            "border": null,
            "bottom": null,
            "display": null,
            "flex": null,
            "flex_flow": null,
            "grid_area": null,
            "grid_auto_columns": null,
            "grid_auto_flow": null,
            "grid_auto_rows": null,
            "grid_column": null,
            "grid_gap": null,
            "grid_row": null,
            "grid_template_areas": null,
            "grid_template_columns": null,
            "grid_template_rows": null,
            "height": null,
            "justify_content": null,
            "justify_items": null,
            "left": null,
            "margin": null,
            "max_height": null,
            "max_width": null,
            "min_height": null,
            "min_width": null,
            "object_fit": null,
            "object_position": null,
            "order": null,
            "overflow": null,
            "overflow_x": null,
            "overflow_y": null,
            "padding": null,
            "right": null,
            "top": null,
            "visibility": null,
            "width": null
          }
        },
        "9391ec4cf97748eab154532d17e3cc71": {
          "model_module": "@jupyter-widgets/controls",
          "model_module_version": "1.5.0",
          "model_name": "FloatProgressModel",
          "state": {
            "_dom_classes": [],
            "_model_module": "@jupyter-widgets/controls",
            "_model_module_version": "1.5.0",
            "_model_name": "FloatProgressModel",
            "_view_count": null,
            "_view_module": "@jupyter-widgets/controls",
            "_view_module_version": "1.5.0",
            "_view_name": "ProgressView",
            "bar_style": "",
            "description": "",
            "description_tooltip": null,
            "layout": "IPY_MODEL_337caf69bc3b417eb9fe556db1161d05",
            "max": 1,
            "min": 0,
            "orientation": "horizontal",
            "style": "IPY_MODEL_0b284fb4f7b54fbebc0ea21f92c7691f",
            "value": 1
          }
        },
        "98a77424141e49e4ba77c8c77cd55ad4": {
          "model_module": "@jupyter-widgets/controls",
          "model_module_version": "1.5.0",
          "model_name": "LabelModel",
          "state": {
            "_dom_classes": [],
            "_model_module": "@jupyter-widgets/controls",
            "_model_module_version": "1.5.0",
            "_model_name": "LabelModel",
            "_view_count": null,
            "_view_module": "@jupyter-widgets/controls",
            "_view_module_version": "1.5.0",
            "_view_name": "LabelView",
            "description": "",
            "description_tooltip": null,
            "layout": "IPY_MODEL_a63649f0ab054e6185b906607b809b15",
            "placeholder": "​",
            "style": "IPY_MODEL_1ef19d3b77e14f0d90e1e804577f0f14",
            "value": "0.011 MB of 0.011 MB uploaded\r"
          }
        },
        "99d8373d8a7c4f0cbb508662c7ce0892": {
          "model_module": "@jupyter-widgets/base",
          "model_module_version": "1.2.0",
          "model_name": "LayoutModel",
          "state": {
            "_model_module": "@jupyter-widgets/base",
            "_model_module_version": "1.2.0",
            "_model_name": "LayoutModel",
            "_view_count": null,
            "_view_module": "@jupyter-widgets/base",
            "_view_module_version": "1.2.0",
            "_view_name": "LayoutView",
            "align_content": null,
            "align_items": null,
            "align_self": null,
            "border": null,
            "bottom": null,
            "display": null,
            "flex": null,
            "flex_flow": null,
            "grid_area": null,
            "grid_auto_columns": null,
            "grid_auto_flow": null,
            "grid_auto_rows": null,
            "grid_column": null,
            "grid_gap": null,
            "grid_row": null,
            "grid_template_areas": null,
            "grid_template_columns": null,
            "grid_template_rows": null,
            "height": null,
            "justify_content": null,
            "justify_items": null,
            "left": null,
            "margin": null,
            "max_height": null,
            "max_width": null,
            "min_height": null,
            "min_width": null,
            "object_fit": null,
            "object_position": null,
            "order": null,
            "overflow": null,
            "overflow_x": null,
            "overflow_y": null,
            "padding": null,
            "right": null,
            "top": null,
            "visibility": null,
            "width": null
          }
        },
        "a1089c5752f34aa580908b56a5c9cea0": {
          "model_module": "@jupyter-widgets/controls",
          "model_module_version": "1.5.0",
          "model_name": "DescriptionStyleModel",
          "state": {
            "_model_module": "@jupyter-widgets/controls",
            "_model_module_version": "1.5.0",
            "_model_name": "DescriptionStyleModel",
            "_view_count": null,
            "_view_module": "@jupyter-widgets/base",
            "_view_module_version": "1.2.0",
            "_view_name": "StyleView",
            "description_width": ""
          }
        },
        "a3575caec14346eab28ae9586124c391": {
          "model_module": "@jupyter-widgets/controls",
          "model_module_version": "1.5.0",
          "model_name": "VBoxModel",
          "state": {
            "_dom_classes": [],
            "_model_module": "@jupyter-widgets/controls",
            "_model_module_version": "1.5.0",
            "_model_name": "VBoxModel",
            "_view_count": null,
            "_view_module": "@jupyter-widgets/controls",
            "_view_module_version": "1.5.0",
            "_view_name": "VBoxView",
            "box_style": "",
            "children": [
              "IPY_MODEL_6414f656b44e47f0b68df29938bf78d4",
              "IPY_MODEL_f85f30b8a0ce401da5845329aa6f9418"
            ],
            "layout": "IPY_MODEL_932e08bf497e490998c9f1bc75c7592b"
          }
        },
        "a63649f0ab054e6185b906607b809b15": {
          "model_module": "@jupyter-widgets/base",
          "model_module_version": "1.2.0",
          "model_name": "LayoutModel",
          "state": {
            "_model_module": "@jupyter-widgets/base",
            "_model_module_version": "1.2.0",
            "_model_name": "LayoutModel",
            "_view_count": null,
            "_view_module": "@jupyter-widgets/base",
            "_view_module_version": "1.2.0",
            "_view_name": "LayoutView",
            "align_content": null,
            "align_items": null,
            "align_self": null,
            "border": null,
            "bottom": null,
            "display": null,
            "flex": null,
            "flex_flow": null,
            "grid_area": null,
            "grid_auto_columns": null,
            "grid_auto_flow": null,
            "grid_auto_rows": null,
            "grid_column": null,
            "grid_gap": null,
            "grid_row": null,
            "grid_template_areas": null,
            "grid_template_columns": null,
            "grid_template_rows": null,
            "height": null,
            "justify_content": null,
            "justify_items": null,
            "left": null,
            "margin": null,
            "max_height": null,
            "max_width": null,
            "min_height": null,
            "min_width": null,
            "object_fit": null,
            "object_position": null,
            "order": null,
            "overflow": null,
            "overflow_x": null,
            "overflow_y": null,
            "padding": null,
            "right": null,
            "top": null,
            "visibility": null,
            "width": null
          }
        },
        "a68debb545bd4d0fa727be16ccb5da8a": {
          "model_module": "@jupyter-widgets/controls",
          "model_module_version": "1.5.0",
          "model_name": "FloatProgressModel",
          "state": {
            "_dom_classes": [],
            "_model_module": "@jupyter-widgets/controls",
            "_model_module_version": "1.5.0",
            "_model_name": "FloatProgressModel",
            "_view_count": null,
            "_view_module": "@jupyter-widgets/controls",
            "_view_module_version": "1.5.0",
            "_view_name": "ProgressView",
            "bar_style": "",
            "description": "",
            "description_tooltip": null,
            "layout": "IPY_MODEL_ba221749679d47c0aa3d8d437f701323",
            "max": 1,
            "min": 0,
            "orientation": "horizontal",
            "style": "IPY_MODEL_4a3d1438408545fe9c90db50d3536b94",
            "value": 1
          }
        },
        "ae5ddc5f607f4f308367763d3ce7cb32": {
          "model_module": "@jupyter-widgets/controls",
          "model_module_version": "1.5.0",
          "model_name": "FloatProgressModel",
          "state": {
            "_dom_classes": [],
            "_model_module": "@jupyter-widgets/controls",
            "_model_module_version": "1.5.0",
            "_model_name": "FloatProgressModel",
            "_view_count": null,
            "_view_module": "@jupyter-widgets/controls",
            "_view_module_version": "1.5.0",
            "_view_name": "ProgressView",
            "bar_style": "",
            "description": "",
            "description_tooltip": null,
            "layout": "IPY_MODEL_73a029eeab2b44a4a10b4268c9d00576",
            "max": 1,
            "min": 0,
            "orientation": "horizontal",
            "style": "IPY_MODEL_c0b1a51dd8c041de9e0b64a70a4d4869",
            "value": 1
          }
        },
        "b70744f8ca2642d6980d5600b5916bad": {
          "model_module": "@jupyter-widgets/controls",
          "model_module_version": "1.5.0",
          "model_name": "VBoxModel",
          "state": {
            "_dom_classes": [],
            "_model_module": "@jupyter-widgets/controls",
            "_model_module_version": "1.5.0",
            "_model_name": "VBoxModel",
            "_view_count": null,
            "_view_module": "@jupyter-widgets/controls",
            "_view_module_version": "1.5.0",
            "_view_name": "VBoxView",
            "box_style": "",
            "children": [
              "IPY_MODEL_70e4655867324158b03f5f0e183ff34b",
              "IPY_MODEL_e7e983d714f8483f90a6df3401ab3848"
            ],
            "layout": "IPY_MODEL_16238080b49147688abb1f8903092c4d"
          }
        },
        "b7b9d332c2214f56892c22a87a67b8b8": {
          "model_module": "@jupyter-widgets/base",
          "model_module_version": "1.2.0",
          "model_name": "LayoutModel",
          "state": {
            "_model_module": "@jupyter-widgets/base",
            "_model_module_version": "1.2.0",
            "_model_name": "LayoutModel",
            "_view_count": null,
            "_view_module": "@jupyter-widgets/base",
            "_view_module_version": "1.2.0",
            "_view_name": "LayoutView",
            "align_content": null,
            "align_items": null,
            "align_self": null,
            "border": null,
            "bottom": null,
            "display": null,
            "flex": null,
            "flex_flow": null,
            "grid_area": null,
            "grid_auto_columns": null,
            "grid_auto_flow": null,
            "grid_auto_rows": null,
            "grid_column": null,
            "grid_gap": null,
            "grid_row": null,
            "grid_template_areas": null,
            "grid_template_columns": null,
            "grid_template_rows": null,
            "height": null,
            "justify_content": null,
            "justify_items": null,
            "left": null,
            "margin": null,
            "max_height": null,
            "max_width": null,
            "min_height": null,
            "min_width": null,
            "object_fit": null,
            "object_position": null,
            "order": null,
            "overflow": null,
            "overflow_x": null,
            "overflow_y": null,
            "padding": null,
            "right": null,
            "top": null,
            "visibility": null,
            "width": null
          }
        },
        "ba221749679d47c0aa3d8d437f701323": {
          "model_module": "@jupyter-widgets/base",
          "model_module_version": "1.2.0",
          "model_name": "LayoutModel",
          "state": {
            "_model_module": "@jupyter-widgets/base",
            "_model_module_version": "1.2.0",
            "_model_name": "LayoutModel",
            "_view_count": null,
            "_view_module": "@jupyter-widgets/base",
            "_view_module_version": "1.2.0",
            "_view_name": "LayoutView",
            "align_content": null,
            "align_items": null,
            "align_self": null,
            "border": null,
            "bottom": null,
            "display": null,
            "flex": null,
            "flex_flow": null,
            "grid_area": null,
            "grid_auto_columns": null,
            "grid_auto_flow": null,
            "grid_auto_rows": null,
            "grid_column": null,
            "grid_gap": null,
            "grid_row": null,
            "grid_template_areas": null,
            "grid_template_columns": null,
            "grid_template_rows": null,
            "height": null,
            "justify_content": null,
            "justify_items": null,
            "left": null,
            "margin": null,
            "max_height": null,
            "max_width": null,
            "min_height": null,
            "min_width": null,
            "object_fit": null,
            "object_position": null,
            "order": null,
            "overflow": null,
            "overflow_x": null,
            "overflow_y": null,
            "padding": null,
            "right": null,
            "top": null,
            "visibility": null,
            "width": null
          }
        },
        "c0b1a51dd8c041de9e0b64a70a4d4869": {
          "model_module": "@jupyter-widgets/controls",
          "model_module_version": "1.5.0",
          "model_name": "ProgressStyleModel",
          "state": {
            "_model_module": "@jupyter-widgets/controls",
            "_model_module_version": "1.5.0",
            "_model_name": "ProgressStyleModel",
            "_view_count": null,
            "_view_module": "@jupyter-widgets/base",
            "_view_module_version": "1.2.0",
            "_view_name": "StyleView",
            "bar_color": null,
            "description_width": ""
          }
        },
        "d3e42a779f2a4b97a26ab99dfc514691": {
          "model_module": "@jupyter-widgets/controls",
          "model_module_version": "1.5.0",
          "model_name": "DescriptionStyleModel",
          "state": {
            "_model_module": "@jupyter-widgets/controls",
            "_model_module_version": "1.5.0",
            "_model_name": "DescriptionStyleModel",
            "_view_count": null,
            "_view_module": "@jupyter-widgets/base",
            "_view_module_version": "1.2.0",
            "_view_name": "StyleView",
            "description_width": ""
          }
        },
        "d62973a3e52147efb07e6f7451a6caed": {
          "model_module": "@jupyter-widgets/base",
          "model_module_version": "1.2.0",
          "model_name": "LayoutModel",
          "state": {
            "_model_module": "@jupyter-widgets/base",
            "_model_module_version": "1.2.0",
            "_model_name": "LayoutModel",
            "_view_count": null,
            "_view_module": "@jupyter-widgets/base",
            "_view_module_version": "1.2.0",
            "_view_name": "LayoutView",
            "align_content": null,
            "align_items": null,
            "align_self": null,
            "border": null,
            "bottom": null,
            "display": null,
            "flex": null,
            "flex_flow": null,
            "grid_area": null,
            "grid_auto_columns": null,
            "grid_auto_flow": null,
            "grid_auto_rows": null,
            "grid_column": null,
            "grid_gap": null,
            "grid_row": null,
            "grid_template_areas": null,
            "grid_template_columns": null,
            "grid_template_rows": null,
            "height": null,
            "justify_content": null,
            "justify_items": null,
            "left": null,
            "margin": null,
            "max_height": null,
            "max_width": null,
            "min_height": null,
            "min_width": null,
            "object_fit": null,
            "object_position": null,
            "order": null,
            "overflow": null,
            "overflow_x": null,
            "overflow_y": null,
            "padding": null,
            "right": null,
            "top": null,
            "visibility": null,
            "width": null
          }
        },
        "d667473a3e514601993953ae6b4a1596": {
          "model_module": "@jupyter-widgets/base",
          "model_module_version": "1.2.0",
          "model_name": "LayoutModel",
          "state": {
            "_model_module": "@jupyter-widgets/base",
            "_model_module_version": "1.2.0",
            "_model_name": "LayoutModel",
            "_view_count": null,
            "_view_module": "@jupyter-widgets/base",
            "_view_module_version": "1.2.0",
            "_view_name": "LayoutView",
            "align_content": null,
            "align_items": null,
            "align_self": null,
            "border": null,
            "bottom": null,
            "display": null,
            "flex": null,
            "flex_flow": null,
            "grid_area": null,
            "grid_auto_columns": null,
            "grid_auto_flow": null,
            "grid_auto_rows": null,
            "grid_column": null,
            "grid_gap": null,
            "grid_row": null,
            "grid_template_areas": null,
            "grid_template_columns": null,
            "grid_template_rows": null,
            "height": null,
            "justify_content": null,
            "justify_items": null,
            "left": null,
            "margin": null,
            "max_height": null,
            "max_width": null,
            "min_height": null,
            "min_width": null,
            "object_fit": null,
            "object_position": null,
            "order": null,
            "overflow": null,
            "overflow_x": null,
            "overflow_y": null,
            "padding": null,
            "right": null,
            "top": null,
            "visibility": null,
            "width": null
          }
        },
        "dabb06dc44254272bf2a8ce0b6e0e86a": {
          "model_module": "@jupyter-widgets/controls",
          "model_module_version": "1.5.0",
          "model_name": "DescriptionStyleModel",
          "state": {
            "_model_module": "@jupyter-widgets/controls",
            "_model_module_version": "1.5.0",
            "_model_name": "DescriptionStyleModel",
            "_view_count": null,
            "_view_module": "@jupyter-widgets/base",
            "_view_module_version": "1.2.0",
            "_view_name": "StyleView",
            "description_width": ""
          }
        },
        "de93de5395ed4ddf9be3094bfdced157": {
          "model_module": "@jupyter-widgets/controls",
          "model_module_version": "1.5.0",
          "model_name": "ProgressStyleModel",
          "state": {
            "_model_module": "@jupyter-widgets/controls",
            "_model_module_version": "1.5.0",
            "_model_name": "ProgressStyleModel",
            "_view_count": null,
            "_view_module": "@jupyter-widgets/base",
            "_view_module_version": "1.2.0",
            "_view_name": "StyleView",
            "bar_color": null,
            "description_width": ""
          }
        },
        "e2d8846b3d9344d0a51c6117de8b90b2": {
          "model_module": "@jupyter-widgets/controls",
          "model_module_version": "1.5.0",
          "model_name": "VBoxModel",
          "state": {
            "_dom_classes": [],
            "_model_module": "@jupyter-widgets/controls",
            "_model_module_version": "1.5.0",
            "_model_name": "VBoxModel",
            "_view_count": null,
            "_view_module": "@jupyter-widgets/controls",
            "_view_module_version": "1.5.0",
            "_view_name": "VBoxView",
            "box_style": "",
            "children": [
              "IPY_MODEL_6b404a93a9d24198b9cc91a774ebf06f",
              "IPY_MODEL_ae5ddc5f607f4f308367763d3ce7cb32"
            ],
            "layout": "IPY_MODEL_4a30e8b99e1c42cba1a54f735c7cad00"
          }
        },
        "e7e983d714f8483f90a6df3401ab3848": {
          "model_module": "@jupyter-widgets/controls",
          "model_module_version": "1.5.0",
          "model_name": "FloatProgressModel",
          "state": {
            "_dom_classes": [],
            "_model_module": "@jupyter-widgets/controls",
            "_model_module_version": "1.5.0",
            "_model_name": "FloatProgressModel",
            "_view_count": null,
            "_view_module": "@jupyter-widgets/controls",
            "_view_module_version": "1.5.0",
            "_view_name": "ProgressView",
            "bar_style": "",
            "description": "",
            "description_tooltip": null,
            "layout": "IPY_MODEL_8d4a249a6cb84c1884787f2f5a9b5ddc",
            "max": 1,
            "min": 0,
            "orientation": "horizontal",
            "style": "IPY_MODEL_2894d6e7a55347fc866f686b3d1fd862",
            "value": 1
          }
        },
        "f85f30b8a0ce401da5845329aa6f9418": {
          "model_module": "@jupyter-widgets/controls",
          "model_module_version": "1.5.0",
          "model_name": "FloatProgressModel",
          "state": {
            "_dom_classes": [],
            "_model_module": "@jupyter-widgets/controls",
            "_model_module_version": "1.5.0",
            "_model_name": "FloatProgressModel",
            "_view_count": null,
            "_view_module": "@jupyter-widgets/controls",
            "_view_module_version": "1.5.0",
            "_view_name": "ProgressView",
            "bar_style": "",
            "description": "",
            "description_tooltip": null,
            "layout": "IPY_MODEL_4245c5e20931469db6315419e375e779",
            "max": 1,
            "min": 0,
            "orientation": "horizontal",
            "style": "IPY_MODEL_de93de5395ed4ddf9be3094bfdced157",
            "value": 1
          }
        }
      }
    }
  },
  "nbformat": 4,
  "nbformat_minor": 0
}
