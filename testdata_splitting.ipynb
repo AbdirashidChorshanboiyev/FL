{
 "cells": [
  {
   "cell_type": "code",
   "execution_count": null,
   "metadata": {},
   "outputs": [],
   "source": [
    "# Import libraries\n",
    "import torch\n",
    "from torchvision import datasets, transforms\n",
    "from torch.utils.data import DataLoader, Subset\n",
    "import matplotlib.pyplot as plt\n",
    "\n",
    "# Import custom data splitting module\n",
    "import data_splitting as ds  # Assuming the file is named 'data_splitting.py'\n",
    "\n",
    "# CIFAR-100 Dataset Preparation\n",
    "transform = transforms.Compose([\n",
    "    transforms.RandomCrop(32, padding=4),\n",
    "    transforms.RandomHorizontalFlip(),\n",
    "    transforms.ToTensor(),\n",
    "    transforms.Normalize((0.5071, 0.4865, 0.4409), (0.2673, 0.2564, 0.2761))\n",
    "])\n",
    "\n",
    "train_dataset = datasets.CIFAR100(root='./data', train=True, download=True, transform=transform)\n",
    "\n",
    "# IID Sharding\n",
    "num_clients = 100\n",
    "iid_clients = ds.iid_sharding(train_dataset, num_clients)\n",
    "print(\"IID Sharding Completed.\")\n",
    "\n",
    "# Non-IID Sharding\n",
    "Nc = 5  # Number of classes per client\n",
    "non_iid_clients = ds.non_iid_sharding(train_dataset, num_clients, Nc)\n",
    "print(\"Non-IID Sharding Completed.\")\n",
    "\n",
    "# Visualize Data Distribution (Optional)\n",
    "def plot_data_distribution(client_data, num_clients, title):\n",
    "    client_counts = [len(indices) for indices in client_data.values()]\n",
    "    plt.figure(figsize=(10, 6))\n",
    "    plt.bar(range(num_clients), client_counts)\n",
    "    plt.xlabel(\"Client ID\")\n",
    "    plt.ylabel(\"Number of Samples\")\n",
    "    plt.title(title)\n",
    "    plt.show()\n",
    "\n",
    "plot_data_distribution(iid_clients, num_clients, \"IID Data Distribution\")\n",
    "plot_data_distribution(non_iid_clients, num_clients, \"Non-IID Data Distribution\")\n"
   ]
  }
 ],
 "metadata": {
  "language_info": {
   "name": "python"
  }
 },
 "nbformat": 4,
 "nbformat_minor": 2
}
